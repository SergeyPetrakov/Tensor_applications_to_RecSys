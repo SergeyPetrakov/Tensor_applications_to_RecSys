{
 "cells": [
  {
   "cell_type": "markdown",
   "metadata": {},
   "source": [
    "# Import libraries"
   ]
  },
  {
   "cell_type": "code",
   "execution_count": 105,
   "metadata": {},
   "outputs": [],
   "source": [
    "#!pip install numba"
   ]
  },
  {
   "cell_type": "code",
   "execution_count": null,
   "metadata": {},
   "outputs": [],
   "source": [
    "import numpy as np\n",
    "import pandas as pd\n",
    "import matplotlib.pyplot as plt\n",
    "\n",
    "# We will use polara framework\n",
    "from polara import get_movielens_data\n",
    "from polara.preprocessing.dataframes import leave_one_out, reindex\n",
    "\n",
    "# sparce matrix packages\n",
    "from scipy.sparse import csr_matrix\n",
    "from scipy.sparse.linalg import svds\n",
    "\n",
    "\n",
    "import warnings\n",
    "from functools import wraps\n",
    "from itertools import takewhile, count, islice\n",
    "\n",
    "\n",
    "from scipy.sparse.linalg import svds\n",
    "from scipy.sparse import diags, SparseEfficiencyWarning\n",
    "from scipy.linalg import solve_banded\n",
    "\n",
    "from polara.lib.sparse import arrange_indices\n",
    "from polara.lib.tensor import ttm3d_seq, ttm3d_par\n",
    "try:\n",
    "    from sklearn.utils.extmath import randomized_svd\n",
    "except ImportError:\n",
    "    randomized_svd = None"
   ]
  },
  {
   "cell_type": "markdown",
   "metadata": {},
   "source": [
    "# Define useful functions"
   ]
  },
  {
   "cell_type": "code",
   "execution_count": 107,
   "metadata": {},
   "outputs": [],
   "source": [
    "def transform_indices(data, users, items):\n",
    "    data_index = {}\n",
    "    for entity, field in zip(['users', 'items'], [users, items]):\n",
    "        idx, idx_map = to_numeric_id(data, field)\n",
    "        data_index[entity] = idx_map\n",
    "        data.loc[:, field] = idx\n",
    "    return data, data_index\n",
    "\n",
    "def to_numeric_id(data, field):\n",
    "    idx_data = data[field].astype(\"category\")\n",
    "    idx = idx_data.cat.codes\n",
    "    idx_map = idx_data.cat.categories.rename(field)\n",
    "    return idx, idx_map\n",
    "\n",
    "\n",
    "class SeqTFError(Exception):\n",
    "    pass\n",
    "\n",
    "def initialize_columnwise_orthonormal(dims, random_state=None):\n",
    "    if random_state is None:\n",
    "        random_state = np.random\n",
    "    u = random_state.rand(*dims)\n",
    "    u = np.linalg.qr(u, mode='reduced')[0]\n",
    "    return u\n",
    "\n",
    "\n",
    "def core_growth_callback(growth_tol):\n",
    "    def check_core_growth(step, core_norm, factors):\n",
    "        g_growth = (core_norm - check_core_growth.core_norm) / core_norm\n",
    "        check_core_growth.core_norm = core_norm\n",
    "        print(f'growth of the core: {g_growth}')\n",
    "        if g_growth < growth_tol:\n",
    "            print(f'Core is no longer growing. Norm of the core: {core_norm}.')\n",
    "            raise StopIteration\n",
    "    check_core_growth.core_norm = 0\n",
    "    return check_core_growth\n",
    "\n",
    "\n",
    "def sa_hooi(\n",
    "        idx, val, shape, mlrank, attention_matrix, scaling_weights,\n",
    "        max_iters = 10,\n",
    "        parallel_ttm = False,\n",
    "        growth_tol = 0.001,\n",
    "        randomized=True,\n",
    "        seed = None,\n",
    "        iter_callback=None,\n",
    "    ):\n",
    "    \n",
    "    assert valid_mlrank(mlrank)\n",
    "    n_users, n_items, n_positions = shape\n",
    "    r0, r1, r2 = mlrank\n",
    "    \n",
    "    tensor_data = idx, val, shape\n",
    "    if not isinstance(parallel_ttm, (list, tuple)):\n",
    "        parallel_ttm = [parallel_ttm] * len(shape)\n",
    "\n",
    "    assert len(shape) == len(parallel_ttm)\n",
    "\n",
    "    index_data = arrange_indices(idx, parallel_ttm)\n",
    "    ttm = [ttm3d_par if par else ttm3d_seq for par in parallel_ttm]\n",
    "\n",
    "    random_state = np.random if seed is None else np.random.RandomState(seed)\n",
    "    u1 = initialize_columnwise_orthonormal((n_items, r1), random_state)\n",
    "    uw = u1 * scaling_weights[:, np.newaxis]\n",
    "    u2 = initialize_columnwise_orthonormal((n_positions, r2), random_state)\n",
    "    ua = attention_matrix.dot(u2)\n",
    "\n",
    "    if randomized:\n",
    "        svd = randomized_svd\n",
    "        svd_config = lambda rank: dict(n_components=rank, random_state=seed)\n",
    "    else:\n",
    "        svd = svds\n",
    "        svd_config = lambda rank: dict(k=rank, return_singular_vectors='u')\n",
    "    \n",
    "    if iter_callback is None:\n",
    "        iter_callback = core_growth_callback(growth_tol)\n",
    "        \n",
    "    \n",
    "    for step in range(max_iters):\n",
    "        ttm0 = ttm[0](*tensor_data, ua, uw, ((2, 0), (1, 0)), *index_data[0]).reshape(shape[0], r1*r2)\n",
    "        u0, *_ = svd(ttm0, **svd_config(r0))\n",
    "\n",
    "        ttm1 = ttm[1](*tensor_data, ua, u0, ((2, 0), (0, 0)), *index_data[1]).reshape(shape[1], r0*r2)\n",
    "        u1, *_ = svd(ttm1, **svd_config(r1))\n",
    "        uw = u1 * scaling_weights[:, np.newaxis]\n",
    "        \n",
    "\n",
    "        ttm2 = ttm[2](*tensor_data, uw, u0, ((1, 0), (0, 0)), *index_data[2]).reshape(shape[2], r0*r1)\n",
    "        u2, ss, _ = svd(ttm2, **svd_config(r2))\n",
    "        ua = attention_matrix.dot(u2)\n",
    "\n",
    "        factors = (u0, u1, u2)\n",
    "        try:\n",
    "            iter_callback(step, np.linalg.norm(ss), factors)\n",
    "        except StopIteration:\n",
    "            break\n",
    "    return factors\n",
    "\n",
    "\n",
    "def exp_decay(decay_factor, n):\n",
    "    return np.e**(-(n-1)*decay_factor)\n",
    "\n",
    "def lin_decay(decay_factor, n):\n",
    "    return n**(-decay_factor)\n",
    "\n",
    "\n",
    "\n",
    "def attention_weights(decay_factor, cutoff, max_elements=None, exponential_decay=False, reverse=False):\n",
    "    if (decay_factor == 0 or cutoff == 0) and (max_elements is None or max_elements <= 0):\n",
    "        raise SeqTFError('Infinite sequence.')\n",
    "    decay_function = exp_decay if exponential_decay else lin_decay\n",
    "    weights = takewhile(lambda x: x>=cutoff, (decay_function(decay_factor, n) for n in count(1, 1)))\n",
    "    if max_elements is not None:\n",
    "        weights = islice(weights, max_elements)\n",
    "    if reverse:\n",
    "        return list(reversed(list(weights)))\n",
    "    return list(weights)\n",
    "\n",
    "def form_attention_matrix(size, decay_factor, cutoff=0, span=0, exponential_decay=False, reverse=False, format='csc', stochastic_axis=None, dtype=None):\n",
    "    stochastic = stochastic_axis is not None\n",
    "    span = min(span or np.iinfo('i8').max, size)\n",
    "    weights = attention_weights(decay_factor, cutoff=cutoff, max_elements=span, exponential_decay=exponential_decay, reverse=reverse)\n",
    "    diag_values = [np.broadcast_to(w, size) for w in weights]\n",
    "    matrix = diags(diag_values, offsets=range(0, -len(diag_values), -1), format=format, dtype=dtype)\n",
    "    if stochastic:\n",
    "        scalings = matrix.sum(axis=stochastic_axis).A.squeeze()\n",
    "        if stochastic_axis == 0:\n",
    "            matrix = matrix.dot(diags(1./scalings))\n",
    "        else:\n",
    "            matrix = diags(1./scalings).dot(matrix)\n",
    "    return matrix.asformat(format)\n",
    "\n",
    "\n",
    "def generate_banded_form(matrix):\n",
    "    matrix = matrix.todia()\n",
    "    bands = matrix.data\n",
    "    offsets = matrix.offsets\n",
    "    num_l = (offsets < 0).sum()\n",
    "    num_u = (offsets > 0).sum()\n",
    "    return (num_l, num_u), bands[np.argsort(offsets)[::-1], :]\n",
    "\n",
    "\n",
    "def generate_position_projector(attention_matrix, position_factors):\n",
    "    shape, bands = generate_banded_form(attention_matrix.T)\n",
    "    wl = solve_banded(shape, bands, position_factors)\n",
    "    wr = attention_matrix.dot(position_factors)\n",
    "    last_position_projector = wr @ wl[-1, :]\n",
    "    return last_position_projector\n",
    "\n",
    "\n",
    "def get_scaling_weights(frequencies, scaling=1.0):\n",
    "    return np.power(frequencies, 0.5*(scaling-1.0))\n",
    "\n",
    "\n",
    "def valid_mlrank(mlrank):\n",
    "    prod = np.prod(mlrank)\n",
    "    return all(prod//r > r for r in mlrank)\n",
    "\n",
    "def downvote_seen_items(scores, data, data_description):\n",
    "    userid = data_description['users']\n",
    "    itemid = data_description['items']\n",
    "    # get indices of observed data\n",
    "    user_idx = data[userid].values\n",
    "    item_idx = data[itemid].values\n",
    "    # downvote scores at the corresponding positions\n",
    "    user_idx, _ = pd.factorize(user_idx, sort=True)\n",
    "    seen_idx_flat = np.ravel_multi_index((user_idx, item_idx), scores.shape)\n",
    "    np.put(scores, seen_idx_flat, -np.inf)\n",
    "\n",
    "\n",
    "def topn_recommendations(scores, topn=10):\n",
    "    recommendations = np.apply_along_axis(topidx, 1, scores, topn)\n",
    "    return recommendations\n",
    "\n",
    "\n",
    "def topidx(a, topn):\n",
    "    parted = np.argpartition(a, -topn)[-topn:]\n",
    "    return parted[np.argsort(-a[parted])]\n",
    "\n",
    "\n",
    "def model_evaluate(recommended_items, holdout, holdout_description, topn=10):\n",
    "    itemid = holdout_description['items']\n",
    "    holdout_items = holdout[itemid].values\n",
    "    assert recommended_items.shape[0] == len(holdout_items)\n",
    "    hits_mask = recommended_items[:, :topn] == holdout_items.reshape(-1, 1)\n",
    "    # HR calculation\n",
    "    hr = np.mean(hits_mask.any(axis=1))\n",
    "    # MRR calculation\n",
    "    n_test_users = recommended_items.shape[0]\n",
    "    hit_rank = np.where(hits_mask)[1] + 1.0\n",
    "    mrr = np.sum(1 / hit_rank) / n_test_users\n",
    "    # coverage calculation\n",
    "    n_items = holdout_description['n_items']\n",
    "    cov = np.unique(recommended_items).size / n_items\n",
    "    return hr, mrr, cov\n",
    "\n"
   ]
  },
  {
   "cell_type": "markdown",
   "metadata": {},
   "source": [
    "# dowloading and preparing data"
   ]
  },
  {
   "cell_type": "code",
   "execution_count": 108,
   "metadata": {},
   "outputs": [
    {
     "data": {
      "text/html": [
       "<div>\n",
       "<style scoped>\n",
       "    .dataframe tbody tr th:only-of-type {\n",
       "        vertical-align: middle;\n",
       "    }\n",
       "\n",
       "    .dataframe tbody tr th {\n",
       "        vertical-align: top;\n",
       "    }\n",
       "\n",
       "    .dataframe thead th {\n",
       "        text-align: right;\n",
       "    }\n",
       "</style>\n",
       "<table border=\"1\" class=\"dataframe\">\n",
       "  <thead>\n",
       "    <tr style=\"text-align: right;\">\n",
       "      <th></th>\n",
       "      <th>userid</th>\n",
       "      <th>movieid</th>\n",
       "      <th>rating</th>\n",
       "      <th>timestamp</th>\n",
       "    </tr>\n",
       "  </thead>\n",
       "  <tbody>\n",
       "    <tr>\n",
       "      <th>0</th>\n",
       "      <td>1</td>\n",
       "      <td>1193</td>\n",
       "      <td>5</td>\n",
       "      <td>978300760</td>\n",
       "    </tr>\n",
       "    <tr>\n",
       "      <th>1</th>\n",
       "      <td>1</td>\n",
       "      <td>661</td>\n",
       "      <td>3</td>\n",
       "      <td>978302109</td>\n",
       "    </tr>\n",
       "    <tr>\n",
       "      <th>2</th>\n",
       "      <td>1</td>\n",
       "      <td>914</td>\n",
       "      <td>3</td>\n",
       "      <td>978301968</td>\n",
       "    </tr>\n",
       "  </tbody>\n",
       "</table>\n",
       "</div>"
      ],
      "text/plain": [
       "   userid  movieid  rating  timestamp\n",
       "0       1     1193       5  978300760\n",
       "1       1      661       3  978302109\n",
       "2       1      914       3  978301968"
      ]
     },
     "execution_count": 108,
     "metadata": {},
     "output_type": "execute_result"
    }
   ],
   "source": [
    "mldata = get_movielens_data(include_time=True)\n",
    "mldata.head(3)"
   ]
  },
  {
   "cell_type": "markdown",
   "metadata": {},
   "source": [
    "## Data splitting"
   ]
  },
  {
   "cell_type": "code",
   "execution_count": 109,
   "metadata": {},
   "outputs": [],
   "source": [
    "test_timepoint = mldata['timestamp'].quantile(\n",
    "    q=0.95, interpolation='nearest'\n",
    ")\n",
    "\n",
    "test_data_ = mldata.query('timestamp >= @test_timepoint')\n",
    "\n",
    "train_data_ = mldata.query(\n",
    "    'userid not in @test_data_.userid.unique() and timestamp < @test_timepoint'\n",
    ")"
   ]
  },
  {
   "cell_type": "markdown",
   "metadata": {},
   "source": [
    "#### percentage of numerical values in data"
   ]
  },
  {
   "cell_type": "code",
   "execution_count": 110,
   "metadata": {},
   "outputs": [
    {
     "data": {
      "text/plain": [
       "0.03799936340314036"
      ]
     },
     "execution_count": 110,
     "metadata": {},
     "output_type": "execute_result"
    }
   ],
   "source": [
    "train_data_.shape[0] / np.prod(train_data_.nunique().iloc[:2])"
   ]
  },
  {
   "cell_type": "markdown",
   "metadata": {},
   "source": [
    "#### Reindex dataset to drop gaps"
   ]
  },
  {
   "cell_type": "code",
   "execution_count": 88,
   "metadata": {},
   "outputs": [
    {
     "name": "stdout",
     "output_type": "stream",
     "text": [
      "Filtered 64 invalid observations.\n"
     ]
    }
   ],
   "source": [
    "training, data_index = transform_indices(train_data_.copy(), 'userid', 'movieid')\n",
    "test_data = reindex(test_data_, data_index['items'])\n"
   ]
  },
  {
   "cell_type": "markdown",
   "metadata": {},
   "source": [
    "We sample the last item for each test user.  \n",
    "As all these users are excluded from the training, and training is additionally filtered by timestamp,\n",
    "there will be no \"recommendation from future\" issue - our model is unaware of future correlations.\n"
   ]
  },
  {
   "cell_type": "code",
   "execution_count": 89,
   "metadata": {},
   "outputs": [],
   "source": [
    "testset_, holdout_ = leave_one_out(\n",
    "    test_data, target='timestamp', sample_top=True, random_state=0\n",
    ")\n",
    "testset_valid_, holdout_valid_ = leave_one_out(\n",
    "    testset_, target='timestamp', sample_top=True, random_state=0\n",
    ")"
   ]
  },
  {
   "cell_type": "markdown",
   "metadata": {},
   "source": [
    "Let's focus on validation part."
   ]
  },
  {
   "cell_type": "code",
   "execution_count": 90,
   "metadata": {},
   "outputs": [],
   "source": [
    "test_users = np.intersect1d(testset_valid_.userid.unique(), holdout_valid_.userid.unique())\n",
    "testset_valid = testset_valid_.query('userid in @test_users').sort_values('userid')\n",
    "holdout_valid = holdout_valid_.query('userid in @test_users').sort_values('userid')"
   ]
  },
  {
   "cell_type": "code",
   "execution_count": 91,
   "metadata": {},
   "outputs": [],
   "source": [
    "assert holdout_valid.set_index('userid')['timestamp'].ge(\n",
    "    testset_valid\n",
    "    .groupby('userid')\n",
    "    ['timestamp'].max()\n",
    ").all()"
   ]
  },
  {
   "cell_type": "markdown",
   "metadata": {},
   "source": [
    "## Assigning positional info"
   ]
  },
  {
   "cell_type": "code",
   "execution_count": 92,
   "metadata": {},
   "outputs": [],
   "source": [
    "n_pos = 200"
   ]
  },
  {
   "cell_type": "code",
   "execution_count": 93,
   "metadata": {},
   "outputs": [],
   "source": [
    "def assign_positions(s, maxlen=n_pos):\n",
    "    return np.arange(maxlen-len(s), maxlen)\n"
   ]
  },
  {
   "cell_type": "code",
   "execution_count": 94,
   "metadata": {},
   "outputs": [],
   "source": [
    "training_data = (\n",
    "    training\n",
    "    .sort_values('timestamp')\n",
    "    .assign(\n",
    "        pos = lambda df: df.groupby('userid')['movieid'].transform(assign_positions)\n",
    "    )\n",
    "    .sort_values(['userid', 'timestamp'])\n",
    "    .query('pos>=0')\n",
    ")"
   ]
  },
  {
   "cell_type": "code",
   "execution_count": 95,
   "metadata": {},
   "outputs": [],
   "source": [
    "testset_valid = (\n",
    "    testset_valid\n",
    "    .sort_values('timestamp')\n",
    "    .assign(\n",
    "        pos = lambda df: df.groupby('userid')['movieid'].transform(assign_positions)\n",
    "    )\n",
    "    .sort_values(['userid', 'timestamp'])\n",
    ")"
   ]
  },
  {
   "cell_type": "markdown",
   "metadata": {},
   "source": [
    "# Baseline"
   ]
  },
  {
   "cell_type": "markdown",
   "metadata": {},
   "source": [
    "## PureSVD"
   ]
  },
  {
   "cell_type": "code",
   "execution_count": 96,
   "metadata": {},
   "outputs": [],
   "source": [
    "def matrix_from_observations(data, data_description):\n",
    "    useridx = data[data_description['users']]\n",
    "    itemidx = data[data_description['items']]\n",
    "    values = data[data_description['feedback']]\n",
    "    return csr_matrix((values, (useridx, itemidx)), dtype='f8')\n",
    "\n",
    "\n",
    "def build_svd_model(config, data, data_description):\n",
    "    source_matrix = matrix_from_observations(data, data_description)\n",
    "    _, s, vt = svds(source_matrix, k=config['rank'], return_singular_vectors='vh')\n",
    "    singular_values = s[::-1]\n",
    "    item_factors = np.ascontiguousarray(vt[::-1, :].T)\n",
    "    return item_factors, singular_values"
   ]
  },
  {
   "cell_type": "code",
   "execution_count": 97,
   "metadata": {},
   "outputs": [],
   "source": [
    "data_description = dict(\n",
    "    users = data_index['users'].name,\n",
    "    items = data_index['items'].name,\n",
    "    feedback = 'rating',\n",
    "    positions = 'pos',\n",
    "    n_users = len(data_index['users']),\n",
    "    n_items = len(data_index['items']),\n",
    "    n_pos= n_pos\n",
    ")"
   ]
  },
  {
   "cell_type": "code",
   "execution_count": 98,
   "metadata": {},
   "outputs": [],
   "source": [
    "svd_config = {'rank': 50}\n",
    "svd_params = build_svd_model(svd_config, training, data_description)"
   ]
  },
  {
   "cell_type": "markdown",
   "metadata": {},
   "source": [
    "### singular values"
   ]
  },
  {
   "cell_type": "code",
   "execution_count": 99,
   "metadata": {},
   "outputs": [
    {
     "data": {
      "image/png": "[encoded data removed]",
      "text/plain": [
       "<Figure size 432x288 with 1 Axes>"
      ]
     },
     "metadata": {
      "needs_background": "light"
     },
     "output_type": "display_data"
    }
   ],
   "source": [
    "pd.Series(svd_params[1]).plot();"
   ]
  },
  {
   "cell_type": "code",
   "execution_count": 100,
   "metadata": {},
   "outputs": [],
   "source": [
    "def svd_model_scoring(params, data, data_description):\n",
    "    item_factors, sigma = params\n",
    "    test_data = data.assign(\n",
    "        userid = pd.factorize(data['userid'])[0]\n",
    "    )\n",
    "    test_matrix = matrix_from_observations(test_data, data_description)\n",
    "    scores = test_matrix.dot(item_factors) @ item_factors.T\n",
    "    return scores"
   ]
  },
  {
   "cell_type": "code",
   "execution_count": 101,
   "metadata": {},
   "outputs": [],
   "source": [
    "svd_scores = svd_model_scoring(svd_params, testset_valid, data_description)"
   ]
  },
  {
   "cell_type": "markdown",
   "metadata": {},
   "source": [
    "#### compute scores = number of test users X number of total items in training data set"
   ]
  },
  {
   "cell_type": "code",
   "execution_count": 102,
   "metadata": {},
   "outputs": [
    {
     "data": {
      "text/plain": [
       "(750, 3652)"
      ]
     },
     "execution_count": 102,
     "metadata": {},
     "output_type": "execute_result"
    }
   ],
   "source": [
    "svd_scores.shape"
   ]
  },
  {
   "cell_type": "markdown",
   "metadata": {},
   "source": [
    "#### reduce predicted score for the seen item"
   ]
  },
  {
   "cell_type": "code",
   "execution_count": 103,
   "metadata": {},
   "outputs": [],
   "source": [
    "downvote_seen_items(svd_scores, testset_valid, data_description)"
   ]
  },
  {
   "cell_type": "code",
   "execution_count": 104,
   "metadata": {},
   "outputs": [
    {
     "data": {
      "text/plain": [
       "(0.052, 0.015026984126984125, 0.15580503833515882)"
      ]
     },
     "execution_count": 104,
     "metadata": {},
     "output_type": "execute_result"
    }
   ],
   "source": [
    "svd_recs = topn_recommendations(svd_scores, topn=10)\n",
    "model_evaluate(svd_recs, holdout_valid, data_description)"
   ]
  },
  {
   "cell_type": "markdown",
   "metadata": {},
   "source": [
    "### 1 metric = hit rate (this percent with proper recoms, more or less good 10, top score 15-20), 2 = MRR, 3 = coverage (measure of diversity of recomandations, if low => model generates something popular => useless for the user, we want our recomendations to be diverce = how many unique recoms made on test users/total number of items in catalog, popularity 5%)"
   ]
  },
  {
   "cell_type": "markdown",
   "metadata": {},
   "source": [
    "# Sequential TF"
   ]
  },
  {
   "cell_type": "code",
   "execution_count": 44,
   "metadata": {},
   "outputs": [
    {
     "data": {
      "text/plain": [
       "{'users': 'userid',\n",
       " 'items': 'movieid',\n",
       " 'feedback': 'rating',\n",
       " 'positions': 'pos',\n",
       " 'n_users': 4831,\n",
       " 'n_items': 3635,\n",
       " 'n_pos': 200}"
      ]
     },
     "execution_count": 44,
     "metadata": {},
     "output_type": "execute_result"
    }
   ],
   "source": [
    "data_description = dict(\n",
    "    users = data_index['users'].name,\n",
    "    items = data_index['items'].name,\n",
    "    feedback = 'rating',\n",
    "    positions = 'pos',\n",
    "    n_users = len(data_index['users']),\n",
    "    n_items = len(data_index['items']),\n",
    "    n_pos = n_pos\n",
    ")\n",
    "data_description"
   ]
  },
  {
   "cell_type": "markdown",
   "metadata": {},
   "source": [
    "### computing tucker docmositions"
   ]
  },
  {
   "cell_type": "code",
   "execution_count": 152,
   "metadata": {},
   "outputs": [],
   "source": [
    "def seqtf_model_build(config, data, data_description):\n",
    "    userid = data_description[\"users\"]\n",
    "    itemid = data_description[\"items\"]\n",
    "    positions = data_description[\"positions\"]\n",
    "\n",
    "    n_users = data_description[\"n_users\"]\n",
    "    n_items = data_description[\"n_items\"]\n",
    "    max_pos = data_description[\"n_pos\"]\n",
    "    shape = (n_users, n_items, max_pos)\n",
    "\n",
    "    #positional attention\n",
    "    attention_matrix = form_attention_matrix(\n",
    "        size = data_description[\"n_pos\"],\n",
    "        exponential_decay = config[\"exponential_decay\"],\n",
    "        #rule = linear decay\n",
    "        decay_factor = config[\"attention_decay\"],\n",
    "        format = 'csr'\n",
    "    )\n",
    "\n",
    "    # popularity based weighting - to \n",
    "    # combat with low diversity rating\n",
    "    # reweight values in tensors - not binary\n",
    "    # inversely proportional to the popularity of items\n",
    "    # more sensitive to less popular items\n",
    "    # promote less popular items in recoms\n",
    "    \n",
    "    # POpularity based scaling\n",
    "    item_popularity = (\n",
    "        data[itemid]\n",
    "        .value_counts(sort=False)\n",
    "        .reindex(range(n_items))\n",
    "        .fillna(1)\n",
    "        .values\n",
    "    )\n",
    "    \n",
    "    scaling_weights = get_scaling_weights(item_popularity, scaling=config[\"scaling\"])\n",
    "    idx = data[[userid, itemid, positions]].values\n",
    "    val = np.ones(idx.shape[0], dtype='f8')\n",
    "\n",
    "    user_factors, item_factors, feedback_factors = sa_hooi(\n",
    "        # hooi takes into account information about initial tensor\n",
    "        idx, val, shape, config[\"mlrank\"],\n",
    "        # attention matrix\n",
    "        attention_matrix = attention_matrix,\n",
    "        # popularity scaling\n",
    "        scaling_weights = scaling_weights,\n",
    "        max_iters = config[\"num_iters\"],\n",
    "        parallel_ttm = False,\n",
    "        \n",
    "        # randomized svd instead of standart\n",
    "        randomized = config[\"randomized\"],\n",
    "        growth_tol = config[\"growth_tol\"],\n",
    "        seed = config[\"seed\"],\n",
    "        # max hit rate is goal but here we minimize squred error, so idea\n",
    "        # compute hit rate after each iteration, and if subsequent iterations \n",
    "        # do not improve hit rate we stop\n",
    "        \n",
    "        # typically for hit rate requires lower iterations\n",
    "        iter_callback = config[\"iter_callback\"],\n",
    "    )\n",
    "    return user_factors, item_factors, feedback_factors, attention_matrix\n"
   ]
  },
  {
   "cell_type": "code",
   "execution_count": 153,
   "metadata": {},
   "outputs": [],
   "source": [
    "config = {\n",
    "    #popularity scaling. 1 is factorization without any reweighting\n",
    "    # (no reweighting)\n",
    "    \"scaling\": 1,\n",
    "    \n",
    "    #multilinear rank is smaller tnan 50 that is used for svd\n",
    "    \"mlrank\": (30, 30, 5),\n",
    "    \"n_pos\": n_pos,\n",
    "    \"num_iters\": 20,\n",
    "    \"attention_decay\": 1,\n",
    "    \"randomized\": True,\n",
    "    \"growth_tol\": 1e-4,\n",
    "    \"seed\": 42,\n",
    "    \"iter_callback\":None,\n",
    "    \"exponential_decay\":False\n",
    "}"
   ]
  },
  {
   "cell_type": "code",
   "execution_count": 130,
   "metadata": {},
   "outputs": [
    {
     "name": "stdout",
     "output_type": "stream",
     "text": [
      "growth of the core: 1.0\n",
      "growth of the core: 0.3745644218063655\n",
      "growth of the core: 0.029937756743187965\n",
      "growth of the core: 0.002720934278591913\n",
      "growth of the core: 0.0009144049581332012\n",
      "growth of the core: 0.000530574107546262\n",
      "growth of the core: 0.00019318976499166433\n",
      "growth of the core: -0.00031120159025131906\n",
      "Core is no longer growing. Norm of the core: 43.15271170951625.\n"
     ]
    }
   ],
   "source": [
    "tf_params = seqtf_model_build(config, training_data, data_description)"
   ]
  },
  {
   "cell_type": "code",
   "execution_count": 114,
   "metadata": {},
   "outputs": [],
   "source": [
    "def tf_scoring(params, data, data_description):\n",
    "    user_factors, item_factors, pos_factors, attention_matrix = params\n",
    "    last_position_projector = generate_position_projector(attention_matrix, pos_factors)\n",
    "\n",
    "    userid = data_description[\"users\"]\n",
    "    itemid = data_description[\"items\"]\n",
    "    posid = data_description[\"positions\"]\n",
    "\n",
    "    test_data = data.sort_values([userid, posid])\n",
    "    useridx = test_data[userid].values\n",
    "    itemidx = test_data[itemid].values\n",
    "    indptr, = np.where(np.diff(useridx, prepend=0, append=1))\n",
    "    scores = user_scoring(indptr, itemidx, item_factors, last_position_projector)\n",
    "    return scores\n",
    "\n",
    "def user_scoring(indptr, indices, item_factors, last_position_projector):\n",
    "    sequences = np.array_split(indices, indptr[1:-1])\n",
    "    n_items = item_factors.shape[0]\n",
    "    scores = np.zeros((len(sequences), n_items))\n",
    "    for u, seq in enumerate(sequences):\n",
    "        scores[u] = sequences_score(seq, item_factors, last_position_projector)\n",
    "    return scores\n",
    "\n",
    "def sequences_score(seq, item_factors, last_position_projector):\n",
    "    n_pos = len(last_position_projector)\n",
    "    user_profile = item_factors[seq[-(n_pos-1):], :]\n",
    "    n_items = user_profile.shape[0]\n",
    "    \n",
    "    # scores calculation from the slide\n",
    "    scores = item_factors @ (user_profile.T @ last_position_projector[-(n_items+1):-1])\n",
    "    return scores"
   ]
  },
  {
   "cell_type": "code",
   "execution_count": 115,
   "metadata": {},
   "outputs": [
    {
     "name": "stderr",
     "output_type": "stream",
     "text": [
      "/Users/sergeypetrakov/opt/miniconda3/lib/python3.8/site-packages/scipy/sparse/coo.py:431: SparseEfficiencyWarning: Constructing a DIA matrix with 200 diagonals is inefficient\n",
      "  warn(\"Constructing a DIA matrix with %d diagonals \"\n"
     ]
    }
   ],
   "source": [
    "tf_scores = tf_scoring(tf_params, testset_valid, data_description)"
   ]
  },
  {
   "cell_type": "code",
   "execution_count": 116,
   "metadata": {},
   "outputs": [
    {
     "data": {
      "text/plain": [
       "(750, 3652)"
      ]
     },
     "execution_count": 116,
     "metadata": {},
     "output_type": "execute_result"
    }
   ],
   "source": [
    "tf_scores.shape"
   ]
  },
  {
   "cell_type": "code",
   "execution_count": 117,
   "metadata": {},
   "outputs": [],
   "source": [
    "downvote_seen_items(tf_scores, testset_valid, data_description)"
   ]
  },
  {
   "cell_type": "code",
   "execution_count": 118,
   "metadata": {},
   "outputs": [
    {
     "data": {
      "text/plain": [
       "(0.05466666666666667, 0.01662962962962963, 0.14649507119386637)"
      ]
     },
     "execution_count": 118,
     "metadata": {},
     "output_type": "execute_result"
    }
   ],
   "source": [
    "tf_recs = topn_recommendations(tf_scores, topn=10)\n",
    "model_evaluate(tf_recs, holdout_valid, data_description)"
   ]
  },
  {
   "cell_type": "code",
   "execution_count": null,
   "metadata": {},
   "outputs": [],
   "source": []
  },
  {
   "cell_type": "markdown",
   "metadata": {},
   "source": [
    "# Addition experiment"
   ]
  },
  {
   "cell_type": "markdown",
   "metadata": {},
   "source": [
    "## different scalings"
   ]
  },
  {
   "cell_type": "code",
   "execution_count": 132,
   "metadata": {
    "scrolled": true
   },
   "outputs": [
    {
     "name": "stdout",
     "output_type": "stream",
     "text": [
      "####################\n",
      "scaling = -1\n",
      "####################\n",
      "growth of the core: 1.0\n",
      "growth of the core: 0.47969603222098706\n",
      "growth of the core: 0.1417762393296807\n",
      "growth of the core: 0.15897961766090787\n",
      "growth of the core: 0.11406885179974621\n",
      "growth of the core: -0.02715079776549588\n",
      "Core is no longer growing. Norm of the core: 0.8593823994456214.\n",
      "hit_rate = 0.0427, mrr = 0.0119, coverage = 0.1574\n",
      "####################\n",
      "scaling = 0\n",
      "####################\n",
      "growth of the core: 1.0\n",
      "growth of the core: 0.4224162682046584\n",
      "growth of the core: 0.03474010649985927\n",
      "growth of the core: 0.003111010558883804\n",
      "growth of the core: 0.00042421143679460376\n",
      "growth of the core: -2.8014409912421064e-05\n",
      "Core is no longer growing. Norm of the core: 2.072205001554524.\n",
      "hit_rate = 0.0533, mrr = 0.0164, coverage = 0.1635\n",
      "####################\n",
      "scaling = 1\n",
      "####################\n",
      "growth of the core: 1.0\n",
      "growth of the core: 0.3745644218063655\n",
      "growth of the core: 0.029937756743187965\n",
      "growth of the core: 0.002720934278591913\n",
      "growth of the core: 0.0009144049581332012\n",
      "growth of the core: 0.000530574107546262\n",
      "growth of the core: 0.00019318976499166433\n",
      "growth of the core: -0.00031120159025131906\n",
      "Core is no longer growing. Norm of the core: 43.15271170951625.\n",
      "hit_rate = 0.0547, mrr = 0.0166, coverage = 0.1465\n",
      "####################\n",
      "scaling = 2\n",
      "####################\n",
      "growth of the core: 1.0\n",
      "growth of the core: 0.3510399833293909\n",
      "growth of the core: 0.03284602816198237\n",
      "growth of the core: 0.007320173385105305\n",
      "growth of the core: 0.0032545902152941652\n",
      "growth of the core: 0.0015011183221731081\n",
      "growth of the core: 0.000801710847199603\n",
      "growth of the core: 0.0003553067905193642\n",
      "growth of the core: 0.0004040615809109471\n",
      "growth of the core: 0.0008237732960751594\n",
      "growth of the core: -0.00036608813487950924\n",
      "Core is no longer growing. Norm of the core: 1254.4134570273159.\n",
      "hit_rate = 0.048, mrr = 0.0129, coverage = 0.1292\n",
      "####################\n",
      "scaling = 3\n",
      "####################\n",
      "growth of the core: 1.0\n",
      "growth of the core: 0.3413715095488771\n",
      "growth of the core: 0.03660027552009042\n",
      "growth of the core: 0.011307388265255309\n",
      "growth of the core: 0.00597773243088759\n",
      "growth of the core: 0.005399142885645658\n",
      "growth of the core: 0.003765476552714415\n",
      "growth of the core: 0.0034940258834875613\n",
      "growth of the core: 0.0015662829879962141\n",
      "growth of the core: 0.0006856031169969225\n",
      "growth of the core: 0.0016067706949300243\n",
      "growth of the core: 0.0003019180166722092\n",
      "growth of the core: 0.0003356783573031714\n",
      "growth of the core: 0.00046226860570347896\n",
      "growth of the core: 0.000539405601343873\n",
      "growth of the core: 0.00032440876664637555\n",
      "growth of the core: 0.00028174898240703616\n",
      "growth of the core: 0.00048012571439187213\n",
      "growth of the core: 0.0003508548416478417\n",
      "growth of the core: -0.000385895399677138\n",
      "Core is no longer growing. Norm of the core: 45953.40319841178.\n",
      "hit_rate = 0.04, mrr = 0.0112, coverage = 0.1191\n"
     ]
    }
   ],
   "source": [
    "scalings = [-1, 0 , 1, 2, 3]\n",
    "results_for_scaling = []\n",
    "\n",
    "for scaling in scalings:\n",
    "    config = {\n",
    "        #popularity scaling. 1 is factorization without any reweighting\n",
    "        # (no reweighting)\n",
    "        \"scaling\": scaling,\n",
    "\n",
    "        #multilinear rank is smaller tnan 50 that is used for svd\n",
    "        \"mlrank\": (30, 30, 5),\n",
    "        \"n_pos\": n_pos,\n",
    "        \"num_iters\": 20,\n",
    "        \"attention_decay\": 1,\n",
    "        \"randomized\": True,\n",
    "        \"growth_tol\": 1e-4,\n",
    "        \"seed\": 42,\n",
    "        \"iter_callback\":None,\n",
    "        \"exponential_decay\":False\n",
    "    }\n",
    "    \n",
    "    print(\"#\"*20)\n",
    "    print(\"scaling = {}\".format(scaling))\n",
    "    print(\"#\"*20)\n",
    "    tf_params = seqtf_model_build(config, training_data, data_description)\n",
    "    tf_scores = tf_scoring(tf_params, testset_valid, data_description)\n",
    "    downvote_seen_items(tf_scores, testset_valid, data_description)\n",
    "    tf_recs = topn_recommendations(tf_scores, topn=10)\n",
    "    hit_rate, mrr, coverage = np.round(model_evaluate(tf_recs, holdout_valid, data_description), 4)\n",
    "    print(\"hit_rate = {}, mrr = {}, coverage = {}\".format(hit_rate, mrr, coverage))\n",
    "    results_for_scaling.append((hit_rate, mrr, coverage))"
   ]
  },
  {
   "cell_type": "code",
   "execution_count": 154,
   "metadata": {
    "scrolled": true
   },
   "outputs": [
    {
     "name": "stdout",
     "output_type": "stream",
     "text": [
      "####################\n",
      "scaling = -1\n",
      "####################\n",
      "growth of the core: 1.0\n",
      "growth of the core: 0.47969603222098706\n",
      "growth of the core: 0.1417762393296807\n",
      "growth of the core: 0.15897961766090787\n",
      "growth of the core: 0.11406885179974621\n",
      "growth of the core: -0.02715079776549588\n",
      "Core is no longer growing. Norm of the core: 0.8593823994456214.\n",
      "hit_rate = 0.0427, mrr = 0.0119, coverage = 0.1574\n",
      "####################\n",
      "scaling = 0\n",
      "####################\n"
     ]
    },
    {
     "name": "stderr",
     "output_type": "stream",
     "text": [
      "/Users/sergeypetrakov/opt/miniconda3/lib/python3.8/site-packages/scipy/sparse/coo.py:431: SparseEfficiencyWarning: Constructing a DIA matrix with 200 diagonals is inefficient\n",
      "  warn(\"Constructing a DIA matrix with %d diagonals \"\n"
     ]
    },
    {
     "name": "stdout",
     "output_type": "stream",
     "text": [
      "growth of the core: 1.0\n",
      "growth of the core: 0.4224162682046584\n",
      "growth of the core: 0.03474010649985927\n",
      "growth of the core: 0.003111010558883804\n",
      "growth of the core: 0.00042421143679460376\n",
      "growth of the core: -2.8014409912421064e-05\n",
      "Core is no longer growing. Norm of the core: 2.072205001554524.\n",
      "hit_rate = 0.0533, mrr = 0.0164, coverage = 0.1635\n",
      "####################\n",
      "scaling = 1\n",
      "####################\n",
      "growth of the core: 1.0\n",
      "growth of the core: 0.3745644218063655\n",
      "growth of the core: 0.029937756743187965\n",
      "growth of the core: 0.002720934278591913\n",
      "growth of the core: 0.0009144049581332012\n",
      "growth of the core: 0.000530574107546262\n",
      "growth of the core: 0.00019318976499166433\n",
      "growth of the core: -0.00031120159025131906\n",
      "Core is no longer growing. Norm of the core: 43.15271170951625.\n",
      "hit_rate = 0.0547, mrr = 0.0166, coverage = 0.1465\n",
      "####################\n",
      "scaling = 2\n",
      "####################\n",
      "growth of the core: 1.0\n",
      "growth of the core: 0.3510399833293909\n",
      "growth of the core: 0.03284602816198237\n",
      "growth of the core: 0.007320173385105305\n",
      "growth of the core: 0.0032545902152941652\n",
      "growth of the core: 0.0015011183221731081\n",
      "growth of the core: 0.000801710847199603\n",
      "growth of the core: 0.0003553067905193642\n",
      "growth of the core: 0.0004040615809109471\n",
      "growth of the core: 0.0008237732960751594\n",
      "growth of the core: -0.00036608813487950924\n",
      "Core is no longer growing. Norm of the core: 1254.4134570273159.\n",
      "hit_rate = 0.048, mrr = 0.0129, coverage = 0.1292\n",
      "####################\n",
      "scaling = 3\n",
      "####################\n",
      "growth of the core: 1.0\n",
      "growth of the core: 0.3413715095488771\n",
      "growth of the core: 0.03660027552009042\n",
      "growth of the core: 0.011307388265255309\n",
      "growth of the core: 0.00597773243088759\n",
      "growth of the core: 0.005399142885645658\n",
      "growth of the core: 0.003765476552714415\n",
      "growth of the core: 0.0034940258834875613\n",
      "growth of the core: 0.0015662829879962141\n",
      "growth of the core: 0.0006856031169969225\n",
      "growth of the core: 0.0016067706949300243\n",
      "growth of the core: 0.0003019180166722092\n",
      "growth of the core: 0.0003356783573031714\n",
      "growth of the core: 0.00046226860570347896\n",
      "growth of the core: 0.000539405601343873\n",
      "growth of the core: 0.00032440876664637555\n",
      "growth of the core: 0.00028174898240703616\n",
      "growth of the core: 0.00048012571439187213\n",
      "growth of the core: 0.0003508548416478417\n",
      "growth of the core: -0.000385895399677138\n",
      "Core is no longer growing. Norm of the core: 45953.40319841178.\n",
      "hit_rate = 0.04, mrr = 0.0112, coverage = 0.1191\n"
     ]
    }
   ],
   "source": [
    "scalings = [-1, 0 , 1, 2, 3]\n",
    "results_for_scaling = []\n",
    "\n",
    "for scaling in scalings:\n",
    "    config = {\n",
    "        #popularity scaling. 1 is factorization without any reweighting\n",
    "        # (no reweighting)\n",
    "        \"scaling\": scaling,\n",
    "\n",
    "        #multilinear rank is smaller tnan 50 that is used for svd\n",
    "        \"mlrank\": (30, 30, 5),\n",
    "        \"n_pos\": n_pos,\n",
    "        \"num_iters\": 20,\n",
    "        \"attention_decay\": 1,\n",
    "        \"randomized\": True,\n",
    "        \"growth_tol\": 1e-4,\n",
    "        \"seed\": 42,\n",
    "        \"iter_callback\":None,\n",
    "        \"exponential_decay\":False\n",
    "    }\n",
    "    \n",
    "    print(\"#\"*20)\n",
    "    print(\"scaling = {}\".format(scaling))\n",
    "    print(\"#\"*20)\n",
    "    tf_params = seqtf_model_build(config, training_data, data_description)\n",
    "    tf_scores = tf_scoring(tf_params, testset_valid, data_description)\n",
    "    downvote_seen_items(tf_scores, testset_valid, data_description)\n",
    "    tf_recs = topn_recommendations(tf_scores, topn=10)\n",
    "    hit_rate, mrr, coverage = np.round(model_evaluate(tf_recs, holdout_valid, data_description), 4)\n",
    "    print(\"hit_rate = {}, mrr = {}, coverage = {}\".format(hit_rate, mrr, coverage))\n",
    "    results_for_scaling.append((hit_rate, mrr, coverage))"
   ]
  },
  {
   "cell_type": "code",
   "execution_count": 155,
   "metadata": {
    "scrolled": true
   },
   "outputs": [
    {
     "name": "stdout",
     "output_type": "stream",
     "text": [
      "####################\n",
      "svd_random_init = True\n",
      "####################\n",
      "growth of the core: 1.0\n",
      "growth of the core: 0.3745644218063655\n",
      "growth of the core: 0.029937756743187965\n",
      "growth of the core: 0.002720934278591913\n",
      "growth of the core: 0.0009144049581332012\n",
      "growth of the core: 0.000530574107546262\n",
      "growth of the core: 0.00019318976499166433\n",
      "growth of the core: -0.00031120159025131906\n",
      "Core is no longer growing. Norm of the core: 43.15271170951625.\n",
      "hit_rate = 0.0547, mrr = 0.0166, coverage = 0.1465\n",
      "####################\n",
      "svd_random_init = False\n",
      "####################\n",
      "growth of the core: 1.0\n",
      "growth of the core: 0.37471558308257263\n",
      "growth of the core: 0.02931286136012277\n",
      "growth of the core: 0.0031538908794840914\n",
      "growth of the core: 0.0009751508873759329\n",
      "growth of the core: 0.00029955015941700807\n",
      "growth of the core: 3.727518808117806e-05\n",
      "Core is no longer growing. Norm of the core: 43.1534290709896.\n",
      "hit_rate = 0.0547, mrr = 0.0161, coverage = 0.147\n"
     ]
    }
   ],
   "source": [
    "svd_random_inits = [True, False]\n",
    "results_svd_init = []\n",
    "\n",
    "for svd_random_init in svd_random_inits:\n",
    "    config = {\n",
    "        #popularity scaling. 1 is factorization without any reweighting\n",
    "        # (no reweighting)\n",
    "        \"scaling\": 1.0,\n",
    "\n",
    "        #multilinear rank is smaller tnan 50 that is used for svd\n",
    "        \"mlrank\": (30, 30, 5),\n",
    "        \"n_pos\": n_pos,\n",
    "        \"num_iters\": 20,\n",
    "        \"attention_decay\": 1,\n",
    "        \"randomized\": svd_random_init,\n",
    "        \"growth_tol\": 1e-4,\n",
    "        \"seed\": 42,\n",
    "        \"iter_callback\":None,\n",
    "        \"exponential_decay\":False\n",
    "    }\n",
    "    \n",
    "    print(\"#\"*20)\n",
    "    print(\"svd_random_init = {}\".format(svd_random_init))\n",
    "    print(\"#\"*20)\n",
    "    tf_params = seqtf_model_build(config, training_data, data_description)\n",
    "    tf_scores = tf_scoring(tf_params, testset_valid, data_description)\n",
    "    downvote_seen_items(tf_scores, testset_valid, data_description)\n",
    "    tf_recs = topn_recommendations(tf_scores, topn=10)\n",
    "    hit_rate, mrr, coverage = np.round(model_evaluate(tf_recs, holdout_valid, data_description), 4)\n",
    "    print(\"hit_rate = {}, mrr = {}, coverage = {}\".format(hit_rate, mrr, coverage))\n",
    "    results_svd_init.append((hit_rate, mrr, coverage))"
   ]
  },
  {
   "cell_type": "code",
   "execution_count": 181,
   "metadata": {
    "scrolled": true
   },
   "outputs": [
    {
     "name": "stdout",
     "output_type": "stream",
     "text": [
      "####################\n",
      "Linear decay with attention = 0.01\n",
      "####################\n",
      "growth of the core: 1.0\n",
      "growth of the core: 0.2672544003336291\n",
      "growth of the core: 0.026723099823996697\n",
      "growth of the core: 0.00706782439948392\n",
      "growth of the core: 0.00264011007898132\n",
      "growth of the core: 0.0011689573272384301\n",
      "growth of the core: 0.0005775948931953247\n",
      "growth of the core: 0.00032147830488982095\n",
      "growth of the core: 0.00020136645474647067\n",
      "growth of the core: 0.00013754239209982713\n",
      "growth of the core: 9.838096933248811e-05\n",
      "Core is no longer growing. Norm of the core: 37.34572644026385.\n",
      "hit_rate = 0.0507, mrr = 0.0159, coverage = 0.1481\n",
      "####################\n",
      "Linear decay with attention = 0.1\n",
      "####################\n",
      "growth of the core: 1.0\n",
      "growth of the core: 0.27934837353171027\n",
      "growth of the core: 0.017356555448977032\n",
      "growth of the core: 0.0039044124760133506\n",
      "growth of the core: 0.0018037882878430367\n",
      "growth of the core: 0.0008624937969685271\n",
      "growth of the core: 0.0004556678567788813\n",
      "growth of the core: 0.00027106919893483565\n",
      "growth of the core: 0.00017664510725322744\n",
      "growth of the core: 0.00012123791731922564\n",
      "growth of the core: 8.483862141472758e-05\n",
      "Core is no longer growing. Norm of the core: 37.4185232094563.\n",
      "hit_rate = 0.0507, mrr = 0.0174, coverage = 0.1468\n",
      "####################\n",
      "Linear decay with attention = 1\n",
      "####################\n",
      "growth of the core: 1.0\n",
      "growth of the core: 0.37471558308257213\n",
      "growth of the core: 0.02931286136012343\n",
      "growth of the core: 0.0031538908794840914\n",
      "growth of the core: 0.0009751508873756038\n",
      "growth of the core: 0.00029955015941750203\n",
      "growth of the core: 3.727518808150735e-05\n",
      "Core is no longer growing. Norm of the core: 43.153429070989624.\n",
      "hit_rate = 0.0547, mrr = 0.0161, coverage = 0.147\n",
      "####################\n",
      "Linear decay with attention = 2\n",
      "####################\n",
      "growth of the core: 1.0\n",
      "growth of the core: 0.3856022848431353\n",
      "growth of the core: 0.040592784440143116\n",
      "growth of the core: 0.005625665726161566\n",
      "growth of the core: 0.0021086931915051403\n",
      "growth of the core: 0.0011008057505771743\n",
      "growth of the core: 0.0006706752287011723\n",
      "growth of the core: 0.000466333440749245\n",
      "growth of the core: 0.00034772929677848446\n",
      "growth of the core: 0.000265797948841071\n",
      "growth of the core: 0.00020359350744186976\n",
      "growth of the core: 0.00015429011728932695\n",
      "growth of the core: 0.00011565259714189791\n",
      "growth of the core: 8.63865942235733e-05\n",
      "Core is no longer growing. Norm of the core: 44.311172191130375.\n",
      "hit_rate = 0.0453, mrr = 0.0117, coverage = 0.1309\n",
      "####################\n",
      "Linear decay with attention = 5\n",
      "####################\n",
      "growth of the core: 1.0\n",
      "growth of the core: 0.34850410091498213\n",
      "growth of the core: 0.10777875578913419\n",
      "growth of the core: 0.03322163359262184\n",
      "growth of the core: 0.012742984469912946\n",
      "growth of the core: 0.002614458701666553\n",
      "growth of the core: 0.0007948583892173114\n",
      "growth of the core: 0.00036079284731540797\n",
      "growth of the core: 0.0001916781019800475\n",
      "growth of the core: 0.00011482967862026246\n",
      "growth of the core: 7.948851966827301e-05\n",
      "Core is no longer growing. Norm of the core: 44.366002533891894.\n",
      "hit_rate = 0.0373, mrr = 0.0111, coverage = 0.1309\n",
      "####################\n",
      "Linear decay with attention = 10\n",
      "####################\n",
      "growth of the core: 1.0\n",
      "growth of the core: 0.34115086999005495\n",
      "growth of the core: 0.11571277434799786\n",
      "growth of the core: 0.03635873726002209\n",
      "growth of the core: 0.017472853406856427\n",
      "growth of the core: 0.0051200932853133424\n",
      "growth of the core: 0.0012946448345573052\n",
      "growth of the core: 0.0005505685350323034\n",
      "growth of the core: 0.00028359619227944795\n",
      "growth of the core: 0.00015872562860464584\n",
      "growth of the core: 9.247194005868448e-05\n",
      "Core is no longer growing. Norm of the core: 44.375723060829195.\n",
      "hit_rate = 0.04, mrr = 0.0112, coverage = 0.1276\n"
     ]
    }
   ],
   "source": [
    "attention_decays_linear = [0.01, 0.1, 1, 2, 5, 10]\n",
    "results_linear_decay = []\n",
    "\n",
    "for attention_decay in attention_decays_linear:\n",
    "    config = {\n",
    "        #popularity scaling. 1 is factorization without any reweighting\n",
    "        # (no reweighting)\n",
    "        \"scaling\": 1.0,\n",
    "\n",
    "        #multilinear rank is smaller tnan 50 that is used for svd\n",
    "        \"mlrank\": (30, 30, 5),\n",
    "        \"n_pos\": n_pos,\n",
    "        \"num_iters\": 20,\n",
    "        \"attention_decay\": attention_decay,\n",
    "        \"randomized\": svd_random_init,\n",
    "        \"growth_tol\": 1e-4,\n",
    "        \"seed\": 42,\n",
    "        \"iter_callback\":None,\n",
    "        \"exponential_decay\":False\n",
    "    }\n",
    "    \n",
    "    print(\"#\"*20)\n",
    "    print(\"Linear decay with attention = {}\".format(attention_decay))\n",
    "    print(\"#\"*20)\n",
    "    tf_params = seqtf_model_build(config, training_data, data_description)\n",
    "    tf_scores = tf_scoring(tf_params, testset_valid, data_description)\n",
    "    downvote_seen_items(tf_scores, testset_valid, data_description)\n",
    "    tf_recs = topn_recommendations(tf_scores, topn=10)\n",
    "    hit_rate, mrr, coverage = np.round(model_evaluate(tf_recs, holdout_valid, data_description), 4)\n",
    "    print(\"hit_rate = {}, mrr = {}, coverage = {}\".format(hit_rate, mrr, coverage))\n",
    "    results_linear_decay.append((hit_rate, mrr, coverage))"
   ]
  },
  {
   "cell_type": "code",
   "execution_count": 183,
   "metadata": {
    "scrolled": true
   },
   "outputs": [
    {
     "name": "stdout",
     "output_type": "stream",
     "text": [
      "####################\n",
      "Exponential decay with attention = 0.0001\n",
      "####################\n",
      "growth of the core: 1.0\n",
      "growth of the core: 0.2670350915934578\n",
      "growth of the core: 0.02691385084095853\n",
      "growth of the core: 0.007122611280289261\n",
      "growth of the core: 0.002659558220052235\n",
      "growth of the core: 0.0011779165689092912\n",
      "growth of the core: 0.0005818771127776927\n",
      "growth of the core: 0.00032346815980841535\n",
      "growth of the core: 0.00020225847994472722\n",
      "growth of the core: 0.0001379080485096497\n",
      "growth of the core: 9.848916023167341e-05\n",
      "Core is no longer growing. Norm of the core: 37.346573900513.\n",
      "hit_rate = 0.0493, mrr = 0.0157, coverage = 0.147\n",
      "####################\n",
      "Exponential decay with attention = 0.001\n",
      "####################\n",
      "growth of the core: 1.0\n",
      "growth of the core: 0.2759720094015907\n",
      "growth of the core: 0.020068819525994742\n",
      "growth of the core: 0.004943591831014345\n",
      "growth of the core: 0.0020076592828185843\n",
      "growth of the core: 0.0009037388614631818\n",
      "growth of the core: 0.0004647592749098964\n",
      "growth of the core: 0.000275701632141675\n",
      "growth of the core: 0.00018223307815610186\n",
      "growth of the core: 0.00012792957145031718\n",
      "growth of the core: 9.172754824943039e-05\n",
      "Core is no longer growing. Norm of the core: 37.411243826583174.\n",
      "hit_rate = 0.048, mrr = 0.0158, coverage = 0.1479\n",
      "####################\n",
      "Exponential decay with attention = 0.01\n",
      "####################\n",
      "growth of the core: 1.0\n",
      "growth of the core: 0.32353885025711865\n",
      "growth of the core: 0.01269775396580697\n",
      "growth of the core: -0.0010140854216407192\n",
      "Core is no longer growing. Norm of the core: 39.26974772516044.\n",
      "hit_rate = 0.056, mrr = 0.0205, coverage = 0.1495\n",
      "####################\n",
      "Exponential decay with attention = 0.1\n",
      "####################\n",
      "growth of the core: 1.0\n",
      "growth of the core: 0.3732834988857339\n",
      "growth of the core: 0.028000312417335464\n",
      "growth of the core: 0.004072450263973299\n",
      "growth of the core: 0.0017039091912040818\n",
      "growth of the core: 0.000856064034376652\n",
      "growth of the core: 0.0004494695170955893\n",
      "growth of the core: 0.0002469094518100038\n",
      "growth of the core: 0.0001413713742154189\n",
      "growth of the core: 8.398520637812354e-05\n",
      "Core is no longer growing. Norm of the core: 43.6771078985425.\n",
      "hit_rate = 0.0453, mrr = 0.0143, coverage = 0.1405\n",
      "####################\n",
      "Exponential decay with attention = 1\n",
      "####################\n",
      "growth of the core: 1.0\n",
      "growth of the core: 0.38103893797291244\n",
      "growth of the core: 0.04988293278186034\n",
      "growth of the core: 0.006826335343551307\n",
      "growth of the core: 0.0022735374334506933\n",
      "growth of the core: 0.0011282902944024687\n",
      "growth of the core: 0.0006447216583155294\n",
      "growth of the core: 0.00038682870561741376\n",
      "growth of the core: 0.0002367848578498214\n",
      "growth of the core: 0.00015021298565943747\n",
      "growth of the core: 0.00010111819878463005\n",
      "growth of the core: 7.357374556984442e-05\n",
      "Core is no longer growing. Norm of the core: 44.35857432120476.\n",
      "hit_rate = 0.0373, mrr = 0.011, coverage = 0.1298\n",
      "####################\n",
      "Exponential decay with attention = 2\n",
      "####################\n",
      "growth of the core: 1.0\n",
      "growth of the core: 0.35823883846437155\n",
      "growth of the core: 0.095778023547431\n",
      "growth of the core: 0.019417523457143586\n",
      "growth of the core: 0.0035860172856743387\n",
      "growth of the core: 0.0011842960234466425\n",
      "growth of the core: 0.0004734068117004339\n",
      "growth of the core: 0.00022257742530845965\n",
      "growth of the core: 0.00011958875634071324\n",
      "growth of the core: 7.17100811865418e-05\n",
      "Core is no longer growing. Norm of the core: 44.37524049745688.\n",
      "hit_rate = 0.0413, mrr = 0.0115, coverage = 0.1276\n",
      "####################\n",
      "Exponential decay with attention = 5\n",
      "####################\n",
      "growth of the core: 1.0\n",
      "growth of the core: 0.3421990048724635\n",
      "growth of the core: 0.11451548299008278\n",
      "growth of the core: 0.03565960521197597\n",
      "growth of the core: 0.0172896438888448\n",
      "growth of the core: 0.004482407849825793\n",
      "growth of the core: 0.0011001902315226956\n",
      "growth of the core: 0.0004978701261095615\n",
      "growth of the core: 0.00027822108498344627\n",
      "growth of the core: 0.00016585942943619117\n",
      "growth of the core: 0.00010063355661950392\n",
      "growth of the core: 6.063417135328273e-05\n",
      "Core is no longer growing. Norm of the core: 44.37786206458308.\n",
      "hit_rate = 0.044, mrr = 0.0118, coverage = 0.129\n",
      "####################\n",
      "Exponential decay with attention = 10\n",
      "####################\n",
      "growth of the core: 1.0\n",
      "growth of the core: 0.340901612710345\n",
      "growth of the core: 0.11601548834999464\n",
      "growth of the core: 0.036496531560589546\n",
      "growth of the core: 0.01746883201921189\n",
      "growth of the core: 0.005222057891269201\n",
      "growth of the core: 0.0013327119479004583\n",
      "growth of the core: 0.0005563447283028076\n",
      "growth of the core: 0.00028204673617723337\n",
      "growth of the core: 0.00015669717365023064\n",
      "growth of the core: 9.135721418337054e-05\n",
      "Core is no longer growing. Norm of the core: 44.37563176223794.\n",
      "hit_rate = 0.04, mrr = 0.0112, coverage = 0.1273\n"
     ]
    }
   ],
   "source": [
    "attention_decays_exp = [0.0001, 0.001, 0.01, 0.1, 1, 2, 5, 10]\n",
    "results_exp_decay = []\n",
    "\n",
    "for attention_decay in attention_decays_exp:\n",
    "    config = {\n",
    "        #popularity scaling. 1 is factorization without any reweighting\n",
    "        # (no reweighting)\n",
    "        \"scaling\": 1.0,\n",
    "\n",
    "        #multilinear rank is smaller tnan 50 that is used for svd\n",
    "        \"mlrank\": (30, 30, 5),\n",
    "        \"n_pos\": n_pos,\n",
    "        \"num_iters\": 20,\n",
    "        \"attention_decay\": attention_decay,\n",
    "        \"randomized\": svd_random_init,\n",
    "        \"growth_tol\": 1e-4,\n",
    "        \"seed\": 42,\n",
    "        \"iter_callback\":None,\n",
    "        \"exponential_decay\":True\n",
    "    }\n",
    "    \n",
    "    print(\"#\"*20)\n",
    "    print(\"Exponential decay with attention = {}\".format(attention_decay))\n",
    "    print(\"#\"*20)\n",
    "    tf_params = seqtf_model_build(config, training_data, data_description)\n",
    "    tf_scores = tf_scoring(tf_params, testset_valid, data_description)\n",
    "    downvote_seen_items(tf_scores, testset_valid, data_description)\n",
    "    tf_recs = topn_recommendations(tf_scores, topn=10)\n",
    "    hit_rate, mrr, coverage = np.round(model_evaluate(tf_recs, holdout_valid, data_description), 4)\n",
    "    print(\"hit_rate = {}, mrr = {}, coverage = {}\".format(hit_rate, mrr, coverage))\n",
    "    results_exp_decay.append((hit_rate, mrr, coverage))"
   ]
  },
  {
   "cell_type": "markdown",
   "metadata": {},
   "source": [
    "## Quality metrics and exponential decay"
   ]
  },
  {
   "cell_type": "code",
   "execution_count": 206,
   "metadata": {},
   "outputs": [
    {
     "data": {
      "image/png": "[encoded data removed]",
      "text/plain": [
       "<Figure size 864x432 with 2 Axes>"
      ]
     },
     "metadata": {
      "needs_background": "light"
     },
     "output_type": "display_data"
    }
   ],
   "source": [
    "fig, ax1 = plt.subplots(figsize = (12,6))\n",
    "plt.title(\"Exponential decay\")\n",
    "color = 'tab:red'\n",
    "ax1.set_xlabel('attention decay value')\n",
    "ax1.set_ylabel('Hit rate', color=color)\n",
    "ax1.set_xscale(\"log\")\n",
    "ax1.plot(attention_decays_exp, np.array(results_exp_decay)[:,0], color=color)\n",
    "ax1.tick_params(axis='y', labelcolor=color)\n",
    "\n",
    "ax2 = ax1.twinx()  # instantiate a second axes that shares the same x-axis\n",
    "\n",
    "color = 'tab:blue'\n",
    "ax2.set_ylabel('MRR', color=color)  # we already handled the x-label with ax1\n",
    "ax2.plot(attention_decays_exp, np.array(results_exp_decay)[:,1], color=color)\n",
    "ax2.tick_params(axis='y', labelcolor=color)\n",
    "ax2.set_xscale(\"log\")\n",
    "\n",
    "fig.tight_layout()  # otherwise the right y-label is slightly clipped\n",
    "plt.show()"
   ]
  },
  {
   "cell_type": "code",
   "execution_count": 207,
   "metadata": {},
   "outputs": [
    {
     "data": {
      "image/png": "[encoded data removed]",
      "text/plain": [
       "<Figure size 864x432 with 2 Axes>"
      ]
     },
     "metadata": {
      "needs_background": "light"
     },
     "output_type": "display_data"
    }
   ],
   "source": [
    "fig, ax1 = plt.subplots(figsize = (12,6))\n",
    "plt.title(\"Exponential decay\")\n",
    "color = 'tab:red'\n",
    "ax1.set_xlabel('attention decay value')\n",
    "ax1.set_ylabel('Hit rate', color=color)\n",
    "ax1.set_xscale(\"log\")\n",
    "ax1.plot(attention_decays_exp, np.array(results_exp_decay)[:,0], color=color)\n",
    "ax1.tick_params(axis='y', labelcolor=color)\n",
    "\n",
    "ax2 = ax1.twinx()  # instantiate a second axes that shares the same x-axis\n",
    "\n",
    "color = 'tab:blue'\n",
    "ax2.set_ylabel('Coverage', color=color)  # we already handled the x-label with ax1\n",
    "ax2.plot(attention_decays_exp, np.array(results_exp_decay)[:,2], color=color)\n",
    "ax2.tick_params(axis='y', labelcolor=color)\n",
    "ax2.set_xscale(\"log\")\n",
    "\n",
    "fig.tight_layout()  # otherwise the right y-label is slightly clipped\n",
    "plt.show()"
   ]
  },
  {
   "cell_type": "markdown",
   "metadata": {},
   "source": [
    "## Quality metrics and linear decay"
   ]
  },
  {
   "cell_type": "code",
   "execution_count": 204,
   "metadata": {},
   "outputs": [
    {
     "data": {
      "image/png": "[encoded data removed]",
      "text/plain": [
       "<Figure size 864x432 with 2 Axes>"
      ]
     },
     "metadata": {
      "needs_background": "light"
     },
     "output_type": "display_data"
    }
   ],
   "source": [
    "fig, ax1 = plt.subplots(figsize = (12,6))\n",
    "plt.title(\"Linear decay\")\n",
    "color = 'tab:red'\n",
    "ax1.set_xlabel('attention decay value')\n",
    "ax1.set_ylabel('Hit rate', color=color)\n",
    "ax1.set_xscale(\"log\")\n",
    "ax1.plot(attention_decays_linear, np.array(results_linear_decay)[:,0], color=color)\n",
    "ax1.tick_params(axis='y', labelcolor=color)\n",
    "\n",
    "ax2 = ax1.twinx()  # instantiate a second axes that shares the same x-axis\n",
    "\n",
    "color = 'tab:blue'\n",
    "ax2.set_ylabel('MRR', color=color)  # we already handled the x-label with ax1\n",
    "ax2.plot(attention_decays_linear, np.array(results_linear_decay)[:,1], color=color)\n",
    "ax2.tick_params(axis='y', labelcolor=color)\n",
    "ax2.set_xscale(\"log\")\n",
    "\n",
    "fig.tight_layout()  # otherwise the right y-label is slightly clipped\n",
    "plt.show()"
   ]
  },
  {
   "cell_type": "code",
   "execution_count": 205,
   "metadata": {},
   "outputs": [
    {
     "data": {
      "image/png": "[encoded data removed]",
      "text/plain": [
       "<Figure size 864x432 with 2 Axes>"
      ]
     },
     "metadata": {
      "needs_background": "light"
     },
     "output_type": "display_data"
    }
   ],
   "source": [
    "fig, ax1 = plt.subplots(figsize = (12,6))\n",
    "plt.title(\"linear decay\")\n",
    "color = 'tab:red'\n",
    "ax1.set_xlabel('attention decay value')\n",
    "ax1.set_ylabel('Hit rate', color=color)\n",
    "ax1.set_xscale(\"log\")\n",
    "ax1.plot(attention_decays_linear, np.array(results_linear_decay)[:,0], color=color)\n",
    "ax1.tick_params(axis='y', labelcolor=color)\n",
    "\n",
    "ax2 = ax1.twinx()  # instantiate a second axes that shares the same x-axis\n",
    "\n",
    "color = 'tab:blue'\n",
    "ax2.set_ylabel('Coverage', color=color)  # we already handled the x-label with ax1\n",
    "ax2.plot(attention_decays_linear, np.array(results_linear_decay)[:,2], color=color)\n",
    "ax2.tick_params(axis='y', labelcolor=color)\n",
    "ax2.set_xscale(\"log\")\n",
    "\n",
    "fig.tight_layout()  # otherwise the right y-label is slightly clipped\n",
    "plt.show()"
   ]
  },
  {
   "cell_type": "markdown",
   "metadata": {},
   "source": [
    "## SVD random initialization. difference in terms of metrics"
   ]
  },
  {
   "cell_type": "code",
   "execution_count": 219,
   "metadata": {},
   "outputs": [
    {
     "data": {
      "text/plain": [
       "array([ 0.        ,  3.01204819, -0.34129693])"
      ]
     },
     "execution_count": 219,
     "metadata": {},
     "output_type": "execute_result"
    }
   ],
   "source": [
    "(np.array(results_svd_init)[0,:] - np.array(results_svd_init)[1,:]) / np.array(results_svd_init)[0,:] *100"
   ]
  },
  {
   "cell_type": "markdown",
   "metadata": {},
   "source": [
    "# Scalings"
   ]
  },
  {
   "cell_type": "code",
   "execution_count": 236,
   "metadata": {},
   "outputs": [
    {
     "data": {
      "image/png": "[encoded data removed]",
      "text/plain": [
       "<Figure size 864x432 with 2 Axes>"
      ]
     },
     "metadata": {
      "needs_background": "light"
     },
     "output_type": "display_data"
    }
   ],
   "source": [
    "fig, ax1 = plt.subplots(figsize = (12,6))\n",
    "plt.title(\"Scaling\")\n",
    "color = 'tab:red'\n",
    "ax1.set_xlabel('scale value')\n",
    "ax1.set_ylabel('Hit rate', color=color)\n",
    "\n",
    "ax1.plot(scalings, np.array(results_for_scaling)[:,0], color=color)\n",
    "ax1.tick_params(axis='y', labelcolor=color)\n",
    "\n",
    "ax2 = ax1.twinx()  # instantiate a second axes that shares the same x-axis\n",
    "\n",
    "color = 'tab:blue'\n",
    "ax2.set_ylabel('MRR', color=color)  # we already handled the x-label with ax1\n",
    "ax2.plot(scalings, np.array(results_for_scaling)[:,1], color=color)\n",
    "ax2.tick_params(axis='y', labelcolor=color)\n",
    "\n",
    "\n",
    "fig.tight_layout()  # otherwise the right y-label is slightly clipped\n",
    "plt.show()"
   ]
  },
  {
   "cell_type": "code",
   "execution_count": 238,
   "metadata": {},
   "outputs": [
    {
     "data": {
      "image/png": "[encoded data removed]",
      "text/plain": [
       "<Figure size 864x432 with 2 Axes>"
      ]
     },
     "metadata": {
      "needs_background": "light"
     },
     "output_type": "display_data"
    }
   ],
   "source": [
    "fig, ax1 = plt.subplots(figsize = (12,6))\n",
    "plt.title(\"Scaling\")\n",
    "color = 'tab:red'\n",
    "ax1.set_xlabel('scale value')\n",
    "ax1.set_ylabel('Hit rate', color=color)\n",
    "\n",
    "ax1.plot(scalings, np.array(results_for_scaling)[:,0], color=color)\n",
    "ax1.tick_params(axis='y', labelcolor=color)\n",
    "\n",
    "ax2 = ax1.twinx()  # instantiate a second axes that shares the same x-axis\n",
    "\n",
    "color = 'tab:blue'\n",
    "ax2.set_ylabel('Coverage', color=color)  # we already handled the x-label with ax1\n",
    "ax2.plot(scalings, np.array(results_for_scaling)[:,2], color=color)\n",
    "ax2.tick_params(axis='y', labelcolor=color)\n",
    "\n",
    "\n",
    "fig.tight_layout()  # otherwise the right y-label is slightly clipped\n",
    "plt.show()"
   ]
  },
  {
   "cell_type": "code",
   "execution_count": null,
   "metadata": {},
   "outputs": [],
   "source": []
  }
 ],
 "metadata": {
  "interpreter": {
   "hash": "009c838d92940ae6fa3c0eca0f0908a58be7fe030119f0cd30e204cb459dcff7"
  },
  "kernelspec": {
   "display_name": "Python 3 (ipykernel)",
   "language": "python",
   "name": "python3"
  },
  "language_info": {
   "codemirror_mode": {
    "name": "ipython",
    "version": 3
   },
   "file_extension": ".py",
   "mimetype": "text/x-python",
   "name": "python",
   "nbconvert_exporter": "python",
   "pygments_lexer": "ipython3",
   "version": "3.8.12"
  }
 },
 "nbformat": 4,
 "nbformat_minor": 2
}
