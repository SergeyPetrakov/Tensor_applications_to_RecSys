{
 "cells": [
  {
   "cell_type": "markdown",
   "metadata": {},
   "source": [
    "# Import libraries"
   ]
  },
  {
   "cell_type": "code",
   "execution_count": 1,
   "metadata": {},
   "outputs": [],
   "source": [
    "#!pip install numba"
   ]
  },
  {
   "cell_type": "code",
   "execution_count": 2,
   "metadata": {},
   "outputs": [],
   "source": [
    "import numpy as np\n",
    "import pandas as pd\n",
    "import matplotlib.pyplot as plt\n",
    "\n",
    "# We will use polara framework\n",
    "from polara import get_movielens_data\n",
    "from polara.preprocessing.dataframes import leave_one_out, reindex\n",
    "\n",
    "# sparce matrix packages\n",
    "from scipy.sparse import csr_matrix\n",
    "from scipy.sparse.linalg import svds\n",
    "\n",
    "\n",
    "import warnings\n",
    "from functools import wraps\n",
    "from itertools import takewhile, count, islice\n",
    "\n",
    "\n",
    "from scipy.sparse.linalg import svds\n",
    "from scipy.sparse import diags, SparseEfficiencyWarning\n",
    "from scipy.linalg import solve_banded\n",
    "\n",
    "from polara.lib.sparse import arrange_indices\n",
    "from polara.lib.tensor import ttm3d_seq, ttm3d_par\n",
    "try:\n",
    "    from sklearn.utils.extmath import randomized_svd\n",
    "except ImportError:\n",
    "    randomized_svd = None\n",
    "    \n",
    "import torch\n",
    "import random\n",
    "random.seed(42)\n",
    "np.random.seed(42)\n",
    "torch.manual_seed(42);\n"
   ]
  },
  {
   "cell_type": "markdown",
   "metadata": {},
   "source": [
    "# Define useful functions"
   ]
  },
  {
   "cell_type": "code",
   "execution_count": 3,
   "metadata": {},
   "outputs": [],
   "source": [
    "def transform_indices(data, users, items):\n",
    "    data_index = {}\n",
    "    for entity, field in zip(['users', 'items'], [users, items]):\n",
    "        idx, idx_map = to_numeric_id(data, field)\n",
    "        data_index[entity] = idx_map\n",
    "        data.loc[:, field] = idx\n",
    "    return data, data_index\n",
    "\n",
    "def to_numeric_id(data, field):\n",
    "    idx_data = data[field].astype(\"category\")\n",
    "    idx = idx_data.cat.codes\n",
    "    idx_map = idx_data.cat.categories.rename(field)\n",
    "    return idx, idx_map\n",
    "\n",
    "\n",
    "class SeqTFError(Exception):\n",
    "    pass\n",
    "\n",
    "def initialize_columnwise_orthonormal(dims, random_state=None):\n",
    "    if random_state is None:\n",
    "        random_state = np.random\n",
    "    u = random_state.rand(*dims)\n",
    "    u = np.linalg.qr(u, mode='reduced')[0]\n",
    "    return u\n",
    "\n",
    "\n",
    "def core_growth_callback(growth_tol):\n",
    "    def check_core_growth(step, core_norm, factors):\n",
    "        g_growth = (core_norm - check_core_growth.core_norm) / core_norm\n",
    "        check_core_growth.core_norm = core_norm\n",
    "        print(f'growth of the core: {g_growth}')\n",
    "        if g_growth < growth_tol:\n",
    "            print(f'Core is no longer growing. Norm of the core: {core_norm}.')\n",
    "            raise StopIteration\n",
    "    check_core_growth.core_norm = 0\n",
    "    return check_core_growth\n",
    "\n",
    "\n",
    "def sa_hooi(\n",
    "        idx, val, shape, mlrank, attention_matrix, scaling_weights,\n",
    "        max_iters = 10,\n",
    "        parallel_ttm = False,\n",
    "        growth_tol = 0.001,\n",
    "        randomized=True,\n",
    "        seed = None,\n",
    "        iter_callback=None,\n",
    "    ):\n",
    "    \n",
    "    assert valid_mlrank(mlrank)\n",
    "    n_users, n_items, n_positions = shape\n",
    "    r0, r1, r2 = mlrank\n",
    "    \n",
    "    tensor_data = idx, val, shape\n",
    "    if not isinstance(parallel_ttm, (list, tuple)):\n",
    "        parallel_ttm = [parallel_ttm] * len(shape)\n",
    "\n",
    "    assert len(shape) == len(parallel_ttm)\n",
    "\n",
    "    index_data = arrange_indices(idx, parallel_ttm)\n",
    "    ttm = [ttm3d_par if par else ttm3d_seq for par in parallel_ttm]\n",
    "\n",
    "    random_state = np.random if seed is None else np.random.RandomState(seed)\n",
    "    u1 = initialize_columnwise_orthonormal((n_items, r1), random_state)\n",
    "    uw = u1 * scaling_weights[:, np.newaxis]\n",
    "    u2 = initialize_columnwise_orthonormal((n_positions, r2), random_state)\n",
    "    ua = attention_matrix.dot(u2)\n",
    "\n",
    "    if randomized:\n",
    "        svd = randomized_svd\n",
    "        svd_config = lambda rank: dict(n_components=rank, random_state=seed)\n",
    "    else:\n",
    "        svd = svds\n",
    "        svd_config = lambda rank: dict(k=rank, return_singular_vectors='u')\n",
    "    \n",
    "    if iter_callback is None:\n",
    "        iter_callback = core_growth_callback(growth_tol)\n",
    "        \n",
    "    \n",
    "    for step in range(max_iters):\n",
    "        ttm0 = ttm[0](*tensor_data, ua, uw, ((2, 0), (1, 0)), *index_data[0]).reshape(shape[0], r1*r2)\n",
    "        u0, *_ = svd(ttm0, **svd_config(r0))\n",
    "\n",
    "        ttm1 = ttm[1](*tensor_data, ua, u0, ((2, 0), (0, 0)), *index_data[1]).reshape(shape[1], r0*r2)\n",
    "        u1, *_ = svd(ttm1, **svd_config(r1))\n",
    "        uw = u1 * scaling_weights[:, np.newaxis]\n",
    "        \n",
    "\n",
    "        ttm2 = ttm[2](*tensor_data, uw, u0, ((1, 0), (0, 0)), *index_data[2]).reshape(shape[2], r0*r1)\n",
    "        u2, ss, _ = svd(ttm2, **svd_config(r2))\n",
    "        ua = attention_matrix.dot(u2)\n",
    "\n",
    "        factors = (u0, u1, u2)\n",
    "        try:\n",
    "            iter_callback(step, np.linalg.norm(ss), factors)\n",
    "        except StopIteration:\n",
    "            break\n",
    "    return factors\n",
    "\n",
    "\n",
    "def exp_decay(decay_factor, n):\n",
    "    return np.e**(-(n-1)*decay_factor)\n",
    "\n",
    "def lin_decay(decay_factor, n):\n",
    "    return n**(-decay_factor)\n",
    "\n",
    "\n",
    "\n",
    "def attention_weights(decay_factor, cutoff, max_elements=None, exponential_decay=False, reverse=False):\n",
    "    if (decay_factor == 0 or cutoff == 0) and (max_elements is None or max_elements <= 0):\n",
    "        raise SeqTFError('Infinite sequence.')\n",
    "    decay_function = exp_decay if exponential_decay else lin_decay\n",
    "    weights = takewhile(lambda x: x>=cutoff, (decay_function(decay_factor, n) for n in count(1, 1)))\n",
    "    if max_elements is not None:\n",
    "        weights = islice(weights, max_elements)\n",
    "    if reverse:\n",
    "        return list(reversed(list(weights)))\n",
    "    return list(weights)\n",
    "\n",
    "def form_attention_matrix(size, decay_factor, cutoff=0, span=0, exponential_decay=False, reverse=False, format='csc', stochastic_axis=None, dtype=None):\n",
    "    stochastic = stochastic_axis is not None\n",
    "    span = min(span or np.iinfo('i8').max, size)\n",
    "    weights = attention_weights(decay_factor, cutoff=cutoff, max_elements=span, exponential_decay=exponential_decay, reverse=reverse)\n",
    "    diag_values = [np.broadcast_to(w, size) for w in weights]\n",
    "    matrix = diags(diag_values, offsets=range(0, -len(diag_values), -1), format=format, dtype=dtype)\n",
    "    if stochastic:\n",
    "        scalings = matrix.sum(axis=stochastic_axis).A.squeeze()\n",
    "        if stochastic_axis == 0:\n",
    "            matrix = matrix.dot(diags(1./scalings))\n",
    "        else:\n",
    "            matrix = diags(1./scalings).dot(matrix)\n",
    "    return matrix.asformat(format)\n",
    "\n",
    "\n",
    "def generate_banded_form(matrix):\n",
    "    matrix = matrix.todia()\n",
    "    bands = matrix.data\n",
    "    offsets = matrix.offsets\n",
    "    num_l = (offsets < 0).sum()\n",
    "    num_u = (offsets > 0).sum()\n",
    "    return (num_l, num_u), bands[np.argsort(offsets)[::-1], :]\n",
    "\n",
    "\n",
    "def generate_position_projector(attention_matrix, position_factors):\n",
    "    shape, bands = generate_banded_form(attention_matrix.T)\n",
    "    wl = solve_banded(shape, bands, position_factors)\n",
    "    wr = attention_matrix.dot(position_factors)\n",
    "    last_position_projector = wr @ wl[-1, :]\n",
    "    return last_position_projector\n",
    "\n",
    "\n",
    "def get_scaling_weights(frequencies, scaling=1.0):\n",
    "    return np.power(frequencies, 0.5*(scaling-1.0))\n",
    "\n",
    "\n",
    "def valid_mlrank(mlrank):\n",
    "    prod = np.prod(mlrank)\n",
    "    return all(prod//r > r for r in mlrank)\n",
    "\n",
    "def downvote_seen_items(scores, data, data_description):\n",
    "    userid = data_description['users']\n",
    "    itemid = data_description['items']\n",
    "    # get indices of observed data\n",
    "    user_idx = data[userid].values\n",
    "    item_idx = data[itemid].values\n",
    "    # downvote scores at the corresponding positions\n",
    "    user_idx, _ = pd.factorize(user_idx, sort=True)\n",
    "    seen_idx_flat = np.ravel_multi_index((user_idx, item_idx), scores.shape)\n",
    "    np.put(scores, seen_idx_flat, -np.inf)\n",
    "\n",
    "\n",
    "def topn_recommendations(scores, topn=10):\n",
    "    recommendations = np.apply_along_axis(topidx, 1, scores, topn)\n",
    "    return recommendations\n",
    "\n",
    "\n",
    "def topidx(a, topn):\n",
    "    parted = np.argpartition(a, -topn)[-topn:]\n",
    "    return parted[np.argsort(-a[parted])]\n",
    "\n",
    "\n",
    "def model_evaluate(recommended_items, holdout, holdout_description, topn=10):\n",
    "    itemid = holdout_description['items']\n",
    "    holdout_items = holdout[itemid].values\n",
    "    assert recommended_items.shape[0] == len(holdout_items)\n",
    "    hits_mask = recommended_items[:, :topn] == holdout_items.reshape(-1, 1)\n",
    "    # HR calculation\n",
    "    hr = np.mean(hits_mask.any(axis=1))\n",
    "    # MRR calculation\n",
    "    n_test_users = recommended_items.shape[0]\n",
    "    hit_rank = np.where(hits_mask)[1] + 1.0\n",
    "    mrr = np.sum(1 / hit_rank) / n_test_users\n",
    "    # coverage calculation\n",
    "    n_items = holdout_description['n_items']\n",
    "    cov = np.unique(recommended_items).size / n_items\n",
    "    return hr, mrr, cov\n",
    "\n"
   ]
  },
  {
   "cell_type": "markdown",
   "metadata": {},
   "source": [
    "# dowloading and preparing data"
   ]
  },
  {
   "cell_type": "code",
   "execution_count": 4,
   "metadata": {},
   "outputs": [
    {
     "data": {
      "text/html": [
       "<div>\n",
       "<style scoped>\n",
       "    .dataframe tbody tr th:only-of-type {\n",
       "        vertical-align: middle;\n",
       "    }\n",
       "\n",
       "    .dataframe tbody tr th {\n",
       "        vertical-align: top;\n",
       "    }\n",
       "\n",
       "    .dataframe thead th {\n",
       "        text-align: right;\n",
       "    }\n",
       "</style>\n",
       "<table border=\"1\" class=\"dataframe\">\n",
       "  <thead>\n",
       "    <tr style=\"text-align: right;\">\n",
       "      <th></th>\n",
       "      <th>userid</th>\n",
       "      <th>movieid</th>\n",
       "      <th>rating</th>\n",
       "      <th>timestamp</th>\n",
       "    </tr>\n",
       "  </thead>\n",
       "  <tbody>\n",
       "    <tr>\n",
       "      <th>0</th>\n",
       "      <td>1</td>\n",
       "      <td>1193</td>\n",
       "      <td>5</td>\n",
       "      <td>978300760</td>\n",
       "    </tr>\n",
       "    <tr>\n",
       "      <th>1</th>\n",
       "      <td>1</td>\n",
       "      <td>661</td>\n",
       "      <td>3</td>\n",
       "      <td>978302109</td>\n",
       "    </tr>\n",
       "    <tr>\n",
       "      <th>2</th>\n",
       "      <td>1</td>\n",
       "      <td>914</td>\n",
       "      <td>3</td>\n",
       "      <td>978301968</td>\n",
       "    </tr>\n",
       "  </tbody>\n",
       "</table>\n",
       "</div>"
      ],
      "text/plain": [
       "   userid  movieid  rating  timestamp\n",
       "0       1     1193       5  978300760\n",
       "1       1      661       3  978302109\n",
       "2       1      914       3  978301968"
      ]
     },
     "execution_count": 4,
     "metadata": {},
     "output_type": "execute_result"
    }
   ],
   "source": [
    "mldata = get_movielens_data(include_time=True)\n",
    "mldata.head(3)"
   ]
  },
  {
   "cell_type": "markdown",
   "metadata": {},
   "source": [
    "## Data splitting"
   ]
  },
  {
   "cell_type": "code",
   "execution_count": 5,
   "metadata": {},
   "outputs": [],
   "source": [
    "test_timepoint = mldata['timestamp'].quantile(\n",
    "    q=0.9, interpolation='nearest'\n",
    ")\n",
    "\n",
    "test_data_ = mldata.query('timestamp >= @test_timepoint')\n",
    "\n",
    "train_data_ = mldata.query(\n",
    "    'userid not in @test_data_.userid.unique() and timestamp < @test_timepoint'\n",
    ")"
   ]
  },
  {
   "cell_type": "markdown",
   "metadata": {},
   "source": [
    "#### percentage of numerical values in data"
   ]
  },
  {
   "cell_type": "code",
   "execution_count": 6,
   "metadata": {},
   "outputs": [
    {
     "data": {
      "text/plain": [
       "0.03615576499436098"
      ]
     },
     "execution_count": 6,
     "metadata": {},
     "output_type": "execute_result"
    }
   ],
   "source": [
    "train_data_.shape[0] / np.prod(train_data_.nunique().iloc[:2])"
   ]
  },
  {
   "cell_type": "markdown",
   "metadata": {},
   "source": [
    "#### Reindex dataset to drop gaps"
   ]
  },
  {
   "cell_type": "code",
   "execution_count": 7,
   "metadata": {},
   "outputs": [
    {
     "name": "stdout",
     "output_type": "stream",
     "text": [
      "Filtered 113 invalid observations.\n"
     ]
    }
   ],
   "source": [
    "training, data_index = transform_indices(train_data_.copy(), 'userid', 'movieid')\n",
    "test_data = reindex(test_data_, data_index['items'])\n"
   ]
  },
  {
   "cell_type": "markdown",
   "metadata": {},
   "source": [
    "We sample the last item for each test user.  \n",
    "As all these users are excluded from the training, and training is additionally filtered by timestamp,\n",
    "there will be no \"recommendation from future\" issue - our model is unaware of future correlations.\n"
   ]
  },
  {
   "cell_type": "code",
   "execution_count": 8,
   "metadata": {},
   "outputs": [],
   "source": [
    "testset_, holdout_ = leave_one_out(\n",
    "    test_data, target='timestamp', sample_top=True, random_state=0\n",
    ")\n",
    "testset_valid_, holdout_valid_ = leave_one_out(\n",
    "    testset_, target='timestamp', sample_top=True, random_state=0\n",
    ")"
   ]
  },
  {
   "cell_type": "markdown",
   "metadata": {},
   "source": [
    "Let's focus on validation part."
   ]
  },
  {
   "cell_type": "code",
   "execution_count": 9,
   "metadata": {},
   "outputs": [],
   "source": [
    "test_users = np.intersect1d(testset_valid_.userid.unique(), holdout_valid_.userid.unique())\n",
    "testset_valid = testset_valid_.query('userid in @test_users').sort_values('userid')\n",
    "holdout_valid = holdout_valid_.query('userid in @test_users').sort_values('userid')"
   ]
  },
  {
   "cell_type": "code",
   "execution_count": 10,
   "metadata": {},
   "outputs": [],
   "source": [
    "assert holdout_valid.set_index('userid')['timestamp'].ge(\n",
    "    testset_valid\n",
    "    .groupby('userid')\n",
    "    ['timestamp'].max()\n",
    ").all()"
   ]
  },
  {
   "cell_type": "markdown",
   "metadata": {},
   "source": [
    "## Assigning positional info"
   ]
  },
  {
   "cell_type": "code",
   "execution_count": 11,
   "metadata": {},
   "outputs": [],
   "source": [
    "n_pos = 200"
   ]
  },
  {
   "cell_type": "code",
   "execution_count": 12,
   "metadata": {},
   "outputs": [],
   "source": [
    "def assign_positions(s, maxlen=n_pos):\n",
    "    return np.arange(maxlen-len(s), maxlen)\n"
   ]
  },
  {
   "cell_type": "code",
   "execution_count": 13,
   "metadata": {},
   "outputs": [],
   "source": [
    "training_data = (\n",
    "    training\n",
    "    .sort_values('timestamp')\n",
    "    .assign(\n",
    "        pos = lambda df: df.groupby('userid')['movieid'].transform(assign_positions)\n",
    "    )\n",
    "    .sort_values(['userid', 'timestamp'])\n",
    "    .query('pos>=0')\n",
    ")"
   ]
  },
  {
   "cell_type": "code",
   "execution_count": 14,
   "metadata": {},
   "outputs": [],
   "source": [
    "testset_valid = (\n",
    "    testset_valid\n",
    "    .sort_values('timestamp')\n",
    "    .assign(\n",
    "        pos = lambda df: df.groupby('userid')['movieid'].transform(assign_positions)\n",
    "    )\n",
    "    .sort_values(['userid', 'timestamp'])\n",
    ")"
   ]
  },
  {
   "cell_type": "markdown",
   "metadata": {},
   "source": [
    "# Baseline"
   ]
  },
  {
   "cell_type": "markdown",
   "metadata": {},
   "source": [
    "## PureSVD"
   ]
  },
  {
   "cell_type": "code",
   "execution_count": 15,
   "metadata": {},
   "outputs": [],
   "source": [
    "def matrix_from_observations(data, data_description):\n",
    "    useridx = data[data_description['users']]\n",
    "    itemidx = data[data_description['items']]\n",
    "    values = data[data_description['feedback']]\n",
    "    return csr_matrix((values, (useridx, itemidx)), dtype='f8')\n",
    "\n",
    "\n",
    "def build_svd_model(config, data, data_description):\n",
    "    source_matrix = matrix_from_observations(data, data_description)\n",
    "    _, s, vt = svds(source_matrix, k=config['rank'], return_singular_vectors='vh')\n",
    "    singular_values = s[::-1]\n",
    "    item_factors = np.ascontiguousarray(vt[::-1, :].T)\n",
    "    return item_factors, singular_values"
   ]
  },
  {
   "cell_type": "code",
   "execution_count": 16,
   "metadata": {},
   "outputs": [],
   "source": [
    "data_description = dict(\n",
    "    users = data_index['users'].name,\n",
    "    items = data_index['items'].name,\n",
    "    feedback = 'rating',\n",
    "    positions = 'pos',\n",
    "    n_users = len(data_index['users']),\n",
    "    n_items = len(data_index['items']),\n",
    "    n_pos= n_pos\n",
    ")"
   ]
  },
  {
   "cell_type": "code",
   "execution_count": 17,
   "metadata": {},
   "outputs": [],
   "source": [
    "svd_config = {'rank': 50}\n",
    "svd_params = build_svd_model(svd_config, training, data_description)"
   ]
  },
  {
   "cell_type": "markdown",
   "metadata": {},
   "source": [
    "### singular values"
   ]
  },
  {
   "cell_type": "code",
   "execution_count": 18,
   "metadata": {},
   "outputs": [
    {
     "data": {
      "image/png": "[encoded data removed]",
      "text/plain": [
       "<Figure size 432x288 with 1 Axes>"
      ]
     },
     "metadata": {
      "needs_background": "light"
     },
     "output_type": "display_data"
    }
   ],
   "source": [
    "pd.Series(svd_params[1]).plot();"
   ]
  },
  {
   "cell_type": "code",
   "execution_count": 19,
   "metadata": {},
   "outputs": [],
   "source": [
    "def svd_model_scoring(params, data, data_description):\n",
    "    item_factors, sigma = params\n",
    "    test_data = data.assign(\n",
    "        userid = pd.factorize(data['userid'])[0]\n",
    "    )\n",
    "    test_matrix = matrix_from_observations(test_data, data_description)\n",
    "    print(test_matrix.shape)\n",
    "    print(item_factors.shape)\n",
    "    scores = test_matrix.dot(item_factors) @ item_factors.T\n",
    "    return scores"
   ]
  },
  {
   "cell_type": "code",
   "execution_count": 20,
   "metadata": {},
   "outputs": [
    {
     "name": "stdout",
     "output_type": "stream",
     "text": [
      "(1137, 3635)\n",
      "(3635, 50)\n"
     ]
    }
   ],
   "source": [
    "svd_scores = svd_model_scoring(svd_params, testset_valid, data_description)"
   ]
  },
  {
   "cell_type": "markdown",
   "metadata": {},
   "source": [
    "#### compute scores = number of test users X number of total items in training data set"
   ]
  },
  {
   "cell_type": "code",
   "execution_count": 21,
   "metadata": {},
   "outputs": [
    {
     "data": {
      "text/plain": [
       "(1137, 3635)"
      ]
     },
     "execution_count": 21,
     "metadata": {},
     "output_type": "execute_result"
    }
   ],
   "source": [
    "svd_scores.shape"
   ]
  },
  {
   "cell_type": "markdown",
   "metadata": {},
   "source": [
    "#### reduce predicted score for the seen item"
   ]
  },
  {
   "cell_type": "code",
   "execution_count": 22,
   "metadata": {},
   "outputs": [],
   "source": [
    "downvote_seen_items(svd_scores, testset_valid, data_description)"
   ]
  },
  {
   "cell_type": "code",
   "execution_count": 23,
   "metadata": {},
   "outputs": [
    {
     "data": {
      "text/plain": [
       "(0.07387862796833773, 0.02749822004439419, 0.16946354883081155)"
      ]
     },
     "execution_count": 23,
     "metadata": {},
     "output_type": "execute_result"
    }
   ],
   "source": [
    "svd_recs = topn_recommendations(svd_scores, topn=10)\n",
    "model_evaluate(svd_recs, holdout_valid, data_description)"
   ]
  },
  {
   "cell_type": "markdown",
   "metadata": {},
   "source": [
    "### 1 metric = hit rate (this percent with proper recoms, more or less good 10, top score 15-20), 2 = MRR, 3 = coverage (measure of diversity of recomandations, if low => model generates something popular => useless for the user, we want our recomendations to be diverce = how many unique recoms made on test users/total number of items in catalog, popularity 5%)"
   ]
  },
  {
   "cell_type": "markdown",
   "metadata": {},
   "source": [
    "# Sequential TF"
   ]
  },
  {
   "cell_type": "code",
   "execution_count": 24,
   "metadata": {},
   "outputs": [
    {
     "data": {
      "text/plain": [
       "{'users': 'userid',\n",
       " 'items': 'movieid',\n",
       " 'feedback': 'rating',\n",
       " 'positions': 'pos',\n",
       " 'n_users': 4831,\n",
       " 'n_items': 3635,\n",
       " 'n_pos': 200}"
      ]
     },
     "execution_count": 24,
     "metadata": {},
     "output_type": "execute_result"
    }
   ],
   "source": [
    "data_description = dict(\n",
    "    users = data_index['users'].name,\n",
    "    items = data_index['items'].name,\n",
    "    feedback = 'rating',\n",
    "    positions = 'pos',\n",
    "    n_users = len(data_index['users']),\n",
    "    n_items = len(data_index['items']),\n",
    "    n_pos = n_pos\n",
    ")\n",
    "data_description"
   ]
  },
  {
   "cell_type": "markdown",
   "metadata": {},
   "source": [
    "### computing tucker docmositions"
   ]
  },
  {
   "cell_type": "code",
   "execution_count": 25,
   "metadata": {},
   "outputs": [],
   "source": [
    "def seqtf_model_build(config, data, data_description):\n",
    "    userid = data_description[\"users\"]\n",
    "    itemid = data_description[\"items\"]\n",
    "    positions = data_description[\"positions\"]\n",
    "\n",
    "    n_users = data_description[\"n_users\"]\n",
    "    n_items = data_description[\"n_items\"]\n",
    "    max_pos = data_description[\"n_pos\"]\n",
    "    shape = (n_users, n_items, max_pos)\n",
    "\n",
    "    #positional attention\n",
    "    attention_matrix = form_attention_matrix(\n",
    "        size = data_description[\"n_pos\"],\n",
    "        exponential_decay = config[\"exponential_decay\"],\n",
    "        #rule = linear decay\n",
    "        decay_factor = config[\"attention_decay\"],\n",
    "        format = 'csr'\n",
    "    )\n",
    "\n",
    "    # popularity based weighting - to \n",
    "    # combat with low diversity rating\n",
    "    # reweight values in tensors - not binary\n",
    "    # inversely proportional to the popularity of items\n",
    "    # more sensitive to less popular items\n",
    "    # promote less popular items in recoms\n",
    "    \n",
    "    # POpularity based scaling\n",
    "    item_popularity = (\n",
    "        data[itemid]\n",
    "        .value_counts(sort=False)\n",
    "        .reindex(range(n_items))\n",
    "        .fillna(1)\n",
    "        .values\n",
    "    )\n",
    "    \n",
    "    scaling_weights = get_scaling_weights(item_popularity, scaling=config[\"scaling\"])\n",
    "    idx = data[[userid, itemid, positions]].values\n",
    "    val = np.ones(idx.shape[0], dtype='f8')\n",
    "\n",
    "    user_factors, item_factors, feedback_factors = sa_hooi(\n",
    "        # hooi takes into account information about initial tensor\n",
    "        idx, val, shape, config[\"mlrank\"],\n",
    "        # attention matrix\n",
    "        attention_matrix = attention_matrix,\n",
    "        # popularity scaling\n",
    "        scaling_weights = scaling_weights,\n",
    "        max_iters = config[\"num_iters\"],\n",
    "        parallel_ttm = False,\n",
    "        \n",
    "        # randomized svd instead of standart\n",
    "        randomized = config[\"randomized\"],\n",
    "        growth_tol = config[\"growth_tol\"],\n",
    "        seed = config[\"seed\"],\n",
    "        # max hit rate is goal but here we minimize squred error, so idea\n",
    "        # compute hit rate after each iteration, and if subsequent iterations \n",
    "        # do not improve hit rate we stop\n",
    "        \n",
    "        # typically for hit rate requires lower iterations\n",
    "        iter_callback = config[\"iter_callback\"],\n",
    "    )\n",
    "    return user_factors, item_factors, feedback_factors, attention_matrix\n"
   ]
  },
  {
   "cell_type": "code",
   "execution_count": 26,
   "metadata": {},
   "outputs": [],
   "source": [
    "config = {\n",
    "    #popularity scaling. 1 is factorization without any reweighting\n",
    "    # (no reweighting)\n",
    "    \"scaling\": 1,\n",
    "    \n",
    "    #multilinear rank is smaller tnan 50 that is used for svd\n",
    "    \"mlrank\": (30, 30, 5),\n",
    "    \"n_pos\": n_pos,\n",
    "    \"num_iters\": 20,\n",
    "    \"attention_decay\": 1,\n",
    "    \"randomized\": True,\n",
    "    \"growth_tol\": 1e-4,\n",
    "    \"seed\": 42,\n",
    "    \"iter_callback\":None,\n",
    "    \"exponential_decay\":False\n",
    "}"
   ]
  },
  {
   "cell_type": "code",
   "execution_count": 27,
   "metadata": {},
   "outputs": [
    {
     "name": "stdout",
     "output_type": "stream",
     "text": [
      "growth of the core: 1.0\n",
      "growth of the core: 0.3624574470983338\n",
      "growth of the core: 0.030755154018482868\n",
      "growth of the core: 0.0033607523844192506\n",
      "growth of the core: 0.0010202426074271144\n",
      "growth of the core: 0.0003024170030992911\n",
      "growth of the core: 6.889753176498606e-05\n",
      "Core is no longer growing. Norm of the core: 41.46433774487264.\n"
     ]
    }
   ],
   "source": [
    "tf_params = seqtf_model_build(config, training_data, data_description)"
   ]
  },
  {
   "cell_type": "code",
   "execution_count": 28,
   "metadata": {},
   "outputs": [],
   "source": [
    "def tf_scoring(params, data, data_description):\n",
    "    user_factors, item_factors, pos_factors, attention_matrix = params\n",
    "    last_position_projector = generate_position_projector(attention_matrix, pos_factors)\n",
    "\n",
    "    userid = data_description[\"users\"]\n",
    "    itemid = data_description[\"items\"]\n",
    "    posid = data_description[\"positions\"]\n",
    "\n",
    "    test_data = data.sort_values([userid, posid])\n",
    "    useridx = test_data[userid].values\n",
    "    itemidx = test_data[itemid].values\n",
    "    indptr, = np.where(np.diff(useridx, prepend=0, append=1))\n",
    "    scores = user_scoring(indptr, itemidx, item_factors, last_position_projector)\n",
    "    return scores\n",
    "\n",
    "def user_scoring(indptr, indices, item_factors, last_position_projector):\n",
    "    sequences = np.array_split(indices, indptr[1:-1])\n",
    "    n_items = item_factors.shape[0]\n",
    "    scores = np.zeros((len(sequences), n_items))\n",
    "    for u, seq in enumerate(sequences):\n",
    "        scores[u] = sequences_score(seq, item_factors, last_position_projector)\n",
    "    return scores\n",
    "\n",
    "def sequences_score(seq, item_factors, last_position_projector):\n",
    "    n_pos = len(last_position_projector)\n",
    "    user_profile = item_factors[seq[-(n_pos-1):], :]\n",
    "    n_items = user_profile.shape[0]\n",
    "    \n",
    "    # scores calculation from the slide\n",
    "    scores = item_factors @ (user_profile.T @ last_position_projector[-(n_items+1):-1])\n",
    "    return scores"
   ]
  },
  {
   "cell_type": "code",
   "execution_count": 29,
   "metadata": {},
   "outputs": [
    {
     "name": "stderr",
     "output_type": "stream",
     "text": [
      "/Users/sergeypetrakov/opt/miniconda3/lib/python3.8/site-packages/scipy/sparse/coo.py:431: SparseEfficiencyWarning: Constructing a DIA matrix with 200 diagonals is inefficient\n",
      "  warn(\"Constructing a DIA matrix with %d diagonals \"\n"
     ]
    }
   ],
   "source": [
    "tf_scores = tf_scoring(tf_params, testset_valid, data_description)"
   ]
  },
  {
   "cell_type": "code",
   "execution_count": 30,
   "metadata": {},
   "outputs": [
    {
     "data": {
      "text/plain": [
       "(1137, 3635)"
      ]
     },
     "execution_count": 30,
     "metadata": {},
     "output_type": "execute_result"
    }
   ],
   "source": [
    "tf_scores.shape"
   ]
  },
  {
   "cell_type": "code",
   "execution_count": 31,
   "metadata": {},
   "outputs": [],
   "source": [
    "downvote_seen_items(tf_scores, testset_valid, data_description)"
   ]
  },
  {
   "cell_type": "code",
   "execution_count": 32,
   "metadata": {},
   "outputs": [
    {
     "data": {
      "text/plain": [
       "(0.08003518029903255, 0.028714523041699823, 0.16203576341127923)"
      ]
     },
     "execution_count": 32,
     "metadata": {},
     "output_type": "execute_result"
    }
   ],
   "source": [
    "tf_recs = topn_recommendations(tf_scores, topn=10)\n",
    "model_evaluate(tf_recs, holdout_valid, data_description)"
   ]
  },
  {
   "cell_type": "code",
   "execution_count": null,
   "metadata": {},
   "outputs": [],
   "source": []
  },
  {
   "cell_type": "markdown",
   "metadata": {},
   "source": [
    "# Addition experiment"
   ]
  },
  {
   "cell_type": "markdown",
   "metadata": {},
   "source": [
    "## different scalings"
   ]
  },
  {
   "cell_type": "code",
   "execution_count": 33,
   "metadata": {
    "scrolled": true
   },
   "outputs": [
    {
     "name": "stdout",
     "output_type": "stream",
     "text": [
      "####################\n",
      "scaling = -1\n",
      "####################\n",
      "growth of the core: 1.0\n",
      "growth of the core: 0.4333544403005968\n",
      "growth of the core: 0.0300804748992763\n",
      "growth of the core: 0.10009325986834253\n",
      "growth of the core: 0.07705924997073259\n",
      "growth of the core: 0.03881735033308205\n",
      "growth of the core: 0.007063464042047855\n",
      "growth of the core: -0.011861892754118192\n",
      "Core is no longer growing. Norm of the core: 0.7757690794908159.\n",
      "hit_rate = 0.088, mrr = 0.0345, coverage = 0.1736\n",
      "####################\n",
      "scaling = 0\n",
      "####################\n",
      "growth of the core: 1.0\n",
      "growth of the core: 0.4179271726787232\n",
      "growth of the core: 0.03735769360197305\n",
      "growth of the core: 0.004209929756791926\n",
      "growth of the core: 0.0011470099358402948\n",
      "growth of the core: 0.0006552832764161744\n",
      "growth of the core: 0.0003057751176380271\n",
      "growth of the core: -6.914926688881088e-05\n",
      "Core is no longer growing. Norm of the core: 2.0933993086937814.\n",
      "hit_rate = 0.0871, mrr = 0.0325, coverage = 0.1829\n",
      "####################\n",
      "scaling = 1\n",
      "####################\n",
      "growth of the core: 1.0\n",
      "growth of the core: 0.3624574470983338\n",
      "growth of the core: 0.030755154018482868\n",
      "growth of the core: 0.0033607523844192506\n",
      "growth of the core: 0.0010202426074271144\n",
      "growth of the core: 0.0003024170030992911\n",
      "growth of the core: 6.889753176498606e-05\n",
      "Core is no longer growing. Norm of the core: 41.46433774487264.\n",
      "hit_rate = 0.08, mrr = 0.0287, coverage = 0.162\n",
      "####################\n",
      "scaling = 2\n",
      "####################\n",
      "growth of the core: 1.0\n",
      "growth of the core: 0.3320512339679972\n",
      "growth of the core: 0.0362339249681926\n",
      "growth of the core: 0.006111410653025534\n",
      "growth of the core: 0.002458327054360908\n",
      "growth of the core: 0.001433543373371192\n",
      "growth of the core: 0.00017255068415384902\n",
      "growth of the core: 0.0006152425350135735\n",
      "growth of the core: 0.0004242796268837236\n",
      "growth of the core: 0.00081982854858068\n",
      "growth of the core: 0.00038239338908319234\n",
      "growth of the core: -0.00020362616461858663\n",
      "Core is no longer growing. Norm of the core: 1153.9917867556524.\n",
      "hit_rate = 0.0712, mrr = 0.0288, coverage = 0.1464\n",
      "####################\n",
      "scaling = 3\n",
      "####################\n",
      "growth of the core: 1.0\n",
      "growth of the core: 0.3276752140319016\n",
      "growth of the core: 0.060199517569147785\n",
      "growth of the core: 0.012302890983833638\n",
      "growth of the core: 0.006824838927725674\n",
      "growth of the core: 0.004940969110301532\n",
      "growth of the core: 0.0029416726341323887\n",
      "growth of the core: 0.002226931868310639\n",
      "growth of the core: 0.0012130667689937446\n",
      "growth of the core: 0.0008922426417927704\n",
      "growth of the core: -0.00010994355202518041\n",
      "Core is no longer growing. Norm of the core: 40718.24754712795.\n",
      "hit_rate = 0.0642, mrr = 0.0224, coverage = 0.1309\n"
     ]
    }
   ],
   "source": [
    "scalings = [-1, 0 , 1, 2, 3]\n",
    "results_for_scaling = []\n",
    "\n",
    "for scaling in scalings:\n",
    "    config = {\n",
    "        #popularity scaling. 1 is factorization without any reweighting\n",
    "        # (no reweighting)\n",
    "        \"scaling\": scaling,\n",
    "\n",
    "        #multilinear rank is smaller tnan 50 that is used for svd\n",
    "        \"mlrank\": (30, 30, 5),\n",
    "        \"n_pos\": n_pos,\n",
    "        \"num_iters\": 20,\n",
    "        \"attention_decay\": 1,\n",
    "        \"randomized\": True,\n",
    "        \"growth_tol\": 1e-4,\n",
    "        \"seed\": 42,\n",
    "        \"iter_callback\":None,\n",
    "        \"exponential_decay\":False\n",
    "    }\n",
    "    \n",
    "    print(\"#\"*20)\n",
    "    print(\"scaling = {}\".format(scaling))\n",
    "    print(\"#\"*20)\n",
    "    tf_params = seqtf_model_build(config, training_data, data_description)\n",
    "    tf_scores = tf_scoring(tf_params, testset_valid, data_description)\n",
    "    downvote_seen_items(tf_scores, testset_valid, data_description)\n",
    "    tf_recs = topn_recommendations(tf_scores, topn=10)\n",
    "    hit_rate, mrr, coverage = np.round(model_evaluate(tf_recs, holdout_valid, data_description), 4)\n",
    "    print(\"hit_rate = {}, mrr = {}, coverage = {}\".format(hit_rate, mrr, coverage))\n",
    "    results_for_scaling.append((hit_rate, mrr, coverage))"
   ]
  },
  {
   "cell_type": "code",
   "execution_count": 34,
   "metadata": {
    "scrolled": true
   },
   "outputs": [
    {
     "name": "stdout",
     "output_type": "stream",
     "text": [
      "####################\n",
      "scaling = -1\n",
      "####################\n",
      "growth of the core: 1.0\n",
      "growth of the core: 0.4333544403005968\n",
      "growth of the core: 0.0300804748992763\n",
      "growth of the core: 0.10009325986834253\n",
      "growth of the core: 0.07705924997073259\n",
      "growth of the core: 0.03881735033308205\n",
      "growth of the core: 0.007063464042047855\n",
      "growth of the core: -0.011861892754118192\n",
      "Core is no longer growing. Norm of the core: 0.7757690794908159.\n",
      "hit_rate = 0.088, mrr = 0.0345, coverage = 0.1736\n",
      "####################\n",
      "scaling = 0\n",
      "####################\n",
      "growth of the core: 1.0\n",
      "growth of the core: 0.4179271726787232\n",
      "growth of the core: 0.03735769360197305\n",
      "growth of the core: 0.004209929756791926\n",
      "growth of the core: 0.0011470099358402948\n",
      "growth of the core: 0.0006552832764161744\n",
      "growth of the core: 0.0003057751176380271\n",
      "growth of the core: -6.914926688881088e-05\n",
      "Core is no longer growing. Norm of the core: 2.0933993086937814.\n",
      "hit_rate = 0.0871, mrr = 0.0325, coverage = 0.1829\n",
      "####################\n",
      "scaling = 1\n",
      "####################\n",
      "growth of the core: 1.0\n",
      "growth of the core: 0.3624574470983338\n",
      "growth of the core: 0.030755154018482868\n",
      "growth of the core: 0.0033607523844192506\n",
      "growth of the core: 0.0010202426074271144\n",
      "growth of the core: 0.0003024170030992911\n",
      "growth of the core: 6.889753176498606e-05\n",
      "Core is no longer growing. Norm of the core: 41.46433774487264.\n",
      "hit_rate = 0.08, mrr = 0.0287, coverage = 0.162\n",
      "####################\n",
      "scaling = 2\n",
      "####################\n",
      "growth of the core: 1.0\n",
      "growth of the core: 0.3320512339679972\n",
      "growth of the core: 0.0362339249681926\n",
      "growth of the core: 0.006111410653025534\n",
      "growth of the core: 0.002458327054360908\n",
      "growth of the core: 0.001433543373371192\n",
      "growth of the core: 0.00017255068415384902\n",
      "growth of the core: 0.0006152425350135735\n",
      "growth of the core: 0.0004242796268837236\n",
      "growth of the core: 0.00081982854858068\n",
      "growth of the core: 0.00038239338908319234\n",
      "growth of the core: -0.00020362616461858663\n",
      "Core is no longer growing. Norm of the core: 1153.9917867556524.\n",
      "hit_rate = 0.0712, mrr = 0.0288, coverage = 0.1464\n",
      "####################\n",
      "scaling = 3\n",
      "####################\n",
      "growth of the core: 1.0\n",
      "growth of the core: 0.3276752140319016\n",
      "growth of the core: 0.060199517569147785\n",
      "growth of the core: 0.012302890983833638\n",
      "growth of the core: 0.006824838927725674\n",
      "growth of the core: 0.004940969110301532\n",
      "growth of the core: 0.0029416726341323887\n",
      "growth of the core: 0.002226931868310639\n",
      "growth of the core: 0.0012130667689937446\n",
      "growth of the core: 0.0008922426417927704\n",
      "growth of the core: -0.00010994355202518041\n",
      "Core is no longer growing. Norm of the core: 40718.24754712795.\n",
      "hit_rate = 0.0642, mrr = 0.0224, coverage = 0.1309\n"
     ]
    }
   ],
   "source": [
    "scalings = [-1, 0 , 1, 2, 3]\n",
    "results_for_scaling = []\n",
    "\n",
    "for scaling in scalings:\n",
    "    config = {\n",
    "        #popularity scaling. 1 is factorization without any reweighting\n",
    "        # (no reweighting)\n",
    "        \"scaling\": scaling,\n",
    "\n",
    "        #multilinear rank is smaller tnan 50 that is used for svd\n",
    "        \"mlrank\": (30, 30, 5),\n",
    "        \"n_pos\": n_pos,\n",
    "        \"num_iters\": 20,\n",
    "        \"attention_decay\": 1,\n",
    "        \"randomized\": True,\n",
    "        \"growth_tol\": 1e-4,\n",
    "        \"seed\": 42,\n",
    "        \"iter_callback\":None,\n",
    "        \"exponential_decay\":False\n",
    "    }\n",
    "    \n",
    "    print(\"#\"*20)\n",
    "    print(\"scaling = {}\".format(scaling))\n",
    "    print(\"#\"*20)\n",
    "    tf_params = seqtf_model_build(config, training_data, data_description)\n",
    "    tf_scores = tf_scoring(tf_params, testset_valid, data_description)\n",
    "    downvote_seen_items(tf_scores, testset_valid, data_description)\n",
    "    tf_recs = topn_recommendations(tf_scores, topn=10)\n",
    "    hit_rate, mrr, coverage = np.round(model_evaluate(tf_recs, holdout_valid, data_description), 4)\n",
    "    print(\"hit_rate = {}, mrr = {}, coverage = {}\".format(hit_rate, mrr, coverage))\n",
    "    results_for_scaling.append((hit_rate, mrr, coverage))"
   ]
  },
  {
   "cell_type": "code",
   "execution_count": 35,
   "metadata": {
    "scrolled": true
   },
   "outputs": [
    {
     "name": "stdout",
     "output_type": "stream",
     "text": [
      "####################\n",
      "svd_random_init = True\n",
      "####################\n",
      "growth of the core: 1.0\n",
      "growth of the core: 0.3624574470983338\n",
      "growth of the core: 0.030755154018482868\n",
      "growth of the core: 0.0033607523844192506\n",
      "growth of the core: 0.0010202426074271144\n",
      "growth of the core: 0.0003024170030992911\n",
      "growth of the core: 6.889753176498606e-05\n",
      "Core is no longer growing. Norm of the core: 41.46433774487264.\n",
      "hit_rate = 0.08, mrr = 0.0287, coverage = 0.162\n",
      "####################\n",
      "svd_random_init = False\n",
      "####################\n",
      "growth of the core: 1.0\n",
      "growth of the core: 0.3628219852504622\n",
      "growth of the core: 0.03026918460131407\n",
      "growth of the core: 0.003342694072185011\n",
      "growth of the core: 0.0009730646548242447\n",
      "growth of the core: 0.00040540231409897065\n",
      "growth of the core: 0.000209654525506439\n",
      "growth of the core: 0.0001297173859933688\n",
      "growth of the core: 9.257602420005184e-05\n",
      "Core is no longer growing. Norm of the core: 41.48388225950093.\n",
      "hit_rate = 0.0853, mrr = 0.0293, coverage = 0.1601\n"
     ]
    },
    {
     "name": "stderr",
     "output_type": "stream",
     "text": [
      "/Users/sergeypetrakov/opt/miniconda3/lib/python3.8/site-packages/scipy/sparse/coo.py:431: SparseEfficiencyWarning: Constructing a DIA matrix with 200 diagonals is inefficient\n",
      "  warn(\"Constructing a DIA matrix with %d diagonals \"\n"
     ]
    }
   ],
   "source": [
    "svd_random_inits = [True, False]\n",
    "results_svd_init = []\n",
    "\n",
    "for svd_random_init in svd_random_inits:\n",
    "    config = {\n",
    "        #popularity scaling. 1 is factorization without any reweighting\n",
    "        # (no reweighting)\n",
    "        \"scaling\": 1.0,\n",
    "\n",
    "        #multilinear rank is smaller tnan 50 that is used for svd\n",
    "        \"mlrank\": (30, 30, 5),\n",
    "        \"n_pos\": n_pos,\n",
    "        \"num_iters\": 20,\n",
    "        \"attention_decay\": 1,\n",
    "        \"randomized\": svd_random_init,\n",
    "        \"growth_tol\": 1e-4,\n",
    "        \"seed\": 42,\n",
    "        \"iter_callback\":None,\n",
    "        \"exponential_decay\":False\n",
    "    }\n",
    "    \n",
    "    print(\"#\"*20)\n",
    "    print(\"svd_random_init = {}\".format(svd_random_init))\n",
    "    print(\"#\"*20)\n",
    "    tf_params = seqtf_model_build(config, training_data, data_description)\n",
    "    tf_scores = tf_scoring(tf_params, testset_valid, data_description)\n",
    "    downvote_seen_items(tf_scores, testset_valid, data_description)\n",
    "    tf_recs = topn_recommendations(tf_scores, topn=10)\n",
    "    hit_rate, mrr, coverage = np.round(model_evaluate(tf_recs, holdout_valid, data_description), 4)\n",
    "    print(\"hit_rate = {}, mrr = {}, coverage = {}\".format(hit_rate, mrr, coverage))\n",
    "    results_svd_init.append((hit_rate, mrr, coverage))"
   ]
  },
  {
   "cell_type": "code",
   "execution_count": 36,
   "metadata": {
    "scrolled": true
   },
   "outputs": [
    {
     "name": "stdout",
     "output_type": "stream",
     "text": [
      "####################\n",
      "Linear decay with attention = 0.01\n",
      "####################\n",
      "growth of the core: 1.0\n",
      "growth of the core: 0.27052599641225494\n",
      "growth of the core: 0.026959054365905524\n",
      "growth of the core: 0.0064313545279308364\n",
      "growth of the core: 0.0026445900802124066\n",
      "growth of the core: 0.0012890592778431855\n",
      "growth of the core: 0.0006674579424963528\n",
      "growth of the core: 0.0003797753460608621\n",
      "growth of the core: 0.0002447344100483894\n",
      "growth of the core: 0.00017556359852379837\n",
      "growth of the core: 0.00013458243196626374\n",
      "growth of the core: 0.00010637085501286755\n",
      "growth of the core: 8.46950884971727e-05\n",
      "Core is no longer growing. Norm of the core: 35.90566053521324.\n",
      "hit_rate = 0.0668, mrr = 0.0279, coverage = 0.1585\n",
      "####################\n",
      "Linear decay with attention = 0.1\n",
      "####################\n",
      "growth of the core: 1.0\n",
      "growth of the core: 0.2801249528820049\n",
      "growth of the core: 0.02152510055027543\n",
      "growth of the core: 0.003640078502246862\n",
      "growth of the core: 0.0015192158456715016\n",
      "growth of the core: 0.0008189655840558335\n",
      "growth of the core: 0.00046916014837147986\n",
      "growth of the core: 0.0002977489838569886\n",
      "growth of the core: 0.0002083758363322953\n",
      "growth of the core: 0.00015541646593256214\n",
      "growth of the core: 0.00011964075287618455\n",
      "growth of the core: 9.28538799780491e-05\n",
      "Core is no longer growing. Norm of the core: 35.99019968950722.\n",
      "hit_rate = 0.0651, mrr = 0.0278, coverage = 0.1601\n",
      "####################\n",
      "Linear decay with attention = 1\n",
      "####################\n",
      "growth of the core: 1.0\n",
      "growth of the core: 0.36282198525046144\n",
      "growth of the core: 0.03026918460131424\n",
      "growth of the core: 0.003342694072185011\n",
      "growth of the core: 0.0009730646548239022\n",
      "growth of the core: 0.00040540231409914206\n",
      "growth of the core: 0.0002096545255059252\n",
      "growth of the core: 0.000129717385994054\n",
      "growth of the core: 9.25760242002231e-05\n",
      "Core is no longer growing. Norm of the core: 41.48388225950094.\n",
      "hit_rate = 0.0853, mrr = 0.0293, coverage = 0.1601\n",
      "####################\n",
      "Linear decay with attention = 2\n",
      "####################\n",
      "growth of the core: 1.0\n",
      "growth of the core: 0.36106038330491175\n",
      "growth of the core: 0.04705824722718885\n",
      "growth of the core: 0.006556747379702832\n",
      "growth of the core: 0.0021786790452866197\n",
      "growth of the core: 0.0010686156892045654\n",
      "growth of the core: 0.0006542411437745059\n",
      "growth of the core: 0.0004459207552210298\n",
      "growth of the core: 0.0003182473436299991\n",
      "growth of the core: 0.00023049687356967112\n",
      "growth of the core: 0.00016750366694271774\n",
      "growth of the core: 0.0001223032257141747\n",
      "growth of the core: 9.020406094300113e-05\n",
      "Core is no longer growing. Norm of the core: 42.679424786177236.\n",
      "hit_rate = 0.073, mrr = 0.0264, coverage = 0.1499\n",
      "####################\n",
      "Linear decay with attention = 5\n",
      "####################\n",
      "growth of the core: 1.0\n",
      "growth of the core: 0.31596233811252067\n",
      "growth of the core: 0.10839822241184698\n",
      "growth of the core: 0.04401685646977769\n",
      "growth of the core: 0.014107672485344306\n",
      "growth of the core: 0.0038044737104485967\n",
      "growth of the core: 0.0013065143730773311\n",
      "growth of the core: 0.0005364961320853813\n",
      "growth of the core: 0.0002447049636781571\n",
      "growth of the core: 0.00012523392295532194\n",
      "growth of the core: 7.16184415146691e-05\n",
      "Core is no longer growing. Norm of the core: 42.73440012075227.\n",
      "hit_rate = 0.0704, mrr = 0.0244, coverage = 0.1444\n",
      "####################\n",
      "Linear decay with attention = 10\n",
      "####################\n",
      "growth of the core: 1.0\n",
      "growth of the core: 0.3148990562214993\n",
      "growth of the core: 0.11283096163068922\n",
      "growth of the core: 0.043864992562553926\n",
      "growth of the core: 0.01874029560256768\n",
      "growth of the core: 0.005514092467366493\n",
      "growth of the core: 0.0016909061783807636\n",
      "growth of the core: 0.0007119552745021901\n",
      "growth of the core: 0.000341902457426269\n",
      "growth of the core: 0.00017734879444576554\n",
      "growth of the core: 9.959767665583007e-05\n",
      "Core is no longer growing. Norm of the core: 42.73288822729612.\n",
      "hit_rate = 0.0695, mrr = 0.0253, coverage = 0.1458\n"
     ]
    }
   ],
   "source": [
    "attention_decays_linear = [0.01, 0.1, 1, 2, 5, 10]\n",
    "results_linear_decay = []\n",
    "\n",
    "for attention_decay in attention_decays_linear:\n",
    "    config = {\n",
    "        #popularity scaling. 1 is factorization without any reweighting\n",
    "        # (no reweighting)\n",
    "        \"scaling\": 1.0,\n",
    "\n",
    "        #multilinear rank is smaller tnan 50 that is used for svd\n",
    "        \"mlrank\": (30, 30, 5),\n",
    "        \"n_pos\": n_pos,\n",
    "        \"num_iters\": 20,\n",
    "        \"attention_decay\": attention_decay,\n",
    "        \"randomized\": svd_random_init,\n",
    "        \"growth_tol\": 1e-4,\n",
    "        \"seed\": 42,\n",
    "        \"iter_callback\":None,\n",
    "        \"exponential_decay\":False\n",
    "    }\n",
    "    \n",
    "    print(\"#\"*20)\n",
    "    print(\"Linear decay with attention = {}\".format(attention_decay))\n",
    "    print(\"#\"*20)\n",
    "    tf_params = seqtf_model_build(config, training_data, data_description)\n",
    "    tf_scores = tf_scoring(tf_params, testset_valid, data_description)\n",
    "    downvote_seen_items(tf_scores, testset_valid, data_description)\n",
    "    tf_recs = topn_recommendations(tf_scores, topn=10)\n",
    "    hit_rate, mrr, coverage = np.round(model_evaluate(tf_recs, holdout_valid, data_description), 4)\n",
    "    print(\"hit_rate = {}, mrr = {}, coverage = {}\".format(hit_rate, mrr, coverage))\n",
    "    results_linear_decay.append((hit_rate, mrr, coverage))"
   ]
  },
  {
   "cell_type": "code",
   "execution_count": 37,
   "metadata": {
    "scrolled": true
   },
   "outputs": [
    {
     "name": "stdout",
     "output_type": "stream",
     "text": [
      "####################\n",
      "Exponential decay with attention = 0.0001\n",
      "####################\n",
      "growth of the core: 1.0\n",
      "growth of the core: 0.270307752019063\n",
      "growth of the core: 0.027133453774995632\n",
      "growth of the core: 0.00648738989685594\n",
      "growth of the core: 0.002662221647037542\n",
      "growth of the core: 0.0012987523099814472\n",
      "growth of the core: 0.0006738186932632211\n",
      "growth of the core: 0.0003836715523971651\n",
      "growth of the core: 0.000247133244203805\n",
      "growth of the core: 0.00017717848653297396\n",
      "growth of the core: 0.00013579304833098808\n",
      "growth of the core: 0.00010735588257592504\n",
      "growth of the core: 8.553838985851595e-05\n",
      "Core is no longer growing. Norm of the core: 35.90616606807036.\n",
      "hit_rate = 0.0677, mrr = 0.028, coverage = 0.1596\n",
      "####################\n",
      "Exponential decay with attention = 0.001\n",
      "####################\n",
      "growth of the core: 1.0\n",
      "growth of the core: 0.2766514136362866\n",
      "growth of the core: 0.023439555076340626\n",
      "growth of the core: 0.004881785819521168\n",
      "growth of the core: 0.002047373319001875\n",
      "growth of the core: 0.00100735120328359\n",
      "growth of the core: 0.0005314212103054382\n",
      "growth of the core: 0.0003189522618159227\n",
      "growth of the core: 0.0002180196118526132\n",
      "growth of the core: 0.00016245218130261905\n",
      "growth of the core: 0.00012621016491352197\n",
      "growth of the core: 9.914759774466592e-05\n",
      "Core is no longer growing. Norm of the core: 35.97477055587914.\n",
      "hit_rate = 0.0668, mrr = 0.0277, coverage = 0.1609\n",
      "####################\n",
      "Exponential decay with attention = 0.01\n",
      "####################\n",
      "growth of the core: 1.0\n",
      "growth of the core: 0.32413150644689676\n",
      "growth of the core: 0.015230610101450895\n",
      "growth of the core: -0.00045035259919316275\n",
      "Core is no longer growing. Norm of the core: 37.760651264901455.\n",
      "hit_rate = 0.0712, mrr = 0.0283, coverage = 0.1626\n",
      "####################\n",
      "Exponential decay with attention = 0.1\n",
      "####################\n",
      "growth of the core: 1.0\n",
      "growth of the core: 0.3593208870002995\n",
      "growth of the core: 0.029198044545093286\n",
      "growth of the core: 0.00388353501868942\n",
      "growth of the core: 0.0014215144914102665\n",
      "growth of the core: 0.0007008174586120123\n",
      "growth of the core: 0.00040583350485918335\n",
      "growth of the core: 0.00027140547316273925\n",
      "growth of the core: 0.00021423291951868354\n",
      "growth of the core: 0.00019536536316734537\n",
      "growth of the core: 0.0001833562007054214\n",
      "growth of the core: 0.00015807595482865308\n",
      "growth of the core: 0.0001229533581963787\n",
      "growth of the core: 9.068959154229395e-05\n",
      "Core is no longer growing. Norm of the core: 42.02512490573882.\n",
      "hit_rate = 0.0739, mrr = 0.0254, coverage = 0.1563\n",
      "####################\n",
      "Exponential decay with attention = 1\n",
      "####################\n",
      "growth of the core: 1.0\n",
      "growth of the core: 0.3521098315752224\n",
      "growth of the core: 0.060683113701532655\n",
      "growth of the core: 0.00832136574157026\n",
      "growth of the core: 0.0024404766973552447\n",
      "growth of the core: 0.0011326639128729137\n",
      "growth of the core: 0.0008005289996691059\n",
      "growth of the core: 0.0006895699987652995\n",
      "growth of the core: 0.00047833045412766034\n",
      "growth of the core: 0.0002878437056996737\n",
      "growth of the core: 0.00017291211585882725\n",
      "growth of the core: 0.00010863439553967301\n",
      "growth of the core: 7.173772745909868e-05\n",
      "Core is no longer growing. Norm of the core: 42.72450183671814.\n",
      "hit_rate = 0.0712, mrr = 0.0251, coverage = 0.1444\n",
      "####################\n",
      "Exponential decay with attention = 2\n",
      "####################\n",
      "growth of the core: 1.0\n",
      "growth of the core: 0.32296771250427536\n",
      "growth of the core: 0.09346373256477371\n",
      "growth of the core: 0.03450585133709475\n",
      "growth of the core: 0.010353393221263713\n",
      "growth of the core: 0.0028759828778438415\n",
      "growth of the core: 0.0011179752474066373\n",
      "growth of the core: 0.0005331792896239935\n",
      "growth of the core: 0.00027185459697978064\n",
      "growth of the core: 0.00015057618933568627\n",
      "growth of the core: 9.174832370028595e-05\n",
      "Core is no longer growing. Norm of the core: 42.73441844917011.\n",
      "hit_rate = 0.0721, mrr = 0.0263, coverage = 0.1444\n",
      "####################\n",
      "Exponential decay with attention = 5\n",
      "####################\n",
      "growth of the core: 1.0\n",
      "growth of the core: 0.3149252664829645\n",
      "growth of the core: 0.11222884186656051\n",
      "growth of the core: 0.044617876725394724\n",
      "growth of the core: 0.017433622462839384\n",
      "growth of the core: 0.004981589639542034\n",
      "growth of the core: 0.0015881241345896354\n",
      "growth of the core: 0.0006668772325419556\n",
      "growth of the core: 0.00031478299312734446\n",
      "growth of the core: 0.0001621574978277497\n",
      "growth of the core: 9.147009409642335e-05\n",
      "Core is no longer growing. Norm of the core: 42.73325392693474.\n",
      "hit_rate = 0.0704, mrr = 0.025, coverage = 0.1444\n",
      "####################\n",
      "Exponential decay with attention = 10\n",
      "####################\n"
     ]
    },
    {
     "name": "stderr",
     "output_type": "stream",
     "text": [
      "/Users/sergeypetrakov/opt/miniconda3/lib/python3.8/site-packages/scipy/sparse/coo.py:431: SparseEfficiencyWarning: Constructing a DIA matrix with 150 diagonals is inefficient\n",
      "  warn(\"Constructing a DIA matrix with %d diagonals \"\n"
     ]
    },
    {
     "name": "stdout",
     "output_type": "stream",
     "text": [
      "growth of the core: 1.0\n",
      "growth of the core: 0.31490847864697596\n",
      "growth of the core: 0.11289711985703238\n",
      "growth of the core: 0.043684023670551644\n",
      "growth of the core: 0.018952701750317297\n",
      "growth of the core: 0.005657346794994991\n",
      "growth of the core: 0.0017240197532856652\n",
      "growth of the core: 0.0007241033302955514\n",
      "growth of the core: 0.0003497000663609706\n",
      "growth of the core: 0.0001819686735308644\n",
      "growth of the core: 0.00010210043852115748\n",
      "growth of the core: 6.207982748362281e-05\n",
      "Core is no longer growing. Norm of the core: 42.735438646277515.\n",
      "hit_rate = 0.0712, mrr = 0.0255, coverage = 0.1442\n"
     ]
    }
   ],
   "source": [
    "attention_decays_exp = [0.0001, 0.001, 0.01, 0.1, 1, 2, 5, 10]\n",
    "results_exp_decay = []\n",
    "\n",
    "for attention_decay in attention_decays_exp:\n",
    "    config = {\n",
    "        #popularity scaling. 1 is factorization without any reweighting\n",
    "        # (no reweighting)\n",
    "        \"scaling\": 1.0,\n",
    "\n",
    "        #multilinear rank is smaller tnan 50 that is used for svd\n",
    "        \"mlrank\": (30, 30, 5),\n",
    "        \"n_pos\": n_pos,\n",
    "        \"num_iters\": 20,\n",
    "        \"attention_decay\": attention_decay,\n",
    "        \"randomized\": svd_random_init,\n",
    "        \"growth_tol\": 1e-4,\n",
    "        \"seed\": 42,\n",
    "        \"iter_callback\":None,\n",
    "        \"exponential_decay\":True\n",
    "    }\n",
    "    \n",
    "    print(\"#\"*20)\n",
    "    print(\"Exponential decay with attention = {}\".format(attention_decay))\n",
    "    print(\"#\"*20)\n",
    "    tf_params = seqtf_model_build(config, training_data, data_description)\n",
    "    tf_scores = tf_scoring(tf_params, testset_valid, data_description)\n",
    "    downvote_seen_items(tf_scores, testset_valid, data_description)\n",
    "    tf_recs = topn_recommendations(tf_scores, topn=10)\n",
    "    hit_rate, mrr, coverage = np.round(model_evaluate(tf_recs, holdout_valid, data_description), 4)\n",
    "    print(\"hit_rate = {}, mrr = {}, coverage = {}\".format(hit_rate, mrr, coverage))\n",
    "    results_exp_decay.append((hit_rate, mrr, coverage))"
   ]
  },
  {
   "cell_type": "markdown",
   "metadata": {},
   "source": [
    "## Quality metrics and exponential decay"
   ]
  },
  {
   "cell_type": "code",
   "execution_count": 38,
   "metadata": {},
   "outputs": [
    {
     "data": {
      "image/png": "[encoded data removed]",
      "text/plain": [
       "<Figure size 864x432 with 2 Axes>"
      ]
     },
     "metadata": {
      "needs_background": "light"
     },
     "output_type": "display_data"
    }
   ],
   "source": [
    "fig, ax1 = plt.subplots(figsize = (12,6))\n",
    "plt.title(\"Exponential decay\")\n",
    "color = 'tab:red'\n",
    "ax1.set_xlabel('attention decay value')\n",
    "ax1.set_ylabel('Hit rate', color=color)\n",
    "ax1.set_xscale(\"log\")\n",
    "ax1.plot(attention_decays_exp, np.array(results_exp_decay)[:,0], color=color)\n",
    "ax1.tick_params(axis='y', labelcolor=color)\n",
    "\n",
    "ax2 = ax1.twinx()  # instantiate a second axes that shares the same x-axis\n",
    "\n",
    "color = 'tab:blue'\n",
    "ax2.set_ylabel('MRR', color=color)  # we already handled the x-label with ax1\n",
    "ax2.plot(attention_decays_exp, np.array(results_exp_decay)[:,1], color=color)\n",
    "ax2.tick_params(axis='y', labelcolor=color)\n",
    "ax2.set_xscale(\"log\")\n",
    "\n",
    "fig.tight_layout()  # otherwise the right y-label is slightly clipped\n",
    "plt.show()"
   ]
  },
  {
   "cell_type": "code",
   "execution_count": 39,
   "metadata": {},
   "outputs": [
    {
     "data": {
      "image/png": "[encoded data removed]",
      "text/plain": [
       "<Figure size 864x432 with 2 Axes>"
      ]
     },
     "metadata": {
      "needs_background": "light"
     },
     "output_type": "display_data"
    }
   ],
   "source": [
    "fig, ax1 = plt.subplots(figsize = (12,6))\n",
    "plt.title(\"Exponential decay\")\n",
    "color = 'tab:red'\n",
    "ax1.set_xlabel('attention decay value')\n",
    "ax1.set_ylabel('Hit rate', color=color)\n",
    "ax1.set_xscale(\"log\")\n",
    "ax1.plot(attention_decays_exp, np.array(results_exp_decay)[:,0], color=color)\n",
    "ax1.tick_params(axis='y', labelcolor=color)\n",
    "\n",
    "ax2 = ax1.twinx()  # instantiate a second axes that shares the same x-axis\n",
    "\n",
    "color = 'tab:blue'\n",
    "ax2.set_ylabel('Coverage', color=color)  # we already handled the x-label with ax1\n",
    "ax2.plot(attention_decays_exp, np.array(results_exp_decay)[:,2], color=color)\n",
    "ax2.tick_params(axis='y', labelcolor=color)\n",
    "ax2.set_xscale(\"log\")\n",
    "\n",
    "fig.tight_layout()  # otherwise the right y-label is slightly clipped\n",
    "plt.show()"
   ]
  },
  {
   "cell_type": "markdown",
   "metadata": {},
   "source": [
    "## Quality metrics and linear decay"
   ]
  },
  {
   "cell_type": "code",
   "execution_count": 40,
   "metadata": {},
   "outputs": [
    {
     "data": {
      "image/png": "[encoded data removed]",
      "text/plain": [
       "<Figure size 864x432 with 2 Axes>"
      ]
     },
     "metadata": {
      "needs_background": "light"
     },
     "output_type": "display_data"
    }
   ],
   "source": [
    "fig, ax1 = plt.subplots(figsize = (12,6))\n",
    "plt.title(\"Linear decay\")\n",
    "color = 'tab:red'\n",
    "ax1.set_xlabel('attention decay value')\n",
    "ax1.set_ylabel('Hit rate', color=color)\n",
    "ax1.set_xscale(\"log\")\n",
    "ax1.plot(attention_decays_linear, np.array(results_linear_decay)[:,0], color=color)\n",
    "ax1.tick_params(axis='y', labelcolor=color)\n",
    "\n",
    "ax2 = ax1.twinx()  # instantiate a second axes that shares the same x-axis\n",
    "\n",
    "color = 'tab:blue'\n",
    "ax2.set_ylabel('MRR', color=color)  # we already handled the x-label with ax1\n",
    "ax2.plot(attention_decays_linear, np.array(results_linear_decay)[:,1], color=color)\n",
    "ax2.tick_params(axis='y', labelcolor=color)\n",
    "ax2.set_xscale(\"log\")\n",
    "\n",
    "fig.tight_layout()  # otherwise the right y-label is slightly clipped\n",
    "plt.show()"
   ]
  },
  {
   "cell_type": "code",
   "execution_count": 41,
   "metadata": {},
   "outputs": [
    {
     "data": {
      "image/png": "[encoded data removed]",
      "text/plain": [
       "<Figure size 864x432 with 2 Axes>"
      ]
     },
     "metadata": {
      "needs_background": "light"
     },
     "output_type": "display_data"
    }
   ],
   "source": [
    "fig, ax1 = plt.subplots(figsize = (12,6))\n",
    "plt.title(\"linear decay\")\n",
    "color = 'tab:red'\n",
    "ax1.set_xlabel('attention decay value')\n",
    "ax1.set_ylabel('Hit rate', color=color)\n",
    "ax1.set_xscale(\"log\")\n",
    "ax1.plot(attention_decays_linear, np.array(results_linear_decay)[:,0], color=color)\n",
    "ax1.tick_params(axis='y', labelcolor=color)\n",
    "\n",
    "ax2 = ax1.twinx()  # instantiate a second axes that shares the same x-axis\n",
    "\n",
    "color = 'tab:blue'\n",
    "ax2.set_ylabel('Coverage', color=color)  # we already handled the x-label with ax1\n",
    "ax2.plot(attention_decays_linear, np.array(results_linear_decay)[:,2], color=color)\n",
    "ax2.tick_params(axis='y', labelcolor=color)\n",
    "ax2.set_xscale(\"log\")\n",
    "\n",
    "fig.tight_layout()  # otherwise the right y-label is slightly clipped\n",
    "plt.show()"
   ]
  },
  {
   "cell_type": "markdown",
   "metadata": {},
   "source": [
    "## SVD random initialization. difference in terms of metrics"
   ]
  },
  {
   "cell_type": "code",
   "execution_count": 42,
   "metadata": {},
   "outputs": [
    {
     "data": {
      "text/plain": [
       "array([-6.625     , -2.09059233,  1.17283951])"
      ]
     },
     "execution_count": 42,
     "metadata": {},
     "output_type": "execute_result"
    }
   ],
   "source": [
    "(np.array(results_svd_init)[0,:] - np.array(results_svd_init)[1,:]) / np.array(results_svd_init)[0,:] *100"
   ]
  },
  {
   "cell_type": "markdown",
   "metadata": {},
   "source": [
    "# Scalings"
   ]
  },
  {
   "cell_type": "code",
   "execution_count": 43,
   "metadata": {},
   "outputs": [
    {
     "data": {
      "image/png": "[encoded data removed]",
      "text/plain": [
       "<Figure size 864x432 with 2 Axes>"
      ]
     },
     "metadata": {
      "needs_background": "light"
     },
     "output_type": "display_data"
    }
   ],
   "source": [
    "fig, ax1 = plt.subplots(figsize = (12,6))\n",
    "plt.title(\"Scaling\")\n",
    "color = 'tab:red'\n",
    "ax1.set_xlabel('scale value')\n",
    "ax1.set_ylabel('Hit rate', color=color)\n",
    "\n",
    "ax1.plot(scalings, np.array(results_for_scaling)[:,0], color=color)\n",
    "ax1.tick_params(axis='y', labelcolor=color)\n",
    "\n",
    "ax2 = ax1.twinx()  # instantiate a second axes that shares the same x-axis\n",
    "\n",
    "color = 'tab:blue'\n",
    "ax2.set_ylabel('MRR', color=color)  # we already handled the x-label with ax1\n",
    "ax2.plot(scalings, np.array(results_for_scaling)[:,1], color=color)\n",
    "ax2.tick_params(axis='y', labelcolor=color)\n",
    "\n",
    "\n",
    "fig.tight_layout()  # otherwise the right y-label is slightly clipped\n",
    "plt.show()"
   ]
  },
  {
   "cell_type": "code",
   "execution_count": 44,
   "metadata": {},
   "outputs": [
    {
     "data": {
      "image/png": "[encoded data removed]",
      "text/plain": [
       "<Figure size 864x432 with 2 Axes>"
      ]
     },
     "metadata": {
      "needs_background": "light"
     },
     "output_type": "display_data"
    }
   ],
   "source": [
    "fig, ax1 = plt.subplots(figsize = (12,6))\n",
    "plt.title(\"Scaling\")\n",
    "color = 'tab:red'\n",
    "ax1.set_xlabel('scale value')\n",
    "ax1.set_ylabel('Hit rate', color=color)\n",
    "\n",
    "ax1.plot(scalings, np.array(results_for_scaling)[:,0], color=color)\n",
    "ax1.tick_params(axis='y', labelcolor=color)\n",
    "\n",
    "ax2 = ax1.twinx()  # instantiate a second axes that shares the same x-axis\n",
    "\n",
    "color = 'tab:blue'\n",
    "ax2.set_ylabel('Coverage', color=color)  # we already handled the x-label with ax1\n",
    "ax2.plot(scalings, np.array(results_for_scaling)[:,2], color=color)\n",
    "ax2.tick_params(axis='y', labelcolor=color)\n",
    "\n",
    "\n",
    "fig.tight_layout()  # otherwise the right y-label is slightly clipped\n",
    "plt.show()"
   ]
  },
  {
   "cell_type": "code",
   "execution_count": null,
   "metadata": {},
   "outputs": [],
   "source": []
  }
 ],
 "metadata": {
  "interpreter": {
   "hash": "009c838d92940ae6fa3c0eca0f0908a58be7fe030119f0cd30e204cb459dcff7"
  },
  "kernelspec": {
   "display_name": "Python 3 (ipykernel)",
   "language": "python",
   "name": "python3"
  },
  "language_info": {
   "codemirror_mode": {
    "name": "ipython",
    "version": 3
   },
   "file_extension": ".py",
   "mimetype": "text/x-python",
   "name": "python",
   "nbconvert_exporter": "python",
   "pygments_lexer": "ipython3",
   "version": "3.8.12"
  }
 },
 "nbformat": 4,
 "nbformat_minor": 2
}
