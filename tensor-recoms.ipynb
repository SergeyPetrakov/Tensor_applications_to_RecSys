{
 "cells": [
  {
   "cell_type": "markdown",
   "id": "fe84072c",
   "metadata": {},
   "source": [
    "## Notebook for conducting recommender system experiments"
   ]
  },
  {
   "cell_type": "code",
   "execution_count": 1,
   "id": "00715bf0",
   "metadata": {
    "execution": {
     "iopub.execute_input": "2022-03-23T21:57:30.738910Z",
     "iopub.status.busy": "2022-03-23T21:57:30.738098Z",
     "iopub.status.idle": "2022-03-23T21:58:15.079073Z",
     "shell.execute_reply": "2022-03-23T21:58:15.079922Z"
    },
    "papermill": {
     "duration": 44.386518,
     "end_time": "2022-03-23T21:58:15.080411",
     "exception": false,
     "start_time": "2022-03-23T21:57:30.693893",
     "status": "completed"
    },
    "tags": []
   },
   "outputs": [
    {
     "name": "stdout",
     "output_type": "stream",
     "text": [
      "\u001b[31mERROR: pip's dependency resolver does not currently take into account all the packages that are installed. This behaviour is the source of the following dependency conflicts.\r\n",
      "yellowbrick 1.4 requires scikit-learn>=1.0.0, but you have scikit-learn 0.24.2 which is incompatible.\r\n",
      "preprocessing 0.1.13 requires nltk==3.2.4, but you have nltk 3.7 which is incompatible.\r\n",
      "pdpbox 0.2.1 requires matplotlib==3.1.1, but you have matplotlib 3.5.1 which is incompatible.\r\n",
      "imbalanced-learn 0.9.0 requires scikit-learn>=1.0.1, but you have scikit-learn 0.24.2 which is incompatible.\r\n",
      "featuretools 1.6.0 requires numpy>=1.21.0, but you have numpy 1.20.3 which is incompatible.\u001b[0m\r\n",
      "\u001b[33mWARNING: Running pip as the 'root' user can result in broken permissions and conflicting behaviour with the system package manager. It is recommended to use a virtual environment instead: https://pip.pypa.io/warnings/venv\u001b[0m\r\n"
     ]
    }
   ],
   "source": [
    "# !pip install -q rs_datasets recommenders cornac sparse tensorly"
   ]
  },
  {
   "cell_type": "code",
   "execution_count": 2,
   "id": "454fd900",
   "metadata": {
    "execution": {
     "iopub.execute_input": "2022-03-23T21:58:15.165327Z",
     "iopub.status.busy": "2022-03-23T21:58:15.163461Z",
     "iopub.status.idle": "2022-03-23T21:58:15.984813Z",
     "shell.execute_reply": "2022-03-23T21:58:15.985345Z"
    },
    "papermill": {
     "duration": 0.860145,
     "end_time": "2022-03-23T21:58:15.985557",
     "exception": false,
     "start_time": "2022-03-23T21:58:15.125412",
     "status": "completed"
    },
    "tags": []
   },
   "outputs": [
    {
     "data": {
      "text/html": [
       "<style type='text/css'>\n",
       ".datatable table.frame { margin-bottom: 0; }\n",
       ".datatable table.frame thead { border-bottom: none; }\n",
       ".datatable table.frame tr.coltypes td {  color: #FFFFFF;  line-height: 6px;  padding: 0 0.5em;}\n",
       ".datatable .bool    { background: #DDDD99; }\n",
       ".datatable .object  { background: #565656; }\n",
       ".datatable .int     { background: #5D9E5D; }\n",
       ".datatable .float   { background: #4040CC; }\n",
       ".datatable .str     { background: #CC4040; }\n",
       ".datatable .time    { background: #40CC40; }\n",
       ".datatable .row_index {  background: var(--jp-border-color3);  border-right: 1px solid var(--jp-border-color0);  color: var(--jp-ui-font-color3);  font-size: 9px;}\n",
       ".datatable .frame tbody td { text-align: left; }\n",
       ".datatable .frame tr.coltypes .row_index {  background: var(--jp-border-color0);}\n",
       ".datatable th:nth-child(2) { padding-left: 12px; }\n",
       ".datatable .hellipsis {  color: var(--jp-cell-editor-border-color);}\n",
       ".datatable .vellipsis {  background: var(--jp-layout-color0);  color: var(--jp-cell-editor-border-color);}\n",
       ".datatable .na {  color: var(--jp-cell-editor-border-color);  font-size: 80%;}\n",
       ".datatable .sp {  opacity: 0.25;}\n",
       ".datatable .footer { font-size: 9px; }\n",
       ".datatable .frame_dimensions {  background: var(--jp-border-color3);  border-top: 1px solid var(--jp-border-color0);  color: var(--jp-ui-font-color3);  display: inline-block;  opacity: 0.6;  padding: 1px 10px 1px 5px;}\n",
       "</style>\n"
      ],
      "text/plain": [
       "<IPython.core.display.HTML object>"
      ]
     },
     "metadata": {},
     "output_type": "display_data"
    }
   ],
   "source": [
    "import os\n",
    "import sys\n",
    "\n",
    "import numpy as np\n",
    "import pandas as pd\n",
    "\n",
    "from tqdm import trange\n",
    "\n",
    "from rs_datasets import MovieLens, Rekko"
   ]
  },
  {
   "cell_type": "code",
   "execution_count": 3,
   "id": "90ab5c57",
   "metadata": {
    "execution": {
     "iopub.execute_input": "2022-03-23T21:58:16.058186Z",
     "iopub.status.busy": "2022-03-23T21:58:16.057519Z",
     "iopub.status.idle": "2022-03-23T21:58:17.104783Z",
     "shell.execute_reply": "2022-03-23T21:58:17.105319Z"
    },
    "papermill": {
     "duration": 1.085131,
     "end_time": "2022-03-23T21:58:17.105515",
     "exception": false,
     "start_time": "2022-03-23T21:58:16.020384",
     "status": "completed"
    },
    "tags": []
   },
   "outputs": [],
   "source": [
    "from recommenders.utils.timer import Timer\n",
    "from recommenders.utils.constants import SEED\n",
    "\n",
    "from recommenders.models.cornac.cornac_utils import predict_ranking\n",
    "from recommenders.evaluation.python_evaluation import (\n",
    "    rmse, mae, rsquared, exp_var, map_at_k, ndcg_at_k, precision_at_k, recall_at_k, get_top_k_items\n",
    ")"
   ]
  },
  {
   "cell_type": "code",
   "execution_count": 4,
   "id": "aad9410e",
   "metadata": {
    "execution": {
     "iopub.execute_input": "2022-03-23T21:58:17.177362Z",
     "iopub.status.busy": "2022-03-23T21:58:17.176698Z",
     "iopub.status.idle": "2022-03-23T21:58:17.179458Z",
     "shell.execute_reply": "2022-03-23T21:58:17.179968Z"
    },
    "papermill": {
     "duration": 0.040461,
     "end_time": "2022-03-23T21:58:17.180144",
     "exception": false,
     "start_time": "2022-03-23T21:58:17.139683",
     "status": "completed"
    },
    "scrolled": true,
    "tags": []
   },
   "outputs": [],
   "source": [
    "# ml = MovieLens(version='10m')\n",
    "# ml.info()"
   ]
  },
  {
   "cell_type": "code",
   "execution_count": 5,
   "id": "2b14f037",
   "metadata": {
    "execution": {
     "iopub.execute_input": "2022-03-23T21:58:17.254432Z",
     "iopub.status.busy": "2022-03-23T21:58:17.253609Z",
     "iopub.status.idle": "2022-03-23T21:58:32.462449Z",
     "shell.execute_reply": "2022-03-23T21:58:32.462928Z"
    },
    "papermill": {
     "duration": 15.248742,
     "end_time": "2022-03-23T21:58:32.463116",
     "exception": false,
     "start_time": "2022-03-23T21:58:17.214374",
     "status": "completed"
    },
    "scrolled": true,
    "tags": []
   },
   "outputs": [
    {
     "name": "stderr",
     "output_type": "stream",
     "text": [
      "175MB [00:08, 21.5MB/s]                           \n"
     ]
    },
    {
     "data": {
      "text/plain": [
       "(438790, 4)"
      ]
     },
     "execution_count": 5,
     "metadata": {},
     "output_type": "execute_result"
    }
   ],
   "source": [
    "rekko = Rekko()\n",
    "\n",
    "data = rekko.ratings.sort_values(['user_id', 'ts'], ascending=[True, True])\n",
    "data.shape"
   ]
  },
  {
   "cell_type": "code",
   "execution_count": 6,
   "id": "92bc7fd8",
   "metadata": {
    "execution": {
     "iopub.execute_input": "2022-03-23T21:58:32.596324Z",
     "iopub.status.busy": "2022-03-23T21:58:32.595661Z",
     "iopub.status.idle": "2022-03-23T21:58:32.627389Z",
     "shell.execute_reply": "2022-03-23T21:58:32.627926Z"
    },
    "papermill": {
     "duration": 0.102436,
     "end_time": "2022-03-23T21:58:32.628101",
     "exception": false,
     "start_time": "2022-03-23T21:58:32.525665",
     "status": "completed"
    },
    "scrolled": true,
    "tags": []
   },
   "outputs": [
    {
     "data": {
      "text/plain": [
       "(97569, 4)"
      ]
     },
     "execution_count": 6,
     "metadata": {},
     "output_type": "execute_result"
    }
   ],
   "source": [
    "counts_1 = data.user_id.value_counts()\n",
    "counts_2 = data.item_id.value_counts()\n",
    "\n",
    "data = data.loc[data.user_id.isin(counts_1[counts_1 >= 20].index) & \\\n",
    "                data.item_id.isin(counts_2[counts_2 >= 20].index)]\n",
    "data.shape"
   ]
  },
  {
   "cell_type": "code",
   "execution_count": 7,
   "id": "97e8ebb4",
   "metadata": {
    "execution": {
     "iopub.execute_input": "2022-03-23T21:58:32.755070Z",
     "iopub.status.busy": "2022-03-23T21:58:32.754305Z",
     "iopub.status.idle": "2022-03-23T21:58:32.772262Z",
     "shell.execute_reply": "2022-03-23T21:58:32.771743Z"
    },
    "papermill": {
     "duration": 0.08451,
     "end_time": "2022-03-23T21:58:32.772410",
     "exception": false,
     "start_time": "2022-03-23T21:58:32.687900",
     "status": "completed"
    },
    "tags": []
   },
   "outputs": [
    {
     "data": {
      "text/plain": [
       "((87811, 3), (9055, 3))"
      ]
     },
     "execution_count": 7,
     "metadata": {},
     "output_type": "execute_result"
    }
   ],
   "source": [
    "ts_split = data.ts.quantile(q=0.90, interpolation='nearest')\n",
    "\n",
    "data_train = data.loc[data.ts < ts_split].drop(columns='ts')\n",
    "data_test = data.loc[(data.ts >= ts_split) & (data.user_id.isin(data_train.user_id.unique()))].drop(columns='ts')\n",
    "\n",
    "data_train.shape, data_test.shape"
   ]
  },
  {
   "cell_type": "code",
   "execution_count": 8,
   "id": "8486465f",
   "metadata": {
    "execution": {
     "iopub.execute_input": "2022-03-23T21:58:32.898461Z",
     "iopub.status.busy": "2022-03-23T21:58:32.897491Z",
     "iopub.status.idle": "2022-03-23T21:58:32.906670Z",
     "shell.execute_reply": "2022-03-23T21:58:32.907190Z"
    },
    "papermill": {
     "duration": 0.073205,
     "end_time": "2022-03-23T21:58:32.907378",
     "exception": false,
     "start_time": "2022-03-23T21:58:32.834173",
     "status": "completed"
    },
    "tags": []
   },
   "outputs": [
    {
     "data": {
      "text/plain": [
       "user_id    2870\n",
       "item_id    2542\n",
       "rating       11\n",
       "dtype: int64"
      ]
     },
     "execution_count": 8,
     "metadata": {},
     "output_type": "execute_result"
    }
   ],
   "source": [
    "data_train.nunique()"
   ]
  },
  {
   "cell_type": "code",
   "execution_count": 9,
   "id": "3420c397",
   "metadata": {
    "execution": {
     "iopub.execute_input": "2022-03-23T21:58:33.035222Z",
     "iopub.status.busy": "2022-03-23T21:58:33.034206Z",
     "iopub.status.idle": "2022-03-23T21:58:33.036295Z",
     "shell.execute_reply": "2022-03-23T21:58:33.036762Z"
    },
    "papermill": {
     "duration": 0.068523,
     "end_time": "2022-03-23T21:58:33.036921",
     "exception": false,
     "start_time": "2022-03-23T21:58:32.968398",
     "status": "completed"
    },
    "tags": []
   },
   "outputs": [],
   "source": [
    "TOP_K = 20\n",
    "evals = {}"
   ]
  },
  {
   "cell_type": "markdown",
   "id": "5de75542",
   "metadata": {
    "papermill": {
     "duration": 0.060834,
     "end_time": "2022-03-23T21:58:33.158841",
     "exception": false,
     "start_time": "2022-03-23T21:58:33.098007",
     "status": "completed"
    },
    "tags": []
   },
   "source": [
    "## Baselines"
   ]
  },
  {
   "cell_type": "markdown",
   "id": "7254d2a6",
   "metadata": {
    "papermill": {
     "duration": 0.061485,
     "end_time": "2022-03-23T21:58:33.282406",
     "exception": false,
     "start_time": "2022-03-23T21:58:33.220921",
     "status": "completed"
    },
    "tags": []
   },
   "source": [
    "### Random items"
   ]
  },
  {
   "cell_type": "code",
   "execution_count": 10,
   "id": "6dfe322f",
   "metadata": {
    "execution": {
     "iopub.execute_input": "2022-03-23T21:58:33.408842Z",
     "iopub.status.busy": "2022-03-23T21:58:33.407756Z",
     "iopub.status.idle": "2022-03-23T21:58:46.848108Z",
     "shell.execute_reply": "2022-03-23T21:58:46.847550Z"
    },
    "papermill": {
     "duration": 13.504875,
     "end_time": "2022-03-23T21:58:46.848261",
     "exception": false,
     "start_time": "2022-03-23T21:58:33.343386",
     "status": "completed"
    },
    "scrolled": true,
    "tags": []
   },
   "outputs": [
    {
     "name": "stdout",
     "output_type": "stream",
     "text": [
      "Took 13.4295 seconds for prediction.\n"
     ]
    }
   ],
   "source": [
    "with Timer() as t:\n",
    "    outlist = [(i, j) for i in data_train.user_id.unique() for j in data_train.item_id.unique()]\n",
    "    all_predictions = pd.DataFrame(outlist, columns=['user_id', 'item_id'])\n",
    "    all_predictions['prediction'] = np.random.uniform(0, 10, size=len(all_predictions))\n",
    "\n",
    "print(\"Took {} seconds for prediction.\".format(t))"
   ]
  },
  {
   "cell_type": "code",
   "execution_count": 11,
   "id": "022bd754",
   "metadata": {
    "execution": {
     "iopub.execute_input": "2022-03-23T21:58:46.978382Z",
     "iopub.status.busy": "2022-03-23T21:58:46.977683Z",
     "iopub.status.idle": "2022-03-23T21:59:32.586854Z",
     "shell.execute_reply": "2022-03-23T21:59:32.587377Z"
    },
    "papermill": {
     "duration": 45.67577,
     "end_time": "2022-03-23T21:59:32.587554",
     "exception": false,
     "start_time": "2022-03-23T21:58:46.911784",
     "status": "completed"
    },
    "scrolled": true,
    "tags": []
   },
   "outputs": [
    {
     "name": "stdout",
     "output_type": "stream",
     "text": [
      "MAP: 0.001385 NDCG: 0.004209 Precision@K: 0.001893 Recall@K: 0.006935\n"
     ]
    }
   ],
   "source": [
    "eval_map = map_at_k(data_test, all_predictions, \n",
    "                    col_user='user_id', col_item='item_id', \n",
    "                    col_prediction='prediction', k=TOP_K)\n",
    "\n",
    "eval_ndcg = ndcg_at_k(data_test, all_predictions, \n",
    "                      col_user='user_id', col_item='item_id', \n",
    "                      col_prediction='prediction', k=TOP_K)\n",
    "\n",
    "eval_precision = precision_at_k(data_test, all_predictions, \n",
    "                                col_user='user_id', col_item='item_id', \n",
    "                                col_prediction='prediction', k=TOP_K)\n",
    "\n",
    "eval_recall = recall_at_k(data_test, all_predictions, \n",
    "                          col_user='user_id', col_item='item_id', \n",
    "                          col_prediction='prediction', k=TOP_K)\n",
    "\n",
    "evals['random'] = [eval_map, eval_ndcg, eval_precision, eval_recall]\n",
    "\n",
    "print(\"MAP: %f\" % eval_map,\n",
    "      \"NDCG: %f\" % eval_ndcg,\n",
    "      \"Precision@K: %f\" % eval_precision,\n",
    "      \"Recall@K: %f\" % eval_recall, sep=' ')"
   ]
  },
  {
   "cell_type": "markdown",
   "id": "5700f05a",
   "metadata": {
    "papermill": {
     "duration": 0.063038,
     "end_time": "2022-03-23T21:59:32.712805",
     "exception": false,
     "start_time": "2022-03-23T21:59:32.649767",
     "status": "completed"
    },
    "tags": []
   },
   "source": [
    "### Pure-SVD"
   ]
  },
  {
   "cell_type": "code",
   "execution_count": 12,
   "id": "445af4f1",
   "metadata": {
    "execution": {
     "iopub.execute_input": "2022-03-23T21:59:32.844294Z",
     "iopub.status.busy": "2022-03-23T21:59:32.842596Z",
     "iopub.status.idle": "2022-03-23T21:59:32.845990Z",
     "shell.execute_reply": "2022-03-23T21:59:32.846595Z"
    },
    "papermill": {
     "duration": 0.070151,
     "end_time": "2022-03-23T21:59:32.846768",
     "exception": false,
     "start_time": "2022-03-23T21:59:32.776617",
     "status": "completed"
    },
    "tags": []
   },
   "outputs": [],
   "source": [
    "from scipy.sparse import csr_matrix\n",
    "from scipy.sparse.linalg import svds"
   ]
  },
  {
   "cell_type": "code",
   "execution_count": 13,
   "id": "2534177d",
   "metadata": {
    "execution": {
     "iopub.execute_input": "2022-03-23T21:59:32.975376Z",
     "iopub.status.busy": "2022-03-23T21:59:32.974712Z",
     "iopub.status.idle": "2022-03-23T22:07:32.730723Z",
     "shell.execute_reply": "2022-03-23T22:07:32.731358Z"
    },
    "papermill": {
     "duration": 479.822194,
     "end_time": "2022-03-23T22:07:32.731741",
     "exception": false,
     "start_time": "2022-03-23T21:59:32.909547",
     "status": "completed"
    },
    "tags": []
   },
   "outputs": [
    {
     "name": "stdout",
     "output_type": "stream",
     "text": [
      "Rank:  1\n",
      "Took 1.1477 seconds for prediction.\n",
      "MAP: 0.014092 NDCG: 0.037941 Precision@K: 0.015060 Recall@K: 0.074510\n",
      "\n",
      "Rank:  2\n",
      "Took 1.9643 seconds for prediction.\n",
      "MAP: 0.014458 NDCG: 0.038112 Precision@K: 0.015605 Recall@K: 0.073366\n",
      "\n",
      "Rank:  3\n",
      "Took 1.6824 seconds for prediction.\n",
      "MAP: 0.016686 NDCG: 0.042522 Precision@K: 0.016695 Recall@K: 0.078723\n",
      "\n",
      "Rank:  5\n",
      "Took 1.6467 seconds for prediction.\n",
      "MAP: 0.018841 NDCG: 0.047601 Precision@K: 0.018847 Recall@K: 0.088312\n",
      "\n",
      "Rank:  7\n",
      "Took 2.3971 seconds for prediction.\n",
      "MAP: 0.016806 NDCG: 0.045931 Precision@K: 0.019191 Recall@K: 0.089219\n",
      "\n",
      "Rank:  10\n",
      "Took 3.0382 seconds for prediction.\n",
      "MAP: 0.015939 NDCG: 0.045144 Precision@K: 0.019248 Recall@K: 0.089603\n",
      "\n",
      "Rank:  50\n",
      "Took 8.0889 seconds for prediction.\n",
      "MAP: 0.006190 NDCG: 0.024113 Precision@K: 0.012651 Recall@K: 0.054024\n",
      "\n",
      "Rank:  100\n",
      "Took 13.9259 seconds for prediction.\n",
      "MAP: 0.002685 NDCG: 0.012751 Precision@K: 0.007372 Recall@K: 0.030309\n",
      "\n"
     ]
    }
   ],
   "source": [
    "best_ndcg, best_r = 0, 0\n",
    "\n",
    "for r in [1, 2, 3, 5, 7, 10, 50, 100]:\n",
    "    print('Rank: ', r)\n",
    "    \n",
    "    with Timer() as t:\n",
    "        data_train_m = data_train.pivot(index='user_id', columns='item_id', values='rating')\n",
    "        source_matrix = csr_matrix(data_train_m.to_numpy(), dtype='f8')\n",
    "\n",
    "        source_matrix.data[np.isnan(source_matrix.data)] = 0.0\n",
    "    \n",
    "        svd_config = {'rank': r}\n",
    "        _, s, vt = svds(source_matrix, k=svd_config['rank'], return_singular_vectors='vh')\n",
    "\n",
    "        singular_values = s[::-1]\n",
    "        item_factors = np.ascontiguousarray(vt[::-1, :].T)\n",
    "\n",
    "        scores = (source_matrix @ item_factors) @ item_factors.T\n",
    "\n",
    "    print(\"Took {} seconds for prediction.\".format(t))\n",
    "    \n",
    "    outlist = [(i, j) for i in data_train_m.index for j in data_train_m.columns]\n",
    "    all_predictions = pd.DataFrame(outlist, columns=['user_id', 'item_id'])\n",
    "    all_predictions['prediction'] = scores.flatten()\n",
    "    \n",
    "    eval_map = map_at_k(data_test, all_predictions, \n",
    "                        col_user='user_id', col_item='item_id', \n",
    "                        col_prediction='prediction', k=TOP_K)\n",
    "\n",
    "    eval_ndcg = ndcg_at_k(data_test, all_predictions, \n",
    "                          col_user='user_id', col_item='item_id', \n",
    "                          col_prediction='prediction', k=TOP_K)\n",
    "\n",
    "    eval_precision = precision_at_k(data_test, all_predictions, \n",
    "                                    col_user='user_id', col_item='item_id', \n",
    "                                    col_prediction='prediction', k=TOP_K)\n",
    "\n",
    "    eval_recall = recall_at_k(data_test, all_predictions, \n",
    "                              col_user='user_id', col_item='item_id', \n",
    "                              col_prediction='prediction', k=TOP_K)\n",
    "\n",
    "    evals['svd'] = [eval_map, eval_ndcg, eval_precision, eval_recall]\n",
    "\n",
    "    print(\"MAP: %f\" % eval_map,\n",
    "          \"NDCG: %f\" % eval_ndcg,\n",
    "          \"Precision@K: %f\" % eval_precision,\n",
    "          \"Recall@K: %f\" % eval_recall, sep=' ')\n",
    "    print()\n",
    "    \n",
    "    if eval_ndcg > best_ndcg:\n",
    "        best_ndcg = eval_ndcg\n",
    "        best_r = r"
   ]
  },
  {
   "cell_type": "code",
   "execution_count": 14,
   "id": "327e3bed",
   "metadata": {
    "execution": {
     "iopub.execute_input": "2022-03-23T22:07:32.908529Z",
     "iopub.status.busy": "2022-03-23T22:07:32.907802Z",
     "iopub.status.idle": "2022-03-23T22:07:34.535434Z",
     "shell.execute_reply": "2022-03-23T22:07:34.536738Z"
    },
    "papermill": {
     "duration": 1.723737,
     "end_time": "2022-03-23T22:07:34.537207",
     "exception": false,
     "start_time": "2022-03-23T22:07:32.813470",
     "status": "completed"
    },
    "tags": []
   },
   "outputs": [
    {
     "name": "stdout",
     "output_type": "stream",
     "text": [
      "Took 1.6229 seconds for prediction.\n"
     ]
    }
   ],
   "source": [
    "with Timer() as t:\n",
    "    data_train_m = data_train.pivot(index='user_id', columns='item_id', values='rating')\n",
    "    source_matrix = csr_matrix(data_train_m.to_numpy(), dtype='f8')\n",
    "\n",
    "    source_matrix.data[np.isnan(source_matrix.data)] = 0.0\n",
    "\n",
    "    svd_config = {'rank': best_r}\n",
    "    _, s, vt = svds(source_matrix, k=svd_config['rank'], return_singular_vectors='vh')\n",
    "\n",
    "    singular_values = s[::-1]\n",
    "    item_factors = np.ascontiguousarray(vt[::-1, :].T)\n",
    "\n",
    "    scores = (source_matrix @ item_factors) @ item_factors.T\n",
    "\n",
    "print(\"Took {} seconds for prediction.\".format(t))"
   ]
  },
  {
   "cell_type": "code",
   "execution_count": 15,
   "id": "552f56af",
   "metadata": {
    "execution": {
     "iopub.execute_input": "2022-03-23T22:07:34.751520Z",
     "iopub.status.busy": "2022-03-23T22:07:34.750570Z",
     "iopub.status.idle": "2022-03-23T22:07:43.933924Z",
     "shell.execute_reply": "2022-03-23T22:07:43.932893Z"
    },
    "papermill": {
     "duration": 9.263306,
     "end_time": "2022-03-23T22:07:43.934081",
     "exception": false,
     "start_time": "2022-03-23T22:07:34.670775",
     "status": "completed"
    },
    "tags": []
   },
   "outputs": [],
   "source": [
    "outlist = [(i, j) for i in data_train_m.index for j in data_train_m.columns]\n",
    "all_predictions = pd.DataFrame(outlist, columns=['user_id', 'item_id'])\n",
    "all_predictions['prediction'] = scores.flatten()"
   ]
  },
  {
   "cell_type": "code",
   "execution_count": 16,
   "id": "f3f2a799",
   "metadata": {
    "execution": {
     "iopub.execute_input": "2022-03-23T22:07:44.085302Z",
     "iopub.status.busy": "2022-03-23T22:07:44.084216Z",
     "iopub.status.idle": "2022-03-23T22:08:29.979341Z",
     "shell.execute_reply": "2022-03-23T22:08:29.979848Z"
    },
    "papermill": {
     "duration": 45.97557,
     "end_time": "2022-03-23T22:08:29.980039",
     "exception": false,
     "start_time": "2022-03-23T22:07:44.004469",
     "status": "completed"
    },
    "scrolled": true,
    "tags": []
   },
   "outputs": [
    {
     "name": "stdout",
     "output_type": "stream",
     "text": [
      "MAP: 0.018841 NDCG: 0.047601 Precision@K: 0.018847 Recall@K: 0.088312\n"
     ]
    }
   ],
   "source": [
    "eval_map = map_at_k(data_test, all_predictions, \n",
    "                    col_user='user_id', col_item='item_id', \n",
    "                    col_prediction='prediction', k=TOP_K)\n",
    "\n",
    "eval_ndcg = ndcg_at_k(data_test, all_predictions, \n",
    "                      col_user='user_id', col_item='item_id', \n",
    "                      col_prediction='prediction', k=TOP_K)\n",
    "\n",
    "eval_precision = precision_at_k(data_test, all_predictions, \n",
    "                                col_user='user_id', col_item='item_id', \n",
    "                                col_prediction='prediction', k=TOP_K)\n",
    "\n",
    "eval_recall = recall_at_k(data_test, all_predictions, \n",
    "                          col_user='user_id', col_item='item_id', \n",
    "                          col_prediction='prediction', k=TOP_K)\n",
    "\n",
    "evals['svd'] = [eval_map, eval_ndcg, eval_precision, eval_recall]\n",
    "\n",
    "print(\"MAP: %f\" % eval_map,\n",
    "      \"NDCG: %f\" % eval_ndcg,\n",
    "      \"Precision@K: %f\" % eval_precision,\n",
    "      \"Recall@K: %f\" % eval_recall, sep=' ')"
   ]
  },
  {
   "cell_type": "markdown",
   "id": "79ec7174",
   "metadata": {
    "papermill": {
     "duration": 0.072102,
     "end_time": "2022-03-23T22:08:30.123109",
     "exception": false,
     "start_time": "2022-03-23T22:08:30.051007",
     "status": "completed"
    },
    "tags": []
   },
   "source": [
    "## Non-Tensors"
   ]
  },
  {
   "cell_type": "markdown",
   "id": "dc939ea5",
   "metadata": {
    "papermill": {
     "duration": 0.07449,
     "end_time": "2022-03-23T22:08:30.285810",
     "exception": false,
     "start_time": "2022-03-23T22:08:30.211320",
     "status": "completed"
    },
    "tags": []
   },
   "source": [
    "### BiVAE (Bilateral Variational Autoencoder)"
   ]
  },
  {
   "cell_type": "code",
   "execution_count": 17,
   "id": "1c002a9d",
   "metadata": {
    "execution": {
     "iopub.execute_input": "2022-03-23T22:08:30.432527Z",
     "iopub.status.busy": "2022-03-23T22:08:30.431868Z",
     "iopub.status.idle": "2022-03-23T22:08:30.434624Z",
     "shell.execute_reply": "2022-03-23T22:08:30.435214Z"
    },
    "papermill": {
     "duration": 0.077782,
     "end_time": "2022-03-23T22:08:30.435395",
     "exception": false,
     "start_time": "2022-03-23T22:08:30.357613",
     "status": "completed"
    },
    "scrolled": true,
    "tags": []
   },
   "outputs": [],
   "source": [
    "# import torch\n",
    "# import cornac"
   ]
  },
  {
   "cell_type": "code",
   "execution_count": 18,
   "id": "70aa1074",
   "metadata": {
    "execution": {
     "iopub.execute_input": "2022-03-23T22:08:30.580175Z",
     "iopub.status.busy": "2022-03-23T22:08:30.578960Z",
     "iopub.status.idle": "2022-03-23T22:08:30.584018Z",
     "shell.execute_reply": "2022-03-23T22:08:30.583299Z"
    },
    "papermill": {
     "duration": 0.078637,
     "end_time": "2022-03-23T22:08:30.584179",
     "exception": false,
     "start_time": "2022-03-23T22:08:30.505542",
     "status": "completed"
    },
    "tags": []
   },
   "outputs": [],
   "source": [
    "# # Model parameters\n",
    "# LATENT_DIM = 50\n",
    "# ENCODER_DIMS = [100]\n",
    "# ACT_FUNC = \"tanh\"\n",
    "# LIKELIHOOD = \"pois\"\n",
    "# NUM_EPOCHS = 5\n",
    "# BATCH_SIZE = 128\n",
    "# LEARNING_RATE = 0.001"
   ]
  },
  {
   "cell_type": "code",
   "execution_count": 19,
   "id": "1151858b",
   "metadata": {
    "execution": {
     "iopub.execute_input": "2022-03-23T22:08:30.731653Z",
     "iopub.status.busy": "2022-03-23T22:08:30.730958Z",
     "iopub.status.idle": "2022-03-23T22:08:30.734258Z",
     "shell.execute_reply": "2022-03-23T22:08:30.733690Z"
    },
    "papermill": {
     "duration": 0.079421,
     "end_time": "2022-03-23T22:08:30.734404",
     "exception": false,
     "start_time": "2022-03-23T22:08:30.654983",
     "status": "completed"
    },
    "tags": []
   },
   "outputs": [],
   "source": [
    "# train_set = cornac.data.Dataset.from_uir(data_train.itertuples(index=False), seed=SEED)\n",
    "\n",
    "# bivae = cornac.models.BiVAECF(\n",
    "#     k=LATENT_DIM,\n",
    "#     encoder_structure=ENCODER_DIMS,\n",
    "#     act_fn=ACT_FUNC,\n",
    "#     likelihood=LIKELIHOOD,\n",
    "#     n_epochs=NUM_EPOCHS,\n",
    "#     batch_size=BATCH_SIZE,\n",
    "#     learning_rate=LEARNING_RATE,\n",
    "#     seed=SEED,\n",
    "#     use_gpu=torch.cuda.is_available(),\n",
    "#     verbose=True\n",
    "# )\n",
    "\n",
    "# with Timer() as t:\n",
    "#     bivae.fit(train_set)\n",
    "\n",
    "# print(\"Took {} seconds for training.\".format(t))"
   ]
  },
  {
   "cell_type": "code",
   "execution_count": 20,
   "id": "8d74b64f",
   "metadata": {
    "execution": {
     "iopub.execute_input": "2022-03-23T22:08:30.883791Z",
     "iopub.status.busy": "2022-03-23T22:08:30.883172Z",
     "iopub.status.idle": "2022-03-23T22:08:30.886004Z",
     "shell.execute_reply": "2022-03-23T22:08:30.886605Z"
    },
    "papermill": {
     "duration": 0.077937,
     "end_time": "2022-03-23T22:08:30.886769",
     "exception": false,
     "start_time": "2022-03-23T22:08:30.808832",
     "status": "completed"
    },
    "scrolled": true,
    "tags": []
   },
   "outputs": [],
   "source": [
    "# with Timer() as t:\n",
    "#     all_predictions = predict_ranking(bivae, data_train, usercol='user_id', itemcol='item_id', remove_seen=False)\n",
    "\n",
    "# print(\"Took {} seconds for prediction.\".format(t))"
   ]
  },
  {
   "cell_type": "code",
   "execution_count": 21,
   "id": "11d2ced4",
   "metadata": {
    "execution": {
     "iopub.execute_input": "2022-03-23T22:08:31.031094Z",
     "iopub.status.busy": "2022-03-23T22:08:31.030470Z",
     "iopub.status.idle": "2022-03-23T22:08:31.034460Z",
     "shell.execute_reply": "2022-03-23T22:08:31.035144Z"
    },
    "papermill": {
     "duration": 0.077946,
     "end_time": "2022-03-23T22:08:31.035340",
     "exception": false,
     "start_time": "2022-03-23T22:08:30.957394",
     "status": "completed"
    },
    "scrolled": true,
    "tags": []
   },
   "outputs": [],
   "source": [
    "# eval_map = map_at_k(data_test, all_predictions, \n",
    "#                     col_user='user_id', col_item='item_id', \n",
    "#                     col_prediction='prediction', k=TOP_K)\n",
    "\n",
    "# eval_ndcg = ndcg_at_k(data_test, all_predictions, \n",
    "#                       col_user='user_id', col_item='item_id', \n",
    "#                       col_prediction='prediction', k=TOP_K)\n",
    "\n",
    "# eval_precision = precision_at_k(data_test, all_predictions, \n",
    "#                                 col_user='user_id', col_item='item_id', \n",
    "#                                 col_prediction='prediction', k=TOP_K)\n",
    "\n",
    "# eval_recall = recall_at_k(data_test, all_predictions, \n",
    "#                           col_user='user_id', col_item='item_id', \n",
    "#                           col_prediction='prediction', k=TOP_K)\n",
    "\n",
    "# evals['bivae'] = [eval_map, eval_ndcg, eval_precision, eval_recall]\n",
    "\n",
    "# print(\"MAP: %f\" % eval_map,\n",
    "#       \"NDCG: %f\" % eval_ndcg,\n",
    "#       \"Precision@K: %f\" % eval_precision,\n",
    "#       \"Recall@K: %f\" % eval_recall, sep=' ')\n",
    "\n",
    "# # MAP: 0.007180 NDCG: 0.023940 Precision@K: 0.010872 Recall@K: 0.050262"
   ]
  },
  {
   "cell_type": "code",
   "execution_count": 22,
   "id": "84f3d86e",
   "metadata": {
    "execution": {
     "iopub.execute_input": "2022-03-23T22:08:31.183126Z",
     "iopub.status.busy": "2022-03-23T22:08:31.182488Z",
     "iopub.status.idle": "2022-03-23T22:08:31.187800Z",
     "shell.execute_reply": "2022-03-23T22:08:31.188417Z"
    },
    "papermill": {
     "duration": 0.080542,
     "end_time": "2022-03-23T22:08:31.188589",
     "exception": false,
     "start_time": "2022-03-23T22:08:31.108047",
     "status": "completed"
    },
    "tags": []
   },
   "outputs": [
    {
     "data": {
      "text/plain": [
       "{'random': [0.0013848178713199196,\n",
       "  0.004209299976770874,\n",
       "  0.0018932874354561098,\n",
       "  0.0069349330915858785],\n",
       " 'svd': [0.018840724684928714,\n",
       "  0.04760053870992793,\n",
       "  0.018846815834767647,\n",
       "  0.0883121645846522],\n",
       " 'bivae': [0.00718, 0.02394, 0.010872, 0.050262]}"
      ]
     },
     "execution_count": 22,
     "metadata": {},
     "output_type": "execute_result"
    }
   ],
   "source": [
    "evals['bivae'] = [0.007180, 0.023940, 0.010872, 0.050262]\n",
    "evals"
   ]
  },
  {
   "cell_type": "markdown",
   "id": "f405780b",
   "metadata": {
    "papermill": {
     "duration": 0.072717,
     "end_time": "2022-03-23T22:08:31.334357",
     "exception": false,
     "start_time": "2022-03-23T22:08:31.261640",
     "status": "completed"
    },
    "tags": []
   },
   "source": [
    "## Tensors"
   ]
  },
  {
   "cell_type": "markdown",
   "id": "97c2ae62",
   "metadata": {
    "papermill": {
     "duration": 0.071591,
     "end_time": "2022-03-23T22:08:31.478102",
     "exception": false,
     "start_time": "2022-03-23T22:08:31.406511",
     "status": "completed"
    },
    "tags": []
   },
   "source": [
    "### Collaborative Full Feedback model: CoFFee"
   ]
  },
  {
   "cell_type": "code",
   "execution_count": 23,
   "id": "58a2ec73",
   "metadata": {
    "execution": {
     "iopub.execute_input": "2022-03-23T22:08:31.625119Z",
     "iopub.status.busy": "2022-03-23T22:08:31.624517Z",
     "iopub.status.idle": "2022-03-23T22:08:32.766292Z",
     "shell.execute_reply": "2022-03-23T22:08:32.765668Z"
    },
    "papermill": {
     "duration": 1.216435,
     "end_time": "2022-03-23T22:08:32.766437",
     "exception": false,
     "start_time": "2022-03-23T22:08:31.550002",
     "status": "completed"
    },
    "tags": []
   },
   "outputs": [],
   "source": [
    "import sparse\n",
    "from tensorly.contrib.sparse import tensor, unfold\n",
    "from tensorly.decomposition import tucker"
   ]
  },
  {
   "cell_type": "code",
   "execution_count": 24,
   "id": "ecdffbad",
   "metadata": {
    "execution": {
     "iopub.execute_input": "2022-03-23T22:08:32.920766Z",
     "iopub.status.busy": "2022-03-23T22:08:32.918160Z",
     "iopub.status.idle": "2022-03-23T22:08:32.938608Z",
     "shell.execute_reply": "2022-03-23T22:08:32.939130Z"
    },
    "papermill": {
     "duration": 0.099303,
     "end_time": "2022-03-23T22:08:32.939314",
     "exception": false,
     "start_time": "2022-03-23T22:08:32.840011",
     "status": "completed"
    },
    "tags": []
   },
   "outputs": [],
   "source": [
    "users_1 = {j: i for i, j in enumerate(data_train.user_id.unique())}\n",
    "users_2 = {j: i for i, j in users_1.items()}\n",
    "\n",
    "items_1 = {j: i for i, j in enumerate(data_train.item_id.unique())}\n",
    "items_2 = {j: i for i, j in items_1.items()}\n",
    "\n",
    "data_train.user_id = data_train.user_id.map(users_1)\n",
    "data_train.item_id = data_train.item_id.map(items_1)"
   ]
  },
  {
   "cell_type": "markdown",
   "id": "49d473a1",
   "metadata": {
    "papermill": {
     "duration": 0.072153,
     "end_time": "2022-03-23T22:08:33.083755",
     "exception": false,
     "start_time": "2022-03-23T22:08:33.011602",
     "status": "completed"
    },
    "tags": []
   },
   "source": [
    "### Initial ratings"
   ]
  },
  {
   "cell_type": "code",
   "execution_count": 25,
   "id": "e2f36b3d",
   "metadata": {
    "execution": {
     "iopub.execute_input": "2022-03-23T22:08:33.231862Z",
     "iopub.status.busy": "2022-03-23T22:08:33.231193Z",
     "iopub.status.idle": "2022-03-23T22:08:33.416998Z",
     "shell.execute_reply": "2022-03-23T22:08:33.417562Z"
    },
    "papermill": {
     "duration": 0.261852,
     "end_time": "2022-03-23T22:08:33.417742",
     "exception": false,
     "start_time": "2022-03-23T22:08:33.155890",
     "status": "completed"
    },
    "tags": []
   },
   "outputs": [],
   "source": [
    "X = sparse.COO(data_train.to_numpy().T, np.ones(len(data_train)), shape=tuple(data_train.nunique().values))\n",
    "X = tensor(X, dtype='float').todense()"
   ]
  },
  {
   "cell_type": "code",
   "execution_count": 26,
   "id": "72d4d46b",
   "metadata": {
    "execution": {
     "iopub.execute_input": "2022-03-23T22:08:33.566348Z",
     "iopub.status.busy": "2022-03-23T22:08:33.565622Z",
     "iopub.status.idle": "2022-03-23T22:39:59.498996Z",
     "shell.execute_reply": "2022-03-23T22:39:59.499602Z"
    },
    "papermill": {
     "duration": 1886.00965,
     "end_time": "2022-03-23T22:39:59.499828",
     "exception": false,
     "start_time": "2022-03-23T22:08:33.490178",
     "status": "completed"
    },
    "tags": []
   },
   "outputs": [
    {
     "name": "stdout",
     "output_type": "stream",
     "text": [
      "Rank: 5\n"
     ]
    },
    {
     "name": "stderr",
     "output_type": "stream",
     "text": [
      "100%|██████████| 2870/2870 [12:54<00:00,  3.70it/s]\n"
     ]
    },
    {
     "name": "stdout",
     "output_type": "stream",
     "text": [
      "Took 792.6423 seconds for prediction.\n",
      "Scheme 1\n",
      "MAP: 0.016481 NDCG: 0.042301 Precision@K: 0.016609 Recall@K: 0.078124\n",
      "Scheme 2\n",
      "MAP: 0.006623 NDCG: 0.014805 Precision@K: 0.005622 Recall@K: 0.021817\n",
      "Scheme 3\n",
      "MAP: 0.016614 NDCG: 0.042020 Precision@K: 0.016380 Recall@K: 0.076919\n",
      "\n",
      "Rank: 10\n"
     ]
    },
    {
     "name": "stderr",
     "output_type": "stream",
     "text": [
      "100%|██████████| 2870/2870 [13:05<00:00,  3.65it/s]\n"
     ]
    },
    {
     "name": "stdout",
     "output_type": "stream",
     "text": [
      "Took 812.5177 seconds for prediction.\n",
      "Scheme 1\n",
      "MAP: 0.014850 NDCG: 0.038955 Precision@K: 0.015835 Recall@K: 0.073156\n",
      "Scheme 2\n",
      "MAP: 0.008070 NDCG: 0.020113 Precision@K: 0.007889 Recall@K: 0.035013\n",
      "Scheme 3\n",
      "MAP: 0.014853 NDCG: 0.038978 Precision@K: 0.015835 Recall@K: 0.073306\n",
      "\n"
     ]
    }
   ],
   "source": [
    "for r in [5, 10]:\n",
    "    print(f'Rank: {r}')\n",
    "    \n",
    "    with Timer() as t:\n",
    "        core, factors = tucker(X, rank=[r, r, r], random_state=42)\n",
    "\n",
    "        all_predictions_all = pd.DataFrame(columns=['prediction_1', 'prediction_2', 'prediction_3', \n",
    "                                                    'user_id', 'item_id'])\n",
    "        for i in trange(X.shape[0]):\n",
    "            scores = (factors[1] @ factors[1].T) @ X[i] @ (factors[2] @ factors[2].T)\n",
    "\n",
    "            preds = pd.DataFrame({'prediction_1': scores[:, -1], \n",
    "                                  'prediction_2': -scores[:, 0], \n",
    "                                  'prediction_3': scores[:, -1] - scores[:, 0]})\n",
    "\n",
    "            preds['user_id'] = users_2[i]\n",
    "            preds['item_id'] = list(items_2.values())\n",
    "\n",
    "            all_predictions_all = all_predictions_all.append(preds)\n",
    "\n",
    "        all_predictions_all.user_id = all_predictions_all.user_id.astype(np.int64)\n",
    "        all_predictions_all.item_id = all_predictions_all.item_id.astype(np.int64)\n",
    "    \n",
    "    print(\"Took {} seconds for prediction.\".format(t))\n",
    "    \n",
    "    for j in range(1, 3+1):\n",
    "        print(f'Scheme {j}')\n",
    "        all_predictions = all_predictions_all.loc[:, ['user_id', 'item_id', f'prediction_{j}']\n",
    "                                                 ].rename(columns={f'prediction_{j}': 'prediction'})\n",
    "\n",
    "        eval_map = map_at_k(data_test, all_predictions, \n",
    "                            col_user='user_id', col_item='item_id', \n",
    "                            col_prediction='prediction', k=TOP_K)\n",
    "\n",
    "        eval_ndcg = ndcg_at_k(data_test, all_predictions, \n",
    "                              col_user='user_id', col_item='item_id', \n",
    "                              col_prediction='prediction', k=TOP_K)\n",
    "\n",
    "        eval_precision = precision_at_k(data_test, all_predictions, \n",
    "                                        col_user='user_id', col_item='item_id', \n",
    "                                        col_prediction='prediction', k=TOP_K)\n",
    "\n",
    "        eval_recall = recall_at_k(data_test, all_predictions, \n",
    "                                  col_user='user_id', col_item='item_id', \n",
    "                                  col_prediction='prediction', k=TOP_K)\n",
    "\n",
    "        evals['bivae'] = [eval_map, eval_ndcg, eval_precision, eval_recall]\n",
    "\n",
    "        print(\"MAP: %f\" % eval_map,\n",
    "              \"NDCG: %f\" % eval_ndcg,\n",
    "              \"Precision@K: %f\" % eval_precision,\n",
    "              \"Recall@K: %f\" % eval_recall, sep=' ')\n",
    "    print()\n",
    "    \n",
    "# Rank: 1\n",
    "# 100%|██████████| 2870/2870 [13:09<00:00,  3.64it/s]\n",
    "# Took 810.1890 seconds for prediction.\n",
    "# Scheme 1\n",
    "# MAP: 0.015665 NDCG: 0.040104 Precision@K: 0.014831 Recall@K: 0.074900\n",
    "# Scheme 2\n",
    "# MAP: 0.000441 NDCG: 0.001493 Precision@K: 0.000688 Recall@K: 0.003241\n",
    "# Scheme 3\n",
    "# MAP: 0.015665 NDCG: 0.040104 Precision@K: 0.014831 Recall@K: 0.074900\n",
    "\n",
    "# Rank: 3\n",
    "# 100%|██████████| 2870/2870 [14:04<00:00,  3.40it/s]\n",
    "# Took 861.1866 seconds for prediction.\n",
    "# Scheme 1\n",
    "# MAP: 0.014721 NDCG: 0.039239 Precision@K: 0.015060 Recall@K: 0.074337\n",
    "# Scheme 2\n",
    "# MAP: 0.001053 NDCG: 0.003730 Precision@K: 0.002094 Recall@K: 0.005085\n",
    "# Scheme 3\n",
    "# MAP: 0.014540 NDCG: 0.039085 Precision@K: 0.015089 Recall@K: 0.074484"
   ]
  },
  {
   "cell_type": "markdown",
   "id": "ad97c48d",
   "metadata": {
    "papermill": {
     "duration": 2.09315,
     "end_time": "2022-03-23T22:40:03.651114",
     "exception": false,
     "start_time": "2022-03-23T22:40:01.557964",
     "status": "completed"
    },
    "tags": []
   },
   "source": [
    "### Group ratings"
   ]
  },
  {
   "cell_type": "code",
   "execution_count": 27,
   "id": "8ee8301e",
   "metadata": {
    "execution": {
     "iopub.execute_input": "2022-03-23T22:40:07.842836Z",
     "iopub.status.busy": "2022-03-23T22:40:07.842121Z",
     "iopub.status.idle": "2022-03-23T22:40:07.844672Z",
     "shell.execute_reply": "2022-03-23T22:40:07.845224Z"
    },
    "papermill": {
     "duration": 2.067658,
     "end_time": "2022-03-23T22:40:07.845417",
     "exception": false,
     "start_time": "2022-03-23T22:40:05.777759",
     "status": "completed"
    },
    "scrolled": true,
    "tags": []
   },
   "outputs": [
    {
     "data": {
      "text/plain": [
       "10    32803\n",
       "8     23269\n",
       "9     15154\n",
       "7      9235\n",
       "6      7998\n",
       "5      3266\n",
       "4      2983\n",
       "2      1689\n",
       "3       791\n",
       "1       312\n",
       "0        69\n",
       "Name: rating, dtype: int64"
      ]
     },
     "execution_count": 27,
     "metadata": {},
     "output_type": "execute_result"
    }
   ],
   "source": [
    "data.rating.value_counts()"
   ]
  },
  {
   "cell_type": "code",
   "execution_count": 28,
   "id": "4f26db01",
   "metadata": {
    "execution": {
     "iopub.execute_input": "2022-03-23T22:40:11.977922Z",
     "iopub.status.busy": "2022-03-23T22:40:11.977278Z",
     "iopub.status.idle": "2022-03-23T22:40:11.987734Z",
     "shell.execute_reply": "2022-03-23T22:40:11.988394Z"
    },
    "papermill": {
     "duration": 2.075451,
     "end_time": "2022-03-23T22:40:11.988574",
     "exception": false,
     "start_time": "2022-03-23T22:40:09.913123",
     "status": "completed"
    },
    "tags": []
   },
   "outputs": [
    {
     "name": "stdout",
     "output_type": "stream",
     "text": [
      "9110\n",
      "7998\n",
      "9235\n",
      "23269\n",
      "15154\n",
      "32803\n"
     ]
    }
   ],
   "source": [
    "intervals = [(0, 5), (6, 6), (7, 7), (8, 8), (9, 9), (10, 10)]\n",
    "for i, j in intervals:\n",
    "    print(data.rating.between(i, j).sum())"
   ]
  },
  {
   "cell_type": "code",
   "execution_count": 29,
   "id": "350de6af",
   "metadata": {
    "execution": {
     "iopub.execute_input": "2022-03-23T22:40:16.207284Z",
     "iopub.status.busy": "2022-03-23T22:40:16.206592Z",
     "iopub.status.idle": "2022-03-23T22:40:16.221609Z",
     "shell.execute_reply": "2022-03-23T22:40:16.222204Z"
    },
    "papermill": {
     "duration": 2.143697,
     "end_time": "2022-03-23T22:40:16.222402",
     "exception": false,
     "start_time": "2022-03-23T22:40:14.078705",
     "status": "completed"
    },
    "tags": []
   },
   "outputs": [],
   "source": [
    "data_train.loc[data.rating.between(0, 5), 'rating'] = 5\n",
    "data_train.rating -= 5"
   ]
  },
  {
   "cell_type": "code",
   "execution_count": 30,
   "id": "bf98a2ee",
   "metadata": {
    "execution": {
     "iopub.execute_input": "2022-03-23T22:40:20.356684Z",
     "iopub.status.busy": "2022-03-23T22:40:20.355721Z",
     "iopub.status.idle": "2022-03-23T22:40:20.470801Z",
     "shell.execute_reply": "2022-03-23T22:40:20.470098Z"
    },
    "papermill": {
     "duration": 2.187762,
     "end_time": "2022-03-23T22:40:20.470948",
     "exception": false,
     "start_time": "2022-03-23T22:40:18.283186",
     "status": "completed"
    },
    "tags": []
   },
   "outputs": [],
   "source": [
    "X = sparse.COO(data_train.to_numpy().T, np.ones(len(data_train)), shape=tuple(data_train.nunique().values))\n",
    "X = tensor(X, dtype='float').todense()"
   ]
  },
  {
   "cell_type": "code",
   "execution_count": 31,
   "id": "bfc1eba6",
   "metadata": {
    "execution": {
     "iopub.execute_input": "2022-03-23T22:40:24.709296Z",
     "iopub.status.busy": "2022-03-23T22:40:24.708588Z",
     "iopub.status.idle": "2022-03-23T22:55:58.482913Z",
     "shell.execute_reply": "2022-03-23T22:55:58.482229Z"
    },
    "papermill": {
     "duration": 935.941623,
     "end_time": "2022-03-23T22:55:58.483242",
     "exception": true,
     "start_time": "2022-03-23T22:40:22.541619",
     "status": "failed"
    },
    "scrolled": true,
    "tags": []
   },
   "outputs": [
    {
     "name": "stdout",
     "output_type": "stream",
     "text": [
      "Rank: 5\n"
     ]
    },
    {
     "name": "stderr",
     "output_type": "stream",
     "text": [
      "100%|██████████| 2870/2870 [12:53<00:00,  3.71it/s]\n"
     ]
    },
    {
     "name": "stdout",
     "output_type": "stream",
     "text": [
      "Took 785.0087 seconds for prediction.\n",
      "Scheme 1\n",
      "MAP: 0.017426 NDCG: 0.043782 Precision@K: 0.017040 Recall@K: 0.080533\n",
      "Scheme 2\n",
      "MAP: 0.010592 NDCG: 0.023435 Precision@K: 0.009352 Recall@K: 0.035719\n",
      "Scheme 3\n",
      "MAP: 0.015067 NDCG: 0.038145 Precision@K: 0.015032 Recall@K: 0.070296\n",
      "\n",
      "Rank: 10\n"
     ]
    },
    {
     "ename": "MemoryError",
     "evalue": "Unable to allocate 387. TiB for an array with shape (7295540, 7295540) and data type float64",
     "output_type": "error",
     "traceback": [
      "\u001b[0;31m---------------------------------------------------------------------------\u001b[0m",
      "\u001b[0;31mMemoryError\u001b[0m                               Traceback (most recent call last)",
      "\u001b[0;32m/tmp/ipykernel_21/904021109.py\u001b[0m in \u001b[0;36m<module>\u001b[0;34m\u001b[0m\n\u001b[1;32m      3\u001b[0m \u001b[0;34m\u001b[0m\u001b[0m\n\u001b[1;32m      4\u001b[0m     \u001b[0;32mwith\u001b[0m \u001b[0mTimer\u001b[0m\u001b[0;34m(\u001b[0m\u001b[0;34m)\u001b[0m \u001b[0;32mas\u001b[0m \u001b[0mt\u001b[0m\u001b[0;34m:\u001b[0m\u001b[0;34m\u001b[0m\u001b[0;34m\u001b[0m\u001b[0m\n\u001b[0;32m----> 5\u001b[0;31m         \u001b[0mcore\u001b[0m\u001b[0;34m,\u001b[0m \u001b[0mfactors\u001b[0m \u001b[0;34m=\u001b[0m \u001b[0mtucker\u001b[0m\u001b[0;34m(\u001b[0m\u001b[0mX\u001b[0m\u001b[0;34m,\u001b[0m \u001b[0mrank\u001b[0m\u001b[0;34m=\u001b[0m\u001b[0;34m[\u001b[0m\u001b[0mr\u001b[0m\u001b[0;34m,\u001b[0m \u001b[0mr\u001b[0m\u001b[0;34m,\u001b[0m \u001b[0mr\u001b[0m\u001b[0;34m]\u001b[0m\u001b[0;34m,\u001b[0m \u001b[0mrandom_state\u001b[0m\u001b[0;34m=\u001b[0m\u001b[0;36m42\u001b[0m\u001b[0;34m)\u001b[0m\u001b[0;34m\u001b[0m\u001b[0;34m\u001b[0m\u001b[0m\n\u001b[0m\u001b[1;32m      6\u001b[0m \u001b[0;34m\u001b[0m\u001b[0m\n\u001b[1;32m      7\u001b[0m         all_predictions_all = pd.DataFrame(columns=['prediction_1', 'prediction_2', 'prediction_3', \n",
      "\u001b[0;32m/opt/conda/lib/python3.7/site-packages/tensorly/decomposition/_tucker.py\u001b[0m in \u001b[0;36mtucker\u001b[0;34m(tensor, rank, fixed_factors, n_iter_max, init, svd, tol, random_state, mask, verbose)\u001b[0m\n\u001b[1;32m    269\u001b[0m         core, factors = partial_tucker(tensor, modes, rank=rank, n_iter_max=n_iter_max, init=init,\n\u001b[1;32m    270\u001b[0m                                        \u001b[0msvd\u001b[0m\u001b[0;34m=\u001b[0m\u001b[0msvd\u001b[0m\u001b[0;34m,\u001b[0m \u001b[0mtol\u001b[0m\u001b[0;34m=\u001b[0m\u001b[0mtol\u001b[0m\u001b[0;34m,\u001b[0m \u001b[0mrandom_state\u001b[0m\u001b[0;34m=\u001b[0m\u001b[0mrandom_state\u001b[0m\u001b[0;34m,\u001b[0m \u001b[0mmask\u001b[0m\u001b[0;34m=\u001b[0m\u001b[0mmask\u001b[0m\u001b[0;34m,\u001b[0m\u001b[0;34m\u001b[0m\u001b[0;34m\u001b[0m\u001b[0m\n\u001b[0;32m--> 271\u001b[0;31m                                        verbose=verbose)\n\u001b[0m\u001b[1;32m    272\u001b[0m         \u001b[0;32mreturn\u001b[0m \u001b[0mTuckerTensor\u001b[0m\u001b[0;34m(\u001b[0m\u001b[0;34m(\u001b[0m\u001b[0mcore\u001b[0m\u001b[0;34m,\u001b[0m \u001b[0mfactors\u001b[0m\u001b[0;34m)\u001b[0m\u001b[0;34m)\u001b[0m\u001b[0;34m\u001b[0m\u001b[0;34m\u001b[0m\u001b[0m\n\u001b[1;32m    273\u001b[0m \u001b[0;34m\u001b[0m\u001b[0m\n",
      "\u001b[0;32m/opt/conda/lib/python3.7/site-packages/tensorly/decomposition/_tucker.py\u001b[0m in \u001b[0;36mpartial_tucker\u001b[0;34m(tensor, modes, rank, n_iter_max, init, tol, svd, random_state, verbose, mask)\u001b[0m\n\u001b[1;32m    145\u001b[0m         \u001b[0mfactors\u001b[0m \u001b[0;34m=\u001b[0m \u001b[0;34m[\u001b[0m\u001b[0;34m]\u001b[0m\u001b[0;34m\u001b[0m\u001b[0;34m\u001b[0m\u001b[0m\n\u001b[1;32m    146\u001b[0m         \u001b[0;32mfor\u001b[0m \u001b[0mindex\u001b[0m\u001b[0;34m,\u001b[0m \u001b[0mmode\u001b[0m \u001b[0;32min\u001b[0m \u001b[0menumerate\u001b[0m\u001b[0;34m(\u001b[0m\u001b[0mmodes\u001b[0m\u001b[0;34m)\u001b[0m\u001b[0;34m:\u001b[0m\u001b[0;34m\u001b[0m\u001b[0;34m\u001b[0m\u001b[0m\n\u001b[0;32m--> 147\u001b[0;31m             \u001b[0meigenvecs\u001b[0m\u001b[0;34m,\u001b[0m \u001b[0m_\u001b[0m\u001b[0;34m,\u001b[0m \u001b[0m_\u001b[0m \u001b[0;34m=\u001b[0m \u001b[0msvd_fun\u001b[0m\u001b[0;34m(\u001b[0m\u001b[0munfold\u001b[0m\u001b[0;34m(\u001b[0m\u001b[0mtensor\u001b[0m\u001b[0;34m,\u001b[0m \u001b[0mmode\u001b[0m\u001b[0;34m)\u001b[0m\u001b[0;34m,\u001b[0m \u001b[0mn_eigenvecs\u001b[0m\u001b[0;34m=\u001b[0m\u001b[0mrank\u001b[0m\u001b[0;34m[\u001b[0m\u001b[0mindex\u001b[0m\u001b[0;34m]\u001b[0m\u001b[0;34m,\u001b[0m \u001b[0mrandom_state\u001b[0m\u001b[0;34m=\u001b[0m\u001b[0mrandom_state\u001b[0m\u001b[0;34m)\u001b[0m\u001b[0;34m\u001b[0m\u001b[0;34m\u001b[0m\u001b[0m\n\u001b[0m\u001b[1;32m    148\u001b[0m             \u001b[0mfactors\u001b[0m\u001b[0;34m.\u001b[0m\u001b[0mappend\u001b[0m\u001b[0;34m(\u001b[0m\u001b[0meigenvecs\u001b[0m\u001b[0;34m)\u001b[0m\u001b[0;34m\u001b[0m\u001b[0;34m\u001b[0m\u001b[0m\n\u001b[1;32m    149\u001b[0m \u001b[0;34m\u001b[0m\u001b[0m\n",
      "\u001b[0;32m/opt/conda/lib/python3.7/site-packages/tensorly/backend/core.py\u001b[0m in \u001b[0;36mpartial_svd\u001b[0;34m(self, matrix, n_eigenvecs, flip, random_state, **kwargs)\u001b[0m\n\u001b[1;32m   1116\u001b[0m             \u001b[0mfull_matrices\u001b[0m \u001b[0;34m=\u001b[0m \u001b[0;34m(\u001b[0m\u001b[0mn_eigenvecs\u001b[0m \u001b[0;32mis\u001b[0m \u001b[0;32mNone\u001b[0m\u001b[0;34m)\u001b[0m \u001b[0;32mor\u001b[0m \u001b[0;34m(\u001b[0m\u001b[0mn_eigenvecs\u001b[0m \u001b[0;34m>\u001b[0m \u001b[0mmin_dim\u001b[0m\u001b[0;34m)\u001b[0m\u001b[0;34m\u001b[0m\u001b[0;34m\u001b[0m\u001b[0m\n\u001b[1;32m   1117\u001b[0m             \u001b[0;31m# If n_eigenvecs == min_dim, we don't want full_matrices=True, it's super slow\u001b[0m\u001b[0;34m\u001b[0m\u001b[0;34m\u001b[0m\u001b[0;34m\u001b[0m\u001b[0m\n\u001b[0;32m-> 1118\u001b[0;31m             \u001b[0mU\u001b[0m\u001b[0;34m,\u001b[0m \u001b[0mS\u001b[0m\u001b[0;34m,\u001b[0m \u001b[0mV\u001b[0m \u001b[0;34m=\u001b[0m \u001b[0mscipy\u001b[0m\u001b[0;34m.\u001b[0m\u001b[0mlinalg\u001b[0m\u001b[0;34m.\u001b[0m\u001b[0msvd\u001b[0m\u001b[0;34m(\u001b[0m\u001b[0mmatrix\u001b[0m\u001b[0;34m,\u001b[0m \u001b[0mfull_matrices\u001b[0m\u001b[0;34m=\u001b[0m\u001b[0mfull_matrices\u001b[0m\u001b[0;34m)\u001b[0m\u001b[0;34m\u001b[0m\u001b[0;34m\u001b[0m\u001b[0m\n\u001b[0m\u001b[1;32m   1119\u001b[0m             \u001b[0mU\u001b[0m\u001b[0;34m,\u001b[0m \u001b[0mS\u001b[0m\u001b[0;34m,\u001b[0m \u001b[0mV\u001b[0m \u001b[0;34m=\u001b[0m \u001b[0mU\u001b[0m\u001b[0;34m[\u001b[0m\u001b[0;34m:\u001b[0m\u001b[0;34m,\u001b[0m \u001b[0;34m:\u001b[0m\u001b[0mn_eigenvecs\u001b[0m\u001b[0;34m]\u001b[0m\u001b[0;34m,\u001b[0m \u001b[0mS\u001b[0m\u001b[0;34m[\u001b[0m\u001b[0;34m:\u001b[0m\u001b[0mn_eigenvecs\u001b[0m\u001b[0;34m]\u001b[0m\u001b[0;34m,\u001b[0m \u001b[0mV\u001b[0m\u001b[0;34m[\u001b[0m\u001b[0;34m:\u001b[0m\u001b[0mn_eigenvecs\u001b[0m\u001b[0;34m,\u001b[0m \u001b[0;34m:\u001b[0m\u001b[0;34m]\u001b[0m\u001b[0;34m\u001b[0m\u001b[0;34m\u001b[0m\u001b[0m\n\u001b[1;32m   1120\u001b[0m         \u001b[0;32melse\u001b[0m\u001b[0;34m:\u001b[0m\u001b[0;34m\u001b[0m\u001b[0;34m\u001b[0m\u001b[0m\n",
      "\u001b[0;32m/opt/conda/lib/python3.7/site-packages/scipy/linalg/decomp_svd.py\u001b[0m in \u001b[0;36msvd\u001b[0;34m(a, full_matrices, compute_uv, overwrite_a, check_finite, lapack_driver)\u001b[0m\n\u001b[1;32m    126\u001b[0m     \u001b[0;31m# perform decomposition\u001b[0m\u001b[0;34m\u001b[0m\u001b[0;34m\u001b[0m\u001b[0;34m\u001b[0m\u001b[0m\n\u001b[1;32m    127\u001b[0m     u, s, v, info = gesXd(a1, compute_uv=compute_uv, lwork=lwork,\n\u001b[0;32m--> 128\u001b[0;31m                           full_matrices=full_matrices, overwrite_a=overwrite_a)\n\u001b[0m\u001b[1;32m    129\u001b[0m \u001b[0;34m\u001b[0m\u001b[0m\n\u001b[1;32m    130\u001b[0m     \u001b[0;32mif\u001b[0m \u001b[0minfo\u001b[0m \u001b[0;34m>\u001b[0m \u001b[0;36m0\u001b[0m\u001b[0;34m:\u001b[0m\u001b[0;34m\u001b[0m\u001b[0;34m\u001b[0m\u001b[0m\n",
      "\u001b[0;31mMemoryError\u001b[0m: Unable to allocate 387. TiB for an array with shape (7295540, 7295540) and data type float64"
     ]
    }
   ],
   "source": [
    "for r in [5, 10]:\n",
    "    print(f'Rank: {r}')\n",
    "    \n",
    "    with Timer() as t:\n",
    "        core, factors = tucker(X, rank=[r, r, r], random_state=42)\n",
    "\n",
    "        all_predictions_all = pd.DataFrame(columns=['prediction_1', 'prediction_2', 'prediction_3', \n",
    "                                                    'user_id', 'item_id'])\n",
    "        for i in trange(X.shape[0]):\n",
    "            scores = (factors[1] @ factors[1].T) @ X[i] @ (factors[2] @ factors[2].T)\n",
    "\n",
    "            preds = pd.DataFrame({'prediction_1': scores[:, -1], \n",
    "                                  'prediction_2': -scores[:, 0], \n",
    "                                  'prediction_3': scores[:, -1] - scores[:, 0]})\n",
    "\n",
    "            preds['user_id'] = users_2[i]\n",
    "            preds['item_id'] = list(items_2.values())\n",
    "\n",
    "            all_predictions_all = all_predictions_all.append(preds)\n",
    "\n",
    "        all_predictions_all.user_id = all_predictions_all.user_id.astype(np.int64)\n",
    "        all_predictions_all.item_id = all_predictions_all.item_id.astype(np.int64)\n",
    "    \n",
    "    print(\"Took {} seconds for prediction.\".format(t))\n",
    "    \n",
    "    for j in range(1, 3+1):\n",
    "        print(f'Scheme {j}')\n",
    "        all_predictions = all_predictions_all.loc[:, ['user_id', 'item_id', f'prediction_{j}']\n",
    "                                                 ].rename(columns={f'prediction_{j}': 'prediction'})\n",
    "\n",
    "        eval_map = map_at_k(data_test, all_predictions, \n",
    "                            col_user='user_id', col_item='item_id', \n",
    "                            col_prediction='prediction', k=TOP_K)\n",
    "\n",
    "        eval_ndcg = ndcg_at_k(data_test, all_predictions, \n",
    "                              col_user='user_id', col_item='item_id', \n",
    "                              col_prediction='prediction', k=TOP_K)\n",
    "\n",
    "        eval_precision = precision_at_k(data_test, all_predictions, \n",
    "                                        col_user='user_id', col_item='item_id', \n",
    "                                        col_prediction='prediction', k=TOP_K)\n",
    "\n",
    "        eval_recall = recall_at_k(data_test, all_predictions, \n",
    "                                  col_user='user_id', col_item='item_id', \n",
    "                                  col_prediction='prediction', k=TOP_K)\n",
    "\n",
    "        evals['bivae'] = [eval_map, eval_ndcg, eval_precision, eval_recall]\n",
    "\n",
    "        print(\"MAP: %f\" % eval_map,\n",
    "              \"NDCG: %f\" % eval_ndcg,\n",
    "              \"Precision@K: %f\" % eval_precision,\n",
    "              \"Recall@K: %f\" % eval_recall, sep=' ')\n",
    "    print()\n",
    "    \n",
    "# Rank: 1\n",
    "# 100%|██████████| 2870/2870 [13:17<00:00,  3.60it/s]\n",
    "# Took 806.7972 seconds for prediction.\n",
    "# Scheme 1\n",
    "# MAP: 0.015486 NDCG: 0.039842 Precision@K: 0.014831 Recall@K: 0.074900\n",
    "# Scheme 2\n",
    "# MAP: 0.000419 NDCG: 0.001159 Precision@K: 0.000402 Recall@K: 0.002576\n",
    "# Scheme 3\n",
    "# MAP: 0.015486 NDCG: 0.039842 Precision@K: 0.014831 Recall@K: 0.074900\n",
    "\n",
    "# Rank: 3\n",
    "# 100%|██████████| 2870/2870 [13:08<00:00,  3.64it/s]\n",
    "# Took 799.8917 seconds for prediction.\n",
    "# Scheme 1\n",
    "# MAP: 0.014212 NDCG: 0.038234 Precision@K: 0.014917 Recall@K: 0.072410\n",
    "# Scheme 2\n",
    "# MAP: 0.002408 NDCG: 0.006820 Precision@K: 0.003213 Recall@K: 0.010340\n",
    "# Scheme 3\n",
    "# MAP: 0.013209 NDCG: 0.034444 Precision@K: 0.013282 Recall@K: 0.064256"
   ]
  },
  {
   "cell_type": "code",
   "execution_count": null,
   "id": "89e050d0",
   "metadata": {
    "papermill": {
     "duration": null,
     "end_time": null,
     "exception": null,
     "start_time": null,
     "status": "pending"
    },
    "tags": []
   },
   "outputs": [],
   "source": []
  }
 ],
 "metadata": {
  "kernelspec": {
   "display_name": "Python 3 (ipykernel)",
   "language": "python",
   "name": "python3"
  },
  "language_info": {
   "codemirror_mode": {
    "name": "ipython",
    "version": 3
   },
   "file_extension": ".py",
   "mimetype": "text/x-python",
   "name": "python",
   "nbconvert_exporter": "python",
   "pygments_lexer": "ipython3",
   "version": "3.8.1"
  },
  "papermill": {
   "default_parameters": {},
   "duration": 3522.48267,
   "end_time": "2022-03-23T22:56:03.293026",
   "environment_variables": {},
   "exception": true,
   "input_path": "__notebook__.ipynb",
   "output_path": "__notebook__.ipynb",
   "parameters": {},
   "start_time": "2022-03-23T21:57:20.810356",
   "version": "2.3.3"
  }
 },
 "nbformat": 4,
 "nbformat_minor": 5
}
