{
 "cells": [
  {
   "cell_type": "markdown",
   "metadata": {},
   "source": [
    "# Import libraries"
   ]
  },
  {
   "cell_type": "code",
   "execution_count": 1,
   "metadata": {},
   "outputs": [],
   "source": [
    "#!pip install numba"
   ]
  },
  {
   "cell_type": "code",
   "execution_count": 2,
   "metadata": {},
   "outputs": [],
   "source": [
    "import numpy as np\n",
    "import pandas as pd\n",
    "import matplotlib.pyplot as plt\n",
    "\n",
    "# We will use polara framework\n",
    "from polara import get_movielens_data\n",
    "from polara.preprocessing.dataframes import leave_one_out, reindex\n",
    "\n",
    "# sparce matrix packages\n",
    "from scipy.sparse import csr_matrix\n",
    "from scipy.sparse.linalg import svds\n",
    "\n",
    "\n",
    "import warnings\n",
    "from functools import wraps\n",
    "from itertools import takewhile, count, islice\n",
    "\n",
    "\n",
    "from scipy.sparse.linalg import svds\n",
    "from scipy.sparse import diags, SparseEfficiencyWarning\n",
    "from scipy.linalg import solve_banded\n",
    "\n",
    "from polara.lib.sparse import arrange_indices\n",
    "from polara.lib.tensor import ttm3d_seq, ttm3d_par\n",
    "try:\n",
    "    from sklearn.utils.extmath import randomized_svd\n",
    "except ImportError:\n",
    "    randomized_svd = None\n",
    "    \n",
    "    \n",
    "from recommenders.utils.timer import Timer\n",
    "from recommenders.utils.constants import SEED\n",
    "\n",
    "from recommenders.models.cornac.cornac_utils import predict_ranking\n",
    "from recommenders.evaluation.python_evaluation import (\n",
    "    rmse, mae, rsquared, exp_var, map_at_k, ndcg_at_k, precision_at_k, recall_at_k, get_top_k_items\n",
    ")\n",
    "\n",
    "import torch\n",
    "import random\n",
    "random.seed(42)\n",
    "np.random.seed(42)\n",
    "torch.manual_seed(42);\n"
   ]
  },
  {
   "cell_type": "markdown",
   "metadata": {},
   "source": [
    "# Define useful functions"
   ]
  },
  {
   "cell_type": "code",
   "execution_count": 3,
   "metadata": {},
   "outputs": [
    {
     "data": {
      "text/html": [
       "<style type='text/css'>\n",
       ".datatable table.frame { margin-bottom: 0; }\n",
       ".datatable table.frame thead { border-bottom: none; }\n",
       ".datatable table.frame tr.coltypes td {  color: #FFFFFF;  line-height: 6px;  padding: 0 0.5em;}\n",
       ".datatable .bool    { background: #DDDD99; }\n",
       ".datatable .object  { background: #565656; }\n",
       ".datatable .int     { background: #5D9E5D; }\n",
       ".datatable .float   { background: #4040CC; }\n",
       ".datatable .str     { background: #CC4040; }\n",
       ".datatable .time    { background: #40CC40; }\n",
       ".datatable .row_index {  background: var(--jp-border-color3);  border-right: 1px solid var(--jp-border-color0);  color: var(--jp-ui-font-color3);  font-size: 9px;}\n",
       ".datatable .frame tbody td { text-align: left; }\n",
       ".datatable .frame tr.coltypes .row_index {  background: var(--jp-border-color0);}\n",
       ".datatable th:nth-child(2) { padding-left: 12px; }\n",
       ".datatable .hellipsis {  color: var(--jp-cell-editor-border-color);}\n",
       ".datatable .vellipsis {  background: var(--jp-layout-color0);  color: var(--jp-cell-editor-border-color);}\n",
       ".datatable .na {  color: var(--jp-cell-editor-border-color);  font-size: 80%;}\n",
       ".datatable .sp {  opacity: 0.25;}\n",
       ".datatable .footer { font-size: 9px; }\n",
       ".datatable .frame_dimensions {  background: var(--jp-border-color3);  border-top: 1px solid var(--jp-border-color0);  color: var(--jp-ui-font-color3);  display: inline-block;  opacity: 0.6;  padding: 1px 10px 1px 5px;}\n",
       "</style>\n"
      ],
      "text/plain": [
       "<IPython.core.display.HTML object>"
      ]
     },
     "metadata": {},
     "output_type": "display_data"
    }
   ],
   "source": [
    "def transform_indices(data, users, items):\n",
    "    data_index = {}\n",
    "    for entity, field in zip(['users', 'items'], [users, items]):\n",
    "        idx, idx_map = to_numeric_id(data, field)\n",
    "        data_index[entity] = idx_map\n",
    "        data.loc[:, field] = idx\n",
    "    return data, data_index\n",
    "\n",
    "def to_numeric_id(data, field):\n",
    "    idx_data = data[field].astype(\"category\")\n",
    "    idx = idx_data.cat.codes\n",
    "    idx_map = idx_data.cat.categories.rename(field)\n",
    "    return idx, idx_map\n",
    "\n",
    "\n",
    "class SeqTFError(Exception):\n",
    "    pass\n",
    "\n",
    "def initialize_columnwise_orthonormal(dims, random_state=None):\n",
    "    if random_state is None:\n",
    "        random_state = np.random\n",
    "    u = random_state.rand(*dims)\n",
    "    u = np.linalg.qr(u, mode='reduced')[0]\n",
    "    return u\n",
    "\n",
    "\n",
    "def core_growth_callback(growth_tol):\n",
    "    def check_core_growth(step, core_norm, factors):\n",
    "        g_growth = (core_norm - check_core_growth.core_norm) / core_norm\n",
    "        check_core_growth.core_norm = core_norm\n",
    "        print(f'growth of the core: {g_growth}')\n",
    "        if g_growth < growth_tol:\n",
    "            print(f'Core is no longer growing. Norm of the core: {core_norm}.')\n",
    "            raise StopIteration\n",
    "    check_core_growth.core_norm = 0\n",
    "    return check_core_growth\n",
    "\n",
    "\n",
    "def sa_hooi(\n",
    "        idx, val, shape, mlrank, attention_matrix, scaling_weights,\n",
    "        max_iters = 10,\n",
    "        parallel_ttm = False,\n",
    "        growth_tol = 0.001,\n",
    "        randomized=True,\n",
    "        seed = None,\n",
    "        iter_callback=None,\n",
    "    ):\n",
    "    \n",
    "    assert valid_mlrank(mlrank)\n",
    "    n_users, n_items, n_positions = shape\n",
    "    r0, r1, r2 = mlrank\n",
    "    \n",
    "    tensor_data = idx, val, shape\n",
    "    if not isinstance(parallel_ttm, (list, tuple)):\n",
    "        parallel_ttm = [parallel_ttm] * len(shape)\n",
    "\n",
    "    assert len(shape) == len(parallel_ttm)\n",
    "\n",
    "    index_data = arrange_indices(idx, parallel_ttm)\n",
    "    ttm = [ttm3d_par if par else ttm3d_seq for par in parallel_ttm]\n",
    "\n",
    "    random_state = np.random if seed is None else np.random.RandomState(seed)\n",
    "    u1 = initialize_columnwise_orthonormal((n_items, r1), random_state)\n",
    "    uw = u1 * scaling_weights[:, np.newaxis]\n",
    "    u2 = initialize_columnwise_orthonormal((n_positions, r2), random_state)\n",
    "    ua = attention_matrix.dot(u2)\n",
    "\n",
    "    if randomized:\n",
    "        svd = randomized_svd\n",
    "        svd_config = lambda rank: dict(n_components=rank, random_state=seed)\n",
    "    else:\n",
    "        svd = svds\n",
    "        svd_config = lambda rank: dict(k=rank, return_singular_vectors='u')\n",
    "    \n",
    "    if iter_callback is None:\n",
    "        iter_callback = core_growth_callback(growth_tol)\n",
    "        \n",
    "    \n",
    "    for step in range(max_iters):\n",
    "        ttm0 = ttm[0](*tensor_data, ua, uw, ((2, 0), (1, 0)), *index_data[0]).reshape(shape[0], r1*r2)\n",
    "        u0, *_ = svd(ttm0, **svd_config(r0))\n",
    "\n",
    "        ttm1 = ttm[1](*tensor_data, ua, u0, ((2, 0), (0, 0)), *index_data[1]).reshape(shape[1], r0*r2)\n",
    "        u1, *_ = svd(ttm1, **svd_config(r1))\n",
    "        uw = u1 * scaling_weights[:, np.newaxis]\n",
    "        \n",
    "\n",
    "        ttm2 = ttm[2](*tensor_data, uw, u0, ((1, 0), (0, 0)), *index_data[2]).reshape(shape[2], r0*r1)\n",
    "        u2, ss, _ = svd(ttm2, **svd_config(r2))\n",
    "        ua = attention_matrix.dot(u2)\n",
    "\n",
    "        factors = (u0, u1, u2)\n",
    "        try:\n",
    "            iter_callback(step, np.linalg.norm(ss), factors)\n",
    "        except StopIteration:\n",
    "            break\n",
    "    return factors\n",
    "\n",
    "\n",
    "def exp_decay(decay_factor, n):\n",
    "    return np.e**(-(n-1)*decay_factor)\n",
    "\n",
    "def lin_decay(decay_factor, n):\n",
    "    return n**(-decay_factor)\n",
    "\n",
    "\n",
    "\n",
    "def attention_weights(decay_factor, cutoff, max_elements=None, exponential_decay=False, reverse=False):\n",
    "    if (decay_factor == 0 or cutoff == 0) and (max_elements is None or max_elements <= 0):\n",
    "        raise SeqTFError('Infinite sequence.')\n",
    "    decay_function = exp_decay if exponential_decay else lin_decay\n",
    "    weights = takewhile(lambda x: x>=cutoff, (decay_function(decay_factor, n) for n in count(1, 1)))\n",
    "    if max_elements is not None:\n",
    "        weights = islice(weights, max_elements)\n",
    "    if reverse:\n",
    "        return list(reversed(list(weights)))\n",
    "    return list(weights)\n",
    "\n",
    "def form_attention_matrix(size, decay_factor, cutoff=0, span=0, exponential_decay=False, reverse=False, format='csc', stochastic_axis=None, dtype=None):\n",
    "    stochastic = stochastic_axis is not None\n",
    "    span = min(span or np.iinfo('i8').max, size)\n",
    "    weights = attention_weights(decay_factor, cutoff=cutoff, max_elements=span, exponential_decay=exponential_decay, reverse=reverse)\n",
    "    diag_values = [np.broadcast_to(w, size) for w in weights]\n",
    "    matrix = diags(diag_values, offsets=range(0, -len(diag_values), -1), format=format, dtype=dtype)\n",
    "    if stochastic:\n",
    "        scalings = matrix.sum(axis=stochastic_axis).A.squeeze()\n",
    "        if stochastic_axis == 0:\n",
    "            matrix = matrix.dot(diags(1./scalings))\n",
    "        else:\n",
    "            matrix = diags(1./scalings).dot(matrix)\n",
    "    return matrix.asformat(format)\n",
    "\n",
    "\n",
    "def generate_banded_form(matrix):\n",
    "    matrix = matrix.todia()\n",
    "    bands = matrix.data\n",
    "    offsets = matrix.offsets\n",
    "    num_l = (offsets < 0).sum()\n",
    "    num_u = (offsets > 0).sum()\n",
    "    return (num_l, num_u), bands[np.argsort(offsets)[::-1], :]\n",
    "\n",
    "\n",
    "def generate_position_projector(attention_matrix, position_factors):\n",
    "    shape, bands = generate_banded_form(attention_matrix.T)\n",
    "    wl = solve_banded(shape, bands, position_factors)\n",
    "    wr = attention_matrix.dot(position_factors)\n",
    "    last_position_projector = wr @ wl[-1, :]\n",
    "    return last_position_projector\n",
    "\n",
    "\n",
    "def get_scaling_weights(frequencies, scaling=1.0):\n",
    "    return np.power(frequencies, 0.5*(scaling-1.0))\n",
    "\n",
    "\n",
    "def valid_mlrank(mlrank):\n",
    "    prod = np.prod(mlrank)\n",
    "    return all(prod//r > r for r in mlrank)\n",
    "\n",
    "def downvote_seen_items(scores, data, data_description):\n",
    "    userid = data_description['users']\n",
    "    itemid = data_description['items']\n",
    "    # get indices of observed data\n",
    "    user_idx = data[userid].values\n",
    "    item_idx = data[itemid].values\n",
    "    # downvote scores at the corresponding positions\n",
    "    user_idx, _ = pd.factorize(user_idx, sort=True)\n",
    "    seen_idx_flat = np.ravel_multi_index((user_idx, item_idx), scores.shape)\n",
    "    np.put(scores, seen_idx_flat, -np.inf)\n",
    "\n",
    "\n",
    "def topn_recommendations(scores, topn=10):\n",
    "    recommendations = np.apply_along_axis(topidx, 1, scores, topn)\n",
    "    return recommendations\n",
    "\n",
    "\n",
    "def topidx(a, topn):\n",
    "    parted = np.argpartition(a, -topn)[-topn:]\n",
    "    return parted[np.argsort(-a[parted])]\n",
    "\n",
    "\n",
    "def model_evaluate(recommended_items, holdout, holdout_description, topn=10):\n",
    "    itemid = holdout_description['items']\n",
    "    holdout_items = holdout[itemid].values\n",
    "    assert recommended_items.shape[0] == len(holdout_items)\n",
    "    hits_mask = recommended_items[:, :topn] == holdout_items.reshape(-1, 1)\n",
    "    # HR calculation\n",
    "    hr = np.mean(hits_mask.any(axis=1))\n",
    "    # MRR calculation\n",
    "    n_test_users = recommended_items.shape[0]\n",
    "    hit_rank = np.where(hits_mask)[1] + 1.0\n",
    "    mrr = np.sum(1 / hit_rank) / n_test_users\n",
    "    # coverage calculation\n",
    "    n_items = holdout_description['n_items']\n",
    "    cov = np.unique(recommended_items).size / n_items\n",
    "    return hr, mrr, cov\n",
    "\n",
    "from rs_datasets import MovieLens, Rekko"
   ]
  },
  {
   "cell_type": "markdown",
   "metadata": {},
   "source": [
    "# dowloading and preparing data"
   ]
  },
  {
   "cell_type": "code",
   "execution_count": 4,
   "metadata": {},
   "outputs": [],
   "source": [
    "rekko = Rekko()\n",
    "\n",
    "data = rekko.ratings.sort_values(['user_id', 'ts'], ascending=[True, True])\n",
    "\n",
    "counts = data.user_id.value_counts()\n",
    "\n",
    "data = data.loc[data.user_id.isin(counts[counts >= 20].index)]\n",
    "data.shape\n",
    "\n",
    "counts = data.item_id.value_counts()\n",
    "\n",
    "data = data.loc[data.item_id.isin(counts[counts >= 20].index)]\n",
    "data.rename(columns = {'user_id':'userid', 'item_id':'movieid', 'ts':'timestamp'}, inplace = True)"
   ]
  },
  {
   "cell_type": "code",
   "execution_count": 5,
   "metadata": {},
   "outputs": [],
   "source": [
    "mldata = data.sort_index()"
   ]
  },
  {
   "cell_type": "markdown",
   "metadata": {},
   "source": [
    "## Data splitting"
   ]
  },
  {
   "cell_type": "code",
   "execution_count": 6,
   "metadata": {},
   "outputs": [],
   "source": [
    "test_timepoint = mldata['timestamp'].quantile(\n",
    "    q=0.9, interpolation='nearest'\n",
    ")\n",
    "\n",
    "test_data_ = mldata.query('timestamp >= @test_timepoint')\n",
    "\n",
    "train_data_ = mldata.query(\n",
    "    'userid not in @test_data_.userid.unique() and timestamp < @test_timepoint'\n",
    ")"
   ]
  },
  {
   "cell_type": "markdown",
   "metadata": {},
   "source": [
    "#### percentage of numerical values in data"
   ]
  },
  {
   "cell_type": "code",
   "execution_count": 7,
   "metadata": {},
   "outputs": [
    {
     "data": {
      "text/plain": [
       "0.020105661234824386"
      ]
     },
     "execution_count": 7,
     "metadata": {},
     "output_type": "execute_result"
    }
   ],
   "source": [
    "train_data_.shape[0] / np.prod(train_data_.nunique().iloc[:2])"
   ]
  },
  {
   "cell_type": "markdown",
   "metadata": {},
   "source": [
    "#### Reindex dataset to drop gaps"
   ]
  },
  {
   "cell_type": "code",
   "execution_count": 8,
   "metadata": {},
   "outputs": [],
   "source": [
    "training, data_index = transform_indices(train_data_.copy(), 'userid', 'movieid')\n",
    "test_data = reindex(test_data_, data_index['items'])\n"
   ]
  },
  {
   "cell_type": "markdown",
   "metadata": {},
   "source": [
    "We sample the last item for each test user.  \n",
    "As all these users are excluded from the training, and training is additionally filtered by timestamp,\n",
    "there will be no \"recommendation from future\" issue - our model is unaware of future correlations.\n"
   ]
  },
  {
   "cell_type": "code",
   "execution_count": 9,
   "metadata": {},
   "outputs": [],
   "source": [
    "testset_, holdout_ = leave_one_out(\n",
    "    test_data, target='timestamp', sample_top=True, random_state=0\n",
    ")\n",
    "testset_valid_, holdout_valid_ = leave_one_out(\n",
    "    testset_, target='timestamp', sample_top=True, random_state=0\n",
    ")"
   ]
  },
  {
   "cell_type": "markdown",
   "metadata": {},
   "source": [
    "Let's focus on validation part."
   ]
  },
  {
   "cell_type": "code",
   "execution_count": 10,
   "metadata": {},
   "outputs": [],
   "source": [
    "test_users = np.intersect1d(testset_valid_.userid.unique(), holdout_valid_.userid.unique())\n",
    "testset_valid = testset_valid_.query('userid in @test_users').sort_values('userid')\n",
    "holdout_valid = holdout_valid_.query('userid in @test_users').sort_values('userid')"
   ]
  },
  {
   "cell_type": "code",
   "execution_count": 11,
   "metadata": {},
   "outputs": [],
   "source": [
    "assert holdout_valid.set_index('userid')['timestamp'].ge(\n",
    "    testset_valid\n",
    "    .groupby('userid')\n",
    "    ['timestamp'].max()\n",
    ").all()"
   ]
  },
  {
   "cell_type": "markdown",
   "metadata": {},
   "source": [
    "## Assigning positional info"
   ]
  },
  {
   "cell_type": "code",
   "execution_count": 22,
   "metadata": {},
   "outputs": [],
   "source": [
    "n_pos = 200"
   ]
  },
  {
   "cell_type": "code",
   "execution_count": 23,
   "metadata": {},
   "outputs": [],
   "source": [
    "def assign_positions(s, maxlen=n_pos):\n",
    "    return np.arange(maxlen-len(s), maxlen)\n"
   ]
  },
  {
   "cell_type": "code",
   "execution_count": 24,
   "metadata": {},
   "outputs": [],
   "source": [
    "training_data = (\n",
    "    training\n",
    "    .sort_values('timestamp')\n",
    "    .assign(\n",
    "        pos = lambda df: df.groupby('userid')['movieid'].transform(assign_positions)\n",
    "    )\n",
    "    .sort_values(['userid', 'timestamp'])\n",
    "    .query('pos>=0')\n",
    ")"
   ]
  },
  {
   "cell_type": "code",
   "execution_count": 25,
   "metadata": {},
   "outputs": [],
   "source": [
    "testset_valid = (\n",
    "    testset_valid\n",
    "    .sort_values('timestamp')\n",
    "    .assign(\n",
    "        pos = lambda df: df.groupby('userid')['movieid'].transform(assign_positions)\n",
    "    )\n",
    "    .sort_values(['userid', 'timestamp'])\n",
    ")"
   ]
  },
  {
   "cell_type": "markdown",
   "metadata": {},
   "source": [
    "# Baseline"
   ]
  },
  {
   "cell_type": "markdown",
   "metadata": {},
   "source": [
    "## PureSVD"
   ]
  },
  {
   "cell_type": "code",
   "execution_count": 26,
   "metadata": {},
   "outputs": [],
   "source": [
    "def matrix_from_observations(data, data_description):\n",
    "    useridx = data[data_description['users']]\n",
    "    itemidx = data[data_description['items']]\n",
    "    values = data[data_description['feedback']]\n",
    "    return csr_matrix((values, (useridx, itemidx)), dtype='f8')\n",
    "\n",
    "\n",
    "def build_svd_model(config, data, data_description):\n",
    "    source_matrix = matrix_from_observations(data, data_description)\n",
    "    _, s, vt = svds(source_matrix, k=config['rank'], return_singular_vectors='vh')\n",
    "    singular_values = s[::-1]\n",
    "    item_factors = np.ascontiguousarray(vt[::-1, :].T)\n",
    "    return item_factors, singular_values"
   ]
  },
  {
   "cell_type": "code",
   "execution_count": 27,
   "metadata": {},
   "outputs": [],
   "source": [
    "data_description = dict(\n",
    "    users = data_index['users'].name,\n",
    "    items = data_index['items'].name,\n",
    "    feedback = 'rating',\n",
    "    positions = 'pos',\n",
    "    n_users = len(data_index['users']),\n",
    "    n_items = len(data_index['items']),\n",
    "    n_pos= n_pos\n",
    ")"
   ]
  },
  {
   "cell_type": "code",
   "execution_count": 28,
   "metadata": {},
   "outputs": [],
   "source": [
    "svd_config = {'rank': 50}\n",
    "svd_params = build_svd_model(svd_config, training, data_description)"
   ]
  },
  {
   "cell_type": "markdown",
   "metadata": {},
   "source": [
    "### singular values"
   ]
  },
  {
   "cell_type": "code",
   "execution_count": 29,
   "metadata": {},
   "outputs": [
    {
     "data": {
      "image/png": "[encoded data removed]",
      "text/plain": [
       "<Figure size 432x288 with 1 Axes>"
      ]
     },
     "metadata": {
      "needs_background": "light"
     },
     "output_type": "display_data"
    }
   ],
   "source": [
    "pd.Series(svd_params[1]).plot();"
   ]
  },
  {
   "cell_type": "code",
   "execution_count": 30,
   "metadata": {},
   "outputs": [],
   "source": [
    "def svd_model_scoring(params, data, data_description):\n",
    "    item_factors, sigma = params\n",
    "    test_data = data.assign(\n",
    "        userid = pd.factorize(data['userid'])[0]\n",
    "    )\n",
    "    test_matrix = matrix_from_observations(test_data, data_description)\n",
    "    print(test_matrix.shape)\n",
    "    print(item_factors.shape)\n",
    "    scores = test_matrix.dot(item_factors) @ item_factors.T\n",
    "    return scores"
   ]
  },
  {
   "cell_type": "code",
   "execution_count": 31,
   "metadata": {},
   "outputs": [
    {
     "name": "stdout",
     "output_type": "stream",
     "text": [
      "(892, 1266)\n",
      "(1266, 50)\n"
     ]
    }
   ],
   "source": [
    "svd_scores = svd_model_scoring(svd_params, testset_valid, data_description)"
   ]
  },
  {
   "cell_type": "markdown",
   "metadata": {},
   "source": [
    "#### compute scores = number of test users X number of total items in training data set"
   ]
  },
  {
   "cell_type": "code",
   "execution_count": 32,
   "metadata": {},
   "outputs": [
    {
     "data": {
      "text/plain": [
       "(892, 1266)"
      ]
     },
     "execution_count": 32,
     "metadata": {},
     "output_type": "execute_result"
    }
   ],
   "source": [
    "svd_scores.shape"
   ]
  },
  {
   "cell_type": "markdown",
   "metadata": {},
   "source": [
    "#### reduce predicted score for the seen item"
   ]
  },
  {
   "cell_type": "code",
   "execution_count": 33,
   "metadata": {},
   "outputs": [],
   "source": [
    "downvote_seen_items(svd_scores, testset_valid, data_description)"
   ]
  },
  {
   "cell_type": "code",
   "execution_count": 34,
   "metadata": {},
   "outputs": [
    {
     "data": {
      "text/plain": [
       "(0.06502242152466367, 0.02521220371556695, 0.3056872037914692)"
      ]
     },
     "execution_count": 34,
     "metadata": {},
     "output_type": "execute_result"
    }
   ],
   "source": [
    "svd_recs = topn_recommendations(svd_scores, topn=10)\n",
    "model_evaluate(svd_recs, holdout_valid, data_description)"
   ]
  },
  {
   "cell_type": "code",
   "execution_count": 35,
   "metadata": {},
   "outputs": [],
   "source": [
    "agg_results = []\n",
    "agg_results.append(model_evaluate(svd_recs, holdout_valid, data_description))"
   ]
  },
  {
   "cell_type": "markdown",
   "metadata": {},
   "source": [
    "### 1 metric = hit rate (this percent with proper recoms, more or less good 10, top score 15-20), 2 = MRR, 3 = coverage (measure of diversity of recomandations, if low => model generates something popular => useless for the user, we want our recomendations to be diverce = how many unique recoms made on test users/total number of items in catalog, popularity 5%)"
   ]
  },
  {
   "cell_type": "markdown",
   "metadata": {},
   "source": [
    "# Sequential TF"
   ]
  },
  {
   "cell_type": "code",
   "execution_count": 36,
   "metadata": {},
   "outputs": [
    {
     "data": {
      "text/plain": [
       "{'users': 'userid',\n",
       " 'items': 'movieid',\n",
       " 'feedback': 'rating',\n",
       " 'positions': 'pos',\n",
       " 'n_users': 1168,\n",
       " 'n_items': 1266,\n",
       " 'n_pos': 200}"
      ]
     },
     "execution_count": 36,
     "metadata": {},
     "output_type": "execute_result"
    }
   ],
   "source": [
    "data_description = dict(\n",
    "    users = data_index['users'].name,\n",
    "    items = data_index['items'].name,\n",
    "    feedback = 'rating',\n",
    "    positions = 'pos',\n",
    "    n_users = len(data_index['users']),\n",
    "    n_items = len(data_index['items']),\n",
    "    n_pos = n_pos\n",
    ")\n",
    "data_description"
   ]
  },
  {
   "cell_type": "markdown",
   "metadata": {},
   "source": [
    "### computing tucker docmositions"
   ]
  },
  {
   "cell_type": "code",
   "execution_count": 37,
   "metadata": {},
   "outputs": [],
   "source": [
    "def seqtf_model_build(config, data, data_description):\n",
    "    userid = data_description[\"users\"]\n",
    "    itemid = data_description[\"items\"]\n",
    "    positions = data_description[\"positions\"]\n",
    "\n",
    "    n_users = data_description[\"n_users\"]\n",
    "    n_items = data_description[\"n_items\"]\n",
    "    max_pos = data_description[\"n_pos\"]\n",
    "    shape = (n_users, n_items, max_pos)\n",
    "\n",
    "    #positional attention\n",
    "    attention_matrix = form_attention_matrix(\n",
    "        size = data_description[\"n_pos\"],\n",
    "        exponential_decay = config[\"exponential_decay\"],\n",
    "        #rule = linear decay\n",
    "        decay_factor = config[\"attention_decay\"],\n",
    "        format = 'csr'\n",
    "    )\n",
    "\n",
    "    # popularity based weighting - to \n",
    "    # combat with low diversity rating\n",
    "    # reweight values in tensors - not binary\n",
    "    # inversely proportional to the popularity of items\n",
    "    # more sensitive to less popular items\n",
    "    # promote less popular items in recoms\n",
    "    \n",
    "    # POpularity based scaling\n",
    "    item_popularity = (\n",
    "        data[itemid]\n",
    "        .value_counts(sort=False)\n",
    "        .reindex(range(n_items))\n",
    "        .fillna(1)\n",
    "        .values\n",
    "    )\n",
    "    \n",
    "    scaling_weights = get_scaling_weights(item_popularity, scaling=config[\"scaling\"])\n",
    "    idx = data[[userid, itemid, positions]].values\n",
    "    val = np.ones(idx.shape[0], dtype='f8')\n",
    "\n",
    "    user_factors, item_factors, feedback_factors = sa_hooi(\n",
    "        # hooi takes into account information about initial tensor\n",
    "        idx, val, shape, config[\"mlrank\"],\n",
    "        # attention matrix\n",
    "        attention_matrix = attention_matrix,\n",
    "        # popularity scaling\n",
    "        scaling_weights = scaling_weights,\n",
    "        max_iters = config[\"num_iters\"],\n",
    "        parallel_ttm = False,\n",
    "        \n",
    "        # randomized svd instead of standart\n",
    "        randomized = config[\"randomized\"],\n",
    "        growth_tol = config[\"growth_tol\"],\n",
    "        seed = config[\"seed\"],\n",
    "        # max hit rate is goal but here we minimize squred error, so idea\n",
    "        # compute hit rate after each iteration, and if subsequent iterations \n",
    "        # do not improve hit rate we stop\n",
    "        \n",
    "        # typically for hit rate requires lower iterations\n",
    "        iter_callback = config[\"iter_callback\"],\n",
    "    )\n",
    "    return user_factors, item_factors, feedback_factors, attention_matrix\n"
   ]
  },
  {
   "cell_type": "code",
   "execution_count": 38,
   "metadata": {},
   "outputs": [],
   "source": [
    "config = {\n",
    "    #popularity scaling. 1 is factorization without any reweighting\n",
    "    # (no reweighting)\n",
    "    \"scaling\": 1,\n",
    "    \n",
    "    #multilinear rank is smaller tnan 50 that is used for svd\n",
    "    \"mlrank\": (30, 30, 5),\n",
    "    \"n_pos\": n_pos,\n",
    "    \"num_iters\": 20,\n",
    "    \"attention_decay\": 1,\n",
    "    \"randomized\": True,\n",
    "    \"growth_tol\": 1e-4,\n",
    "    \"seed\": 42,\n",
    "    \"iter_callback\":None,\n",
    "    \"exponential_decay\":False\n",
    "}"
   ]
  },
  {
   "cell_type": "code",
   "execution_count": 39,
   "metadata": {},
   "outputs": [
    {
     "name": "stdout",
     "output_type": "stream",
     "text": [
      "growth of the core: 1.0\n",
      "growth of the core: 0.3286479453501815\n",
      "growth of the core: 0.10101768722263708\n",
      "growth of the core: 0.03699398445847324\n",
      "growth of the core: 0.017871197822954245\n",
      "growth of the core: 0.010194705353461704\n",
      "growth of the core: 0.006431345313010318\n",
      "growth of the core: 0.0038145336880975383\n",
      "growth of the core: 0.002709264353973673\n",
      "growth of the core: 0.0016621514125837306\n",
      "growth of the core: 0.0011489777632160568\n",
      "growth of the core: 0.0007936463255771033\n",
      "growth of the core: 0.00039289303338869974\n",
      "growth of the core: 0.0004914684678728222\n",
      "growth of the core: 0.0004853679417101913\n",
      "growth of the core: 0.000340306179875128\n",
      "growth of the core: 0.0003135876626856103\n",
      "growth of the core: 0.000156135207411507\n",
      "growth of the core: 0.00023522141682673063\n",
      "growth of the core: 7.368093412008533e-05\n",
      "Core is no longer growing. Norm of the core: 20.133306600652432.\n"
     ]
    }
   ],
   "source": [
    "tf_params = seqtf_model_build(config, training_data, data_description)"
   ]
  },
  {
   "cell_type": "code",
   "execution_count": 40,
   "metadata": {},
   "outputs": [],
   "source": [
    "def tf_scoring(params, data, data_description):\n",
    "    user_factors, item_factors, pos_factors, attention_matrix = params\n",
    "    last_position_projector = generate_position_projector(attention_matrix, pos_factors)\n",
    "\n",
    "    userid = data_description[\"users\"]\n",
    "    itemid = data_description[\"items\"]\n",
    "    posid = data_description[\"positions\"]\n",
    "\n",
    "    test_data = data.sort_values([userid, posid])\n",
    "    useridx = test_data[userid].values\n",
    "    itemidx = test_data[itemid].values\n",
    "    indptr, = np.where(np.diff(useridx, prepend=0, append=1))\n",
    "    scores = user_scoring(indptr, itemidx, item_factors, last_position_projector)\n",
    "    return scores\n",
    "\n",
    "def user_scoring(indptr, indices, item_factors, last_position_projector):\n",
    "    sequences = np.array_split(indices, indptr[1:-1])\n",
    "    n_items = item_factors.shape[0]\n",
    "    scores = np.zeros((len(sequences), n_items))\n",
    "    for u, seq in enumerate(sequences):\n",
    "        scores[u] = sequences_score(seq, item_factors, last_position_projector)\n",
    "    return scores\n",
    "\n",
    "def sequences_score(seq, item_factors, last_position_projector):\n",
    "    n_pos = len(last_position_projector)\n",
    "    user_profile = item_factors[seq[-(n_pos-1):], :]\n",
    "    n_items = user_profile.shape[0]\n",
    "    \n",
    "    # scores calculation from the slide\n",
    "    scores = item_factors @ (user_profile.T @ last_position_projector[-(n_items+1):-1])\n",
    "    return scores"
   ]
  },
  {
   "cell_type": "code",
   "execution_count": 41,
   "metadata": {},
   "outputs": [
    {
     "name": "stderr",
     "output_type": "stream",
     "text": [
      "/Users/sergeypetrakov/opt/miniconda3/lib/python3.8/site-packages/scipy/sparse/coo.py:431: SparseEfficiencyWarning: Constructing a DIA matrix with 200 diagonals is inefficient\n",
      "  warn(\"Constructing a DIA matrix with %d diagonals \"\n"
     ]
    }
   ],
   "source": [
    "tf_scores = tf_scoring(tf_params, testset_valid, data_description)"
   ]
  },
  {
   "cell_type": "code",
   "execution_count": 42,
   "metadata": {},
   "outputs": [
    {
     "data": {
      "text/plain": [
       "(892, 1266)"
      ]
     },
     "execution_count": 42,
     "metadata": {},
     "output_type": "execute_result"
    }
   ],
   "source": [
    "tf_scores.shape"
   ]
  },
  {
   "cell_type": "code",
   "execution_count": 43,
   "metadata": {},
   "outputs": [],
   "source": [
    "downvote_seen_items(tf_scores, testset_valid, data_description)"
   ]
  },
  {
   "cell_type": "code",
   "execution_count": 44,
   "metadata": {},
   "outputs": [
    {
     "data": {
      "text/plain": [
       "(0.04708520179372197, 0.015661701900491137, 0.160347551342812)"
      ]
     },
     "execution_count": 44,
     "metadata": {},
     "output_type": "execute_result"
    }
   ],
   "source": [
    "tf_recs = topn_recommendations(tf_scores, topn=10)\n",
    "model_evaluate(tf_recs, holdout_valid, data_description)"
   ]
  },
  {
   "cell_type": "code",
   "execution_count": null,
   "metadata": {},
   "outputs": [],
   "source": []
  },
  {
   "cell_type": "markdown",
   "metadata": {},
   "source": [
    "# Addition experiment"
   ]
  },
  {
   "cell_type": "markdown",
   "metadata": {},
   "source": [
    "## different scalings"
   ]
  },
  {
   "cell_type": "code",
   "execution_count": 45,
   "metadata": {
    "scrolled": true
   },
   "outputs": [
    {
     "name": "stdout",
     "output_type": "stream",
     "text": [
      "####################\n",
      "scaling = -1\n",
      "####################\n",
      "growth of the core: 1.0\n",
      "growth of the core: 0.1986724670694851\n",
      "growth of the core: 0.0549442599346265\n",
      "growth of the core: 0.021088994684343332\n",
      "growth of the core: 0.012027311554669223\n",
      "growth of the core: 0.007436716369957484\n",
      "growth of the core: 0.004924693584661658\n",
      "growth of the core: 0.003477826730932675\n",
      "growth of the core: 0.002651059234985962\n",
      "growth of the core: 0.0021746161758592194\n",
      "growth of the core: 0.001722073247969052\n",
      "growth of the core: 0.0014788181150457108\n",
      "growth of the core: 0.00127796708617794\n",
      "growth of the core: 0.001060626705762776\n",
      "growth of the core: 0.0009057181672402909\n",
      "growth of the core: 0.0007396944524249106\n",
      "growth of the core: 0.0007045453661760008\n",
      "growth of the core: 0.0006031629934001513\n",
      "growth of the core: 0.0005087833629125903\n",
      "growth of the core: 0.0005190927602829842\n",
      "hit_rate = 0.0785, mrr = 0.0344, coverage = 0.3878\n",
      "####################\n",
      "scaling = 0\n",
      "####################\n",
      "growth of the core: 1.0\n",
      "growth of the core: 0.2513641176103905\n",
      "growth of the core: 0.058047991757175225\n",
      "growth of the core: 0.021523394309793456\n",
      "growth of the core: 0.012756250648012507\n",
      "growth of the core: 0.009408973194215742\n",
      "growth of the core: 0.007038655049724804\n",
      "growth of the core: 0.004657161903669298\n",
      "growth of the core: 0.00290946362162164\n",
      "growth of the core: 0.001871061415665198\n",
      "growth of the core: 0.0011508243551495226\n",
      "growth of the core: 0.0008659690285409918\n",
      "growth of the core: 0.0005580725802126768\n",
      "growth of the core: 0.0004511472002651402\n",
      "growth of the core: 0.0002472895189868844\n",
      "growth of the core: 0.00022855428248945818\n",
      "growth of the core: 0.00014482617799116868\n",
      "growth of the core: 0.00012109921781723215\n",
      "growth of the core: 0.00010409460519919911\n",
      "growth of the core: 8.942770200376276e-05\n",
      "Core is no longer growing. Norm of the core: 2.3384156954141164.\n",
      "hit_rate = 0.0493, mrr = 0.0228, coverage = 0.2488\n",
      "####################\n",
      "scaling = 1\n",
      "####################\n",
      "growth of the core: 1.0\n",
      "growth of the core: 0.3286479453501815\n",
      "growth of the core: 0.10101768722263708\n",
      "growth of the core: 0.03699398445847324\n",
      "growth of the core: 0.017871197822954245\n",
      "growth of the core: 0.010194705353461704\n",
      "growth of the core: 0.006431345313010318\n",
      "growth of the core: 0.0038145336880975383\n",
      "growth of the core: 0.002709264353973673\n",
      "growth of the core: 0.0016621514125837306\n",
      "growth of the core: 0.0011489777632160568\n",
      "growth of the core: 0.0007936463255771033\n",
      "growth of the core: 0.00039289303338869974\n",
      "growth of the core: 0.0004914684678728222\n",
      "growth of the core: 0.0004853679417101913\n",
      "growth of the core: 0.000340306179875128\n",
      "growth of the core: 0.0003135876626856103\n",
      "growth of the core: 0.000156135207411507\n",
      "growth of the core: 0.00023522141682673063\n",
      "growth of the core: 7.368093412008533e-05\n",
      "Core is no longer growing. Norm of the core: 20.133306600652432.\n",
      "hit_rate = 0.0471, mrr = 0.0157, coverage = 0.1603\n",
      "####################\n",
      "scaling = 2\n",
      "####################\n",
      "growth of the core: 1.0\n",
      "growth of the core: 0.4018329595452976\n",
      "growth of the core: 0.06180924712505037\n",
      "growth of the core: 0.013885263498615259\n",
      "growth of the core: 0.0039291013029786395\n",
      "growth of the core: 0.0022696798954345504\n",
      "growth of the core: 0.0008836538579149613\n",
      "growth of the core: 0.0007183440132121981\n",
      "growth of the core: -5.00432790875998e-05\n",
      "Core is no longer growing. Norm of the core: 246.49986411691185.\n",
      "hit_rate = 0.0538, mrr = 0.0197, coverage = 0.1635\n",
      "####################\n",
      "scaling = 3\n",
      "####################\n",
      "growth of the core: 1.0\n",
      "growth of the core: 0.3778942289031168\n",
      "growth of the core: 0.03289130041270127\n",
      "growth of the core: 0.013065236154427827\n",
      "growth of the core: 0.0027590106096806234\n",
      "growth of the core: -0.0029096794229609996\n",
      "Core is no longer growing. Norm of the core: 3513.939741048751.\n",
      "hit_rate = 0.0538, mrr = 0.0189, coverage = 0.1548\n"
     ]
    }
   ],
   "source": [
    "scalings = [-1, 0 , 1, 2, 3]\n",
    "results_for_scaling = []\n",
    "\n",
    "for scaling in scalings:\n",
    "    config = {\n",
    "        #popularity scaling. 1 is factorization without any reweighting\n",
    "        # (no reweighting)\n",
    "        \"scaling\": scaling,\n",
    "\n",
    "        #multilinear rank is smaller tnan 50 that is used for svd\n",
    "        \"mlrank\": (30, 30, 5),\n",
    "        \"n_pos\": n_pos,\n",
    "        \"num_iters\": 20,\n",
    "        \"attention_decay\": 1,\n",
    "        \"randomized\": True,\n",
    "        \"growth_tol\": 1e-4,\n",
    "        \"seed\": 42,\n",
    "        \"iter_callback\":None,\n",
    "        \"exponential_decay\":False\n",
    "    }\n",
    "    \n",
    "    print(\"#\"*20)\n",
    "    print(\"scaling = {}\".format(scaling))\n",
    "    print(\"#\"*20)\n",
    "    tf_params = seqtf_model_build(config, training_data, data_description)\n",
    "    tf_scores = tf_scoring(tf_params, testset_valid, data_description)\n",
    "    downvote_seen_items(tf_scores, testset_valid, data_description)\n",
    "    tf_recs = topn_recommendations(tf_scores, topn=10)\n",
    "    hit_rate, mrr, coverage = np.round(model_evaluate(tf_recs, holdout_valid, data_description), 4)\n",
    "    print(\"hit_rate = {}, mrr = {}, coverage = {}\".format(hit_rate, mrr, coverage))\n",
    "    results_for_scaling.append((hit_rate, mrr, coverage))"
   ]
  },
  {
   "cell_type": "code",
   "execution_count": 46,
   "metadata": {
    "scrolled": true
   },
   "outputs": [
    {
     "name": "stdout",
     "output_type": "stream",
     "text": [
      "####################\n",
      "scaling = -1\n",
      "####################\n",
      "growth of the core: 1.0\n",
      "growth of the core: 0.1986724670694851\n",
      "growth of the core: 0.0549442599346265\n",
      "growth of the core: 0.021088994684343332\n",
      "growth of the core: 0.012027311554669223\n",
      "growth of the core: 0.007436716369957484\n",
      "growth of the core: 0.004924693584661658\n",
      "growth of the core: 0.003477826730932675\n",
      "growth of the core: 0.002651059234985962\n",
      "growth of the core: 0.0021746161758592194\n",
      "growth of the core: 0.001722073247969052\n",
      "growth of the core: 0.0014788181150457108\n",
      "growth of the core: 0.00127796708617794\n",
      "growth of the core: 0.001060626705762776\n",
      "growth of the core: 0.0009057181672402909\n",
      "growth of the core: 0.0007396944524249106\n",
      "growth of the core: 0.0007045453661760008\n",
      "growth of the core: 0.0006031629934001513\n",
      "growth of the core: 0.0005087833629125903\n",
      "growth of the core: 0.0005190927602829842\n",
      "hit_rate = 0.0785, mrr = 0.0344, coverage = 0.3878\n",
      "####################\n",
      "scaling = 0\n",
      "####################\n",
      "growth of the core: 1.0\n",
      "growth of the core: 0.2513641176103905\n",
      "growth of the core: 0.058047991757175225\n",
      "growth of the core: 0.021523394309793456\n",
      "growth of the core: 0.012756250648012507\n",
      "growth of the core: 0.009408973194215742\n",
      "growth of the core: 0.007038655049724804\n",
      "growth of the core: 0.004657161903669298\n",
      "growth of the core: 0.00290946362162164\n",
      "growth of the core: 0.001871061415665198\n",
      "growth of the core: 0.0011508243551495226\n",
      "growth of the core: 0.0008659690285409918\n",
      "growth of the core: 0.0005580725802126768\n",
      "growth of the core: 0.0004511472002651402\n",
      "growth of the core: 0.0002472895189868844\n",
      "growth of the core: 0.00022855428248945818\n",
      "growth of the core: 0.00014482617799116868\n",
      "growth of the core: 0.00012109921781723215\n",
      "growth of the core: 0.00010409460519919911\n",
      "growth of the core: 8.942770200376276e-05\n",
      "Core is no longer growing. Norm of the core: 2.3384156954141164.\n",
      "hit_rate = 0.0493, mrr = 0.0228, coverage = 0.2488\n",
      "####################\n",
      "scaling = 1\n",
      "####################\n",
      "growth of the core: 1.0\n",
      "growth of the core: 0.3286479453501815\n",
      "growth of the core: 0.10101768722263708\n",
      "growth of the core: 0.03699398445847324\n",
      "growth of the core: 0.017871197822954245\n",
      "growth of the core: 0.010194705353461704\n",
      "growth of the core: 0.006431345313010318\n",
      "growth of the core: 0.0038145336880975383\n",
      "growth of the core: 0.002709264353973673\n",
      "growth of the core: 0.0016621514125837306\n",
      "growth of the core: 0.0011489777632160568\n",
      "growth of the core: 0.0007936463255771033\n",
      "growth of the core: 0.00039289303338869974\n",
      "growth of the core: 0.0004914684678728222\n",
      "growth of the core: 0.0004853679417101913\n",
      "growth of the core: 0.000340306179875128\n",
      "growth of the core: 0.0003135876626856103\n",
      "growth of the core: 0.000156135207411507\n",
      "growth of the core: 0.00023522141682673063\n",
      "growth of the core: 7.368093412008533e-05\n",
      "Core is no longer growing. Norm of the core: 20.133306600652432.\n",
      "hit_rate = 0.0471, mrr = 0.0157, coverage = 0.1603\n",
      "####################\n",
      "scaling = 2\n",
      "####################\n",
      "growth of the core: 1.0\n",
      "growth of the core: 0.4018329595452976\n",
      "growth of the core: 0.06180924712505037\n",
      "growth of the core: 0.013885263498615259\n",
      "growth of the core: 0.0039291013029786395\n",
      "growth of the core: 0.0022696798954345504\n",
      "growth of the core: 0.0008836538579149613\n",
      "growth of the core: 0.0007183440132121981\n",
      "growth of the core: -5.00432790875998e-05\n",
      "Core is no longer growing. Norm of the core: 246.49986411691185.\n",
      "hit_rate = 0.0538, mrr = 0.0197, coverage = 0.1635\n",
      "####################\n",
      "scaling = 3\n",
      "####################\n",
      "growth of the core: 1.0\n",
      "growth of the core: 0.3778942289031168\n",
      "growth of the core: 0.03289130041270127\n",
      "growth of the core: 0.013065236154427827\n",
      "growth of the core: 0.0027590106096806234\n",
      "growth of the core: -0.0029096794229609996\n",
      "Core is no longer growing. Norm of the core: 3513.939741048751.\n",
      "hit_rate = 0.0538, mrr = 0.0189, coverage = 0.1548\n"
     ]
    }
   ],
   "source": [
    "scalings = [-1, 0 , 1, 2, 3]\n",
    "results_for_scaling = []\n",
    "\n",
    "for scaling in scalings:\n",
    "    config = {\n",
    "        #popularity scaling. 1 is factorization without any reweighting\n",
    "        # (no reweighting)\n",
    "        \"scaling\": scaling,\n",
    "\n",
    "        #multilinear rank is smaller tnan 50 that is used for svd\n",
    "        \"mlrank\": (30, 30, 5),\n",
    "        \"n_pos\": n_pos,\n",
    "        \"num_iters\": 20,\n",
    "        \"attention_decay\": 1,\n",
    "        \"randomized\": True,\n",
    "        \"growth_tol\": 1e-4,\n",
    "        \"seed\": 42,\n",
    "        \"iter_callback\":None,\n",
    "        \"exponential_decay\":False\n",
    "    }\n",
    "    \n",
    "    print(\"#\"*20)\n",
    "    print(\"scaling = {}\".format(scaling))\n",
    "    print(\"#\"*20)\n",
    "    tf_params = seqtf_model_build(config, training_data, data_description)\n",
    "    tf_scores = tf_scoring(tf_params, testset_valid, data_description)\n",
    "    downvote_seen_items(tf_scores, testset_valid, data_description)\n",
    "    tf_recs = topn_recommendations(tf_scores, topn=10)\n",
    "    hit_rate, mrr, coverage = np.round(model_evaluate(tf_recs, holdout_valid, data_description), 4)\n",
    "    print(\"hit_rate = {}, mrr = {}, coverage = {}\".format(hit_rate, mrr, coverage))\n",
    "    results_for_scaling.append((hit_rate, mrr, coverage))"
   ]
  },
  {
   "cell_type": "code",
   "execution_count": 47,
   "metadata": {
    "scrolled": true
   },
   "outputs": [
    {
     "name": "stdout",
     "output_type": "stream",
     "text": [
      "####################\n",
      "svd_random_init = True\n",
      "####################\n",
      "growth of the core: 1.0\n",
      "growth of the core: 0.3286479453501815\n",
      "growth of the core: 0.10101768722263708\n",
      "growth of the core: 0.03699398445847324\n",
      "growth of the core: 0.017871197822954245\n",
      "growth of the core: 0.010194705353461704\n",
      "growth of the core: 0.006431345313010318\n",
      "growth of the core: 0.0038145336880975383\n",
      "growth of the core: 0.002709264353973673\n",
      "growth of the core: 0.0016621514125837306\n",
      "growth of the core: 0.0011489777632160568\n",
      "growth of the core: 0.0007936463255771033\n",
      "growth of the core: 0.00039289303338869974\n",
      "growth of the core: 0.0004914684678728222\n",
      "growth of the core: 0.0004853679417101913\n",
      "growth of the core: 0.000340306179875128\n",
      "growth of the core: 0.0003135876626856103\n",
      "growth of the core: 0.000156135207411507\n",
      "growth of the core: 0.00023522141682673063\n",
      "growth of the core: 7.368093412008533e-05\n",
      "Core is no longer growing. Norm of the core: 20.133306600652432.\n",
      "hit_rate = 0.0471, mrr = 0.0157, coverage = 0.1603\n",
      "####################\n",
      "svd_random_init = False\n",
      "####################\n",
      "growth of the core: 1.0\n",
      "growth of the core: 0.32821264243836046\n",
      "growth of the core: 0.10103417474701892\n",
      "growth of the core: 0.037681938254230836\n",
      "growth of the core: 0.017821351396453817\n",
      "growth of the core: 0.0103739642293929\n",
      "growth of the core: 0.006251028249727665\n",
      "growth of the core: 0.0038426049357610926\n",
      "growth of the core: 0.0024804237907367506\n",
      "growth of the core: 0.0016641982044454083\n",
      "growth of the core: 0.0011436676828846045\n",
      "growth of the core: 0.0008069913040817943\n",
      "growth of the core: 0.0005901882025983382\n",
      "growth of the core: 0.0004490548148328496\n",
      "growth of the core: 0.0003541567150474726\n",
      "growth of the core: 0.00028751715172186\n",
      "growth of the core: 0.0002387348916063358\n",
      "growth of the core: 0.00020185607742512522\n",
      "growth of the core: 0.00017337824618427657\n",
      "growth of the core: 0.00015112063461096754\n",
      "hit_rate = 0.046, mrr = 0.016, coverage = 0.1596\n"
     ]
    },
    {
     "name": "stderr",
     "output_type": "stream",
     "text": [
      "/Users/sergeypetrakov/opt/miniconda3/lib/python3.8/site-packages/scipy/sparse/coo.py:431: SparseEfficiencyWarning: Constructing a DIA matrix with 200 diagonals is inefficient\n",
      "  warn(\"Constructing a DIA matrix with %d diagonals \"\n"
     ]
    }
   ],
   "source": [
    "svd_random_inits = [True, False]\n",
    "results_svd_init = []\n",
    "\n",
    "for svd_random_init in svd_random_inits:\n",
    "    config = {\n",
    "        #popularity scaling. 1 is factorization without any reweighting\n",
    "        # (no reweighting)\n",
    "        \"scaling\": 1.0,\n",
    "\n",
    "        #multilinear rank is smaller tnan 50 that is used for svd\n",
    "        \"mlrank\": (30, 30, 5),\n",
    "        \"n_pos\": n_pos,\n",
    "        \"num_iters\": 20,\n",
    "        \"attention_decay\": 1,\n",
    "        \"randomized\": svd_random_init,\n",
    "        \"growth_tol\": 1e-4,\n",
    "        \"seed\": 42,\n",
    "        \"iter_callback\":None,\n",
    "        \"exponential_decay\":False\n",
    "    }\n",
    "    \n",
    "    print(\"#\"*20)\n",
    "    print(\"svd_random_init = {}\".format(svd_random_init))\n",
    "    print(\"#\"*20)\n",
    "    tf_params = seqtf_model_build(config, training_data, data_description)\n",
    "    tf_scores = tf_scoring(tf_params, testset_valid, data_description)\n",
    "    downvote_seen_items(tf_scores, testset_valid, data_description)\n",
    "    tf_recs = topn_recommendations(tf_scores, topn=10)\n",
    "    hit_rate, mrr, coverage = np.round(model_evaluate(tf_recs, holdout_valid, data_description), 4)\n",
    "    print(\"hit_rate = {}, mrr = {}, coverage = {}\".format(hit_rate, mrr, coverage))\n",
    "    results_svd_init.append((hit_rate, mrr, coverage))"
   ]
  },
  {
   "cell_type": "code",
   "execution_count": 48,
   "metadata": {
    "scrolled": true
   },
   "outputs": [
    {
     "name": "stdout",
     "output_type": "stream",
     "text": [
      "####################\n",
      "Linear decay with attention = 0.01\n",
      "####################\n",
      "growth of the core: 1.0\n",
      "growth of the core: 0.26742052151151213\n",
      "growth of the core: 0.06437944297649904\n",
      "growth of the core: 0.029807735725728413\n",
      "growth of the core: 0.017311334858451523\n",
      "growth of the core: 0.010525096185838136\n",
      "growth of the core: 0.0068113809518661516\n",
      "growth of the core: 0.0047649289467411\n",
      "growth of the core: 0.0035404574866147215\n",
      "growth of the core: 0.002721600167670178\n",
      "growth of the core: 0.002125619275345205\n",
      "growth of the core: 0.001671551138022168\n",
      "growth of the core: 0.0013197164463994353\n",
      "growth of the core: 0.00104683334828222\n",
      "growth of the core: 0.0008363730639897012\n",
      "growth of the core: 0.0006751768786852821\n",
      "growth of the core: 0.0005523949174397735\n",
      "growth of the core: 0.0004591310120909309\n",
      "growth of the core: 0.0003882275962949056\n",
      "growth of the core: 0.00033404392817180494\n",
      "hit_rate = 0.0157, mrr = 0.0055, coverage = 0.1422\n",
      "####################\n",
      "Linear decay with attention = 0.1\n",
      "####################\n",
      "growth of the core: 1.0\n",
      "growth of the core: 0.2680728685832089\n",
      "growth of the core: 0.06471350578044771\n",
      "growth of the core: 0.030155494520177566\n",
      "growth of the core: 0.017686481423301217\n",
      "growth of the core: 0.010866203049748238\n",
      "growth of the core: 0.00714868524324765\n",
      "growth of the core: 0.005089579900840969\n",
      "growth of the core: 0.0038358154441744956\n",
      "growth of the core: 0.0029740290696083104\n",
      "growth of the core: 0.002329503298738232\n",
      "growth of the core: 0.0018285573190105005\n",
      "growth of the core: 0.0014353778686330824\n",
      "growth of the core: 0.0011278424993437998\n",
      "growth of the core: 0.0008891753706298419\n",
      "growth of the core: 0.0007054057977609767\n",
      "growth of the core: 0.0005647244401839384\n",
      "growth of the core: 0.00045731360411900606\n",
      "growth of the core: 0.0003752075619687322\n",
      "growth of the core: 0.00031209491907129613\n",
      "hit_rate = 0.0303, mrr = 0.009, coverage = 0.1556\n",
      "####################\n",
      "Linear decay with attention = 1\n",
      "####################\n",
      "growth of the core: 1.0\n",
      "growth of the core: 0.32821264243836046\n",
      "growth of the core: 0.10103417474701858\n",
      "growth of the core: 0.03768193825423121\n",
      "growth of the core: 0.017821351396453817\n",
      "growth of the core: 0.010373964229392543\n",
      "growth of the core: 0.006251028249728378\n",
      "growth of the core: 0.0038426049357602045\n",
      "growth of the core: 0.0024804237907374606\n",
      "growth of the core: 0.0016641982044455848\n",
      "growth of the core: 0.0011436676828840736\n",
      "growth of the core: 0.0008069913040823248\n",
      "growth of the core: 0.0005901882025986915\n",
      "growth of the core: 0.0004490548148317893\n",
      "growth of the core: 0.0003541567150480026\n",
      "growth of the core: 0.00028751715172150677\n",
      "growth of the core: 0.0002387348916061593\n",
      "growth of the core: 0.00020185607742547831\n",
      "growth of the core: 0.0001733782461841001\n",
      "growth of the core: 0.0001511206346113205\n",
      "hit_rate = 0.046, mrr = 0.016, coverage = 0.1596\n",
      "####################\n",
      "Linear decay with attention = 2\n",
      "####################\n",
      "growth of the core: 1.0\n",
      "growth of the core: 0.39365790699982167\n",
      "growth of the core: 0.1229087754790613\n",
      "growth of the core: 0.02623463204483579\n",
      "growth of the core: 0.008977062720284224\n",
      "growth of the core: 0.004252520968130485\n",
      "growth of the core: 0.002652328371606823\n",
      "growth of the core: 0.0018297874414504964\n",
      "growth of the core: 0.0010697893170720852\n",
      "growth of the core: 0.0005688931980963604\n",
      "growth of the core: 0.00041682653265062513\n",
      "growth of the core: 0.0005731120066751188\n",
      "growth of the core: 0.0009745663107758426\n",
      "growth of the core: 0.0015122511503048977\n",
      "growth of the core: 0.002057972804432908\n",
      "growth of the core: 0.002364882169315377\n",
      "growth of the core: 0.0021774589385004125\n",
      "growth of the core: 0.0015666866004526202\n",
      "growth of the core: 0.0008984269524733145\n",
      "growth of the core: 0.00040300795930924113\n",
      "hit_rate = 0.0348, mrr = 0.0076, coverage = 0.169\n",
      "####################\n",
      "Linear decay with attention = 5\n",
      "####################\n",
      "growth of the core: 1.0\n",
      "growth of the core: 0.41802386353766513\n",
      "growth of the core: 0.09219430543103033\n",
      "growth of the core: 0.03164253572796863\n",
      "growth of the core: 0.023305693087841996\n",
      "growth of the core: 0.0153400082726448\n",
      "growth of the core: 0.008654875117708365\n",
      "growth of the core: 0.005270250605498904\n",
      "growth of the core: 0.003336826381416305\n",
      "growth of the core: 0.0023597890596572576\n",
      "growth of the core: 0.0018290820207539436\n",
      "growth of the core: 0.0015178066035196939\n",
      "growth of the core: 0.0013662871134983172\n",
      "growth of the core: 0.0012884460349841663\n",
      "growth of the core: 0.0012066676313903743\n",
      "growth of the core: 0.001114828056122395\n",
      "growth of the core: 0.001035369449361538\n",
      "growth of the core: 0.000978582275363748\n",
      "growth of the core: 0.000942516292595491\n",
      "growth of the core: 0.0009117290448871527\n",
      "hit_rate = 0.037, mrr = 0.0125, coverage = 0.1698\n",
      "####################\n",
      "Linear decay with attention = 10\n",
      "####################\n",
      "growth of the core: 1.0\n",
      "growth of the core: 0.4193048031407962\n",
      "growth of the core: 0.09336594157301634\n",
      "growth of the core: 0.02919367020419105\n",
      "growth of the core: 0.021818192979238503\n",
      "growth of the core: 0.017068715463332707\n",
      "growth of the core: 0.01122176249308885\n",
      "growth of the core: 0.006336421708380075\n",
      "growth of the core: 0.003933798887247902\n",
      "growth of the core: 0.0029277195761564364\n",
      "growth of the core: 0.002617172541674626\n",
      "growth of the core: 0.002834706870152076\n",
      "growth of the core: 0.003415165621777897\n",
      "growth of the core: 0.0038530068182063147\n",
      "growth of the core: 0.0038128506606455344\n",
      "growth of the core: 0.0034379414006060227\n",
      "growth of the core: 0.0028703753068409794\n",
      "growth of the core: 0.002150761271606575\n",
      "growth of the core: 0.0015087130312125279\n",
      "growth of the core: 0.0011112733342983055\n",
      "hit_rate = 0.028, mrr = 0.0073, coverage = 0.1572\n"
     ]
    }
   ],
   "source": [
    "attention_decays_linear = [0.01, 0.1, 1, 2, 5, 10]\n",
    "results_linear_decay = []\n",
    "\n",
    "for attention_decay in attention_decays_linear:\n",
    "    config = {\n",
    "        #popularity scaling. 1 is factorization without any reweighting\n",
    "        # (no reweighting)\n",
    "        \"scaling\": 1.0,\n",
    "\n",
    "        #multilinear rank is smaller tnan 50 that is used for svd\n",
    "        \"mlrank\": (30, 30, 5),\n",
    "        \"n_pos\": n_pos,\n",
    "        \"num_iters\": 20,\n",
    "        \"attention_decay\": attention_decay,\n",
    "        \"randomized\": svd_random_init,\n",
    "        \"growth_tol\": 1e-4,\n",
    "        \"seed\": 42,\n",
    "        \"iter_callback\":None,\n",
    "        \"exponential_decay\":False\n",
    "    }\n",
    "    \n",
    "    print(\"#\"*20)\n",
    "    print(\"Linear decay with attention = {}\".format(attention_decay))\n",
    "    print(\"#\"*20)\n",
    "    tf_params = seqtf_model_build(config, training_data, data_description)\n",
    "    tf_scores = tf_scoring(tf_params, testset_valid, data_description)\n",
    "    downvote_seen_items(tf_scores, testset_valid, data_description)\n",
    "    tf_recs = topn_recommendations(tf_scores, topn=10)\n",
    "    hit_rate, mrr, coverage = np.round(model_evaluate(tf_recs, holdout_valid, data_description), 4)\n",
    "    print(\"hit_rate = {}, mrr = {}, coverage = {}\".format(hit_rate, mrr, coverage))\n",
    "    results_linear_decay.append((hit_rate, mrr, coverage))"
   ]
  },
  {
   "cell_type": "code",
   "execution_count": 49,
   "metadata": {
    "scrolled": true
   },
   "outputs": [
    {
     "name": "stdout",
     "output_type": "stream",
     "text": [
      "####################\n",
      "Exponential decay with attention = 0.0001\n",
      "####################\n",
      "growth of the core: 1.0\n",
      "growth of the core: 0.26736640956186675\n",
      "growth of the core: 0.06441810512226061\n",
      "growth of the core: 0.029828236573066675\n",
      "growth of the core: 0.017315672848917385\n",
      "growth of the core: 0.010524035878465642\n",
      "growth of the core: 0.006803656796430249\n",
      "growth of the core: 0.004752418876778131\n",
      "growth of the core: 0.003525811942683765\n",
      "growth of the core: 0.0027072499320376243\n",
      "growth of the core: 0.0021131534855958847\n",
      "growth of the core: 0.0016616285068272953\n",
      "growth of the core: 0.0013123584462350825\n",
      "growth of the core: 0.001041741804679284\n",
      "growth of the core: 0.0008331408817655467\n",
      "growth of the core: 0.0006734002160474507\n",
      "growth of the core: 0.0005517231545837335\n",
      "growth of the core: 0.0004592828298566356\n",
      "growth of the core: 0.0003889901417254145\n",
      "growth of the core: 0.00033526436346607434\n",
      "hit_rate = 0.0157, mrr = 0.0057, coverage = 0.1453\n",
      "####################\n",
      "Exponential decay with attention = 0.001\n",
      "####################\n",
      "growth of the core: 1.0\n",
      "growth of the core: 0.26743468568156703\n",
      "growth of the core: 0.06495179963653022\n",
      "growth of the core: 0.03030002927066329\n",
      "growth of the core: 0.017696301699887985\n",
      "growth of the core: 0.010814586171864442\n",
      "growth of the core: 0.007021159855394787\n",
      "growth of the core: 0.004917917254561262\n",
      "growth of the core: 0.0036543006089804703\n",
      "growth of the core: 0.0028075998684155613\n",
      "growth of the core: 0.002191130501433813\n",
      "growth of the core: 0.001721723256684674\n",
      "growth of the core: 0.0013582821986955747\n",
      "growth of the core: 0.0010765211671547596\n",
      "growth of the core: 0.0008591804752025822\n",
      "growth of the core: 0.0006925654670021161\n",
      "growth of the core: 0.0005654326470095391\n",
      "growth of the core: 0.00046859787440741444\n",
      "growth of the core: 0.0003946943506037902\n",
      "growth of the core: 0.0003379304253619541\n",
      "hit_rate = 0.0157, mrr = 0.0056, coverage = 0.143\n",
      "####################\n",
      "Exponential decay with attention = 0.01\n",
      "####################\n",
      "growth of the core: 1.0\n",
      "growth of the core: 0.2695640346184888\n",
      "growth of the core: 0.06923601196357543\n",
      "growth of the core: 0.03381712458837138\n",
      "growth of the core: 0.02014243648063893\n",
      "growth of the core: 0.012731950055159286\n",
      "growth of the core: 0.008506082136371508\n",
      "growth of the core: 0.006063167829320519\n",
      "growth of the core: 0.004529798581965425\n",
      "growth of the core: 0.003472409125423616\n",
      "growth of the core: 0.0026939308493821603\n",
      "growth of the core: 0.002099789549174744\n",
      "growth of the core: 0.0016384193049902925\n",
      "growth of the core: 0.001277891744548728\n",
      "growth of the core: 0.000996067055243665\n",
      "growth of the core: 0.0007761977192923859\n",
      "growth of the core: 0.0006050069048027095\n",
      "growth of the core: 0.00047183122818223534\n",
      "growth of the core: 0.000368151679004794\n",
      "growth of the core: 0.00028724326120899135\n",
      "hit_rate = 0.0191, mrr = 0.005, coverage = 0.1382\n",
      "####################\n",
      "Exponential decay with attention = 0.1\n",
      "####################\n",
      "growth of the core: 1.0\n",
      "growth of the core: 0.3055347220535487\n",
      "growth of the core: 0.07403719847053956\n",
      "growth of the core: 0.02996521268206155\n",
      "growth of the core: 0.01649227985452719\n",
      "growth of the core: 0.010344139775231938\n",
      "growth of the core: 0.007000033310418029\n",
      "growth of the core: 0.0049108441889607795\n",
      "growth of the core: 0.0034884571068655402\n",
      "growth of the core: 0.002498577906004325\n",
      "growth of the core: 0.0018138747517248192\n",
      "growth of the core: 0.0013429499607220884\n",
      "growth of the core: 0.001018306562367159\n",
      "growth of the core: 0.0007927808335377096\n",
      "growth of the core: 0.000634703304670281\n",
      "growth of the core: 0.0005229963513490684\n",
      "growth of the core: 0.00044346280849022495\n",
      "growth of the core: 0.00038636540519349817\n",
      "growth of the core: 0.0003449314049775422\n",
      "growth of the core: 0.00031441504712496573\n",
      "hit_rate = 0.0448, mrr = 0.0151, coverage = 0.1596\n",
      "####################\n",
      "Exponential decay with attention = 1\n",
      "####################\n",
      "growth of the core: 1.0\n",
      "growth of the core: 0.4004725342825225\n",
      "growth of the core: 0.09206446982196406\n",
      "growth of the core: 0.021871328397292285\n",
      "growth of the core: 0.013634572360575253\n",
      "growth of the core: 0.01021454926128997\n",
      "growth of the core: 0.006701585670379725\n",
      "growth of the core: 0.004135667500376648\n",
      "growth of the core: 0.0016715537600628361\n",
      "growth of the core: 0.0002785262891170264\n",
      "growth of the core: -0.00026111337467077655\n",
      "Core is no longer growing. Norm of the core: 22.64586868405182.\n",
      "hit_rate = 0.0404, mrr = 0.0115, coverage = 0.1643\n",
      "####################\n",
      "Exponential decay with attention = 2\n",
      "####################\n",
      "growth of the core: 1.0\n",
      "growth of the core: 0.4167093098910995\n",
      "growth of the core: 0.0921259522348474\n",
      "growth of the core: 0.027581232320262567\n",
      "growth of the core: 0.01419276892768044\n",
      "growth of the core: 0.009753854387945161\n",
      "growth of the core: 0.007964735197334115\n",
      "growth of the core: 0.0064107728545499875\n",
      "growth of the core: 0.00436036438993911\n",
      "growth of the core: 0.002880406973353968\n",
      "growth of the core: 0.002125706542114978\n",
      "growth of the core: 0.0017790275459761214\n",
      "growth of the core: 0.0015399182732807187\n",
      "growth of the core: 0.001317477161518545\n",
      "growth of the core: 0.0011656719475118017\n",
      "growth of the core: 0.0010384328090243273\n",
      "growth of the core: 0.0008885912255243097\n",
      "growth of the core: 0.0007398726115393088\n",
      "growth of the core: 0.0006198027937022756\n",
      "growth of the core: 0.0005378700911619215\n",
      "hit_rate = 0.0348, mrr = 0.0096, coverage = 0.1596\n",
      "####################\n",
      "Exponential decay with attention = 5\n",
      "####################\n",
      "growth of the core: 1.0\n",
      "growth of the core: 0.41915668217338375\n",
      "growth of the core: 0.09335785281035269\n",
      "growth of the core: 0.02983038164602065\n",
      "growth of the core: 0.021882769252612476\n",
      "growth of the core: 0.017268002412934573\n",
      "growth of the core: 0.01075954972435677\n",
      "growth of the core: 0.00564454210944005\n",
      "growth of the core: 0.0033427694176807812\n",
      "growth of the core: 0.0022955556719767515\n",
      "growth of the core: 0.001785970790770477\n",
      "growth of the core: 0.0016275969414090918\n",
      "growth of the core: 0.0018116576017842326\n",
      "growth of the core: 0.00236658111306392\n",
      "growth of the core: 0.0031563201071487025\n",
      "growth of the core: 0.0038168300068887775\n",
      "growth of the core: 0.003932375134681817\n",
      "growth of the core: 0.003423038114711217\n",
      "growth of the core: 0.00281190282759207\n",
      "growth of the core: 0.002045140504573975\n",
      "hit_rate = 0.0269, mrr = 0.0083, coverage = 0.1643\n",
      "####################\n",
      "Exponential decay with attention = 10\n",
      "####################\n",
      "growth of the core: 1.0\n"
     ]
    },
    {
     "name": "stderr",
     "output_type": "stream",
     "text": [
      "/Users/sergeypetrakov/opt/miniconda3/lib/python3.8/site-packages/scipy/sparse/coo.py:431: SparseEfficiencyWarning: Constructing a DIA matrix with 150 diagonals is inefficient\n",
      "  warn(\"Constructing a DIA matrix with %d diagonals \"\n"
     ]
    },
    {
     "name": "stdout",
     "output_type": "stream",
     "text": [
      "growth of the core: 0.4193294945035355\n",
      "growth of the core: 0.09337977437964927\n",
      "growth of the core: 0.02907279378229314\n",
      "growth of the core: 0.021797621517428457\n",
      "growth of the core: 0.017006467382212086\n",
      "growth of the core: 0.011326465817619672\n",
      "growth of the core: 0.006492479518035716\n",
      "growth of the core: 0.004042249395239737\n",
      "growth of the core: 0.0030446487283827023\n",
      "growth of the core: 0.0027813609217034094\n",
      "growth of the core: 0.0030516513019278966\n",
      "growth of the core: 0.0036172773982244976\n",
      "growth of the core: 0.003947463463856451\n",
      "growth of the core: 0.0037805985866864794\n",
      "growth of the core: 0.003315647299061761\n",
      "growth of the core: 0.0026886667852343373\n",
      "growth of the core: 0.0019630615078534753\n",
      "growth of the core: 0.0013888463477390919\n",
      "growth of the core: 0.001049225990390419\n",
      "hit_rate = 0.028, mrr = 0.0075, coverage = 0.1556\n"
     ]
    }
   ],
   "source": [
    "attention_decays_exp = [0.0001, 0.001, 0.01, 0.1, 1, 2, 5, 10]\n",
    "results_exp_decay = []\n",
    "\n",
    "for attention_decay in attention_decays_exp:\n",
    "    config = {\n",
    "        #popularity scaling. 1 is factorization without any reweighting\n",
    "        # (no reweighting)\n",
    "        \"scaling\": 1.0,\n",
    "\n",
    "        #multilinear rank is smaller tnan 50 that is used for svd\n",
    "        \"mlrank\": (30, 30, 5),\n",
    "        \"n_pos\": n_pos,\n",
    "        \"num_iters\": 20,\n",
    "        \"attention_decay\": attention_decay,\n",
    "        \"randomized\": svd_random_init,\n",
    "        \"growth_tol\": 1e-4,\n",
    "        \"seed\": 42,\n",
    "        \"iter_callback\":None,\n",
    "        \"exponential_decay\":True\n",
    "    }\n",
    "    \n",
    "    print(\"#\"*20)\n",
    "    print(\"Exponential decay with attention = {}\".format(attention_decay))\n",
    "    print(\"#\"*20)\n",
    "    tf_params = seqtf_model_build(config, training_data, data_description)\n",
    "    tf_scores = tf_scoring(tf_params, testset_valid, data_description)\n",
    "    downvote_seen_items(tf_scores, testset_valid, data_description)\n",
    "    tf_recs = topn_recommendations(tf_scores, topn=10)\n",
    "    hit_rate, mrr, coverage = np.round(model_evaluate(tf_recs, holdout_valid, data_description), 4)\n",
    "    print(\"hit_rate = {}, mrr = {}, coverage = {}\".format(hit_rate, mrr, coverage))\n",
    "    results_exp_decay.append((hit_rate, mrr, coverage))"
   ]
  },
  {
   "cell_type": "markdown",
   "metadata": {},
   "source": [
    "## Quality metrics and exponential decay"
   ]
  },
  {
   "cell_type": "code",
   "execution_count": 50,
   "metadata": {},
   "outputs": [
    {
     "data": {
      "image/png": "[encoded data removed]",
      "text/plain": [
       "<Figure size 864x432 with 2 Axes>"
      ]
     },
     "metadata": {
      "needs_background": "light"
     },
     "output_type": "display_data"
    }
   ],
   "source": [
    "fig, ax1 = plt.subplots(figsize = (12,6))\n",
    "plt.title(\"Exponential decay\")\n",
    "color = 'tab:red'\n",
    "ax1.set_xlabel('attention decay value')\n",
    "ax1.set_ylabel('Hit rate', color=color)\n",
    "ax1.set_xscale(\"log\")\n",
    "ax1.plot(attention_decays_exp, np.array(results_exp_decay)[:,0], color=color)\n",
    "ax1.tick_params(axis='y', labelcolor=color)\n",
    "\n",
    "ax2 = ax1.twinx()  # instantiate a second axes that shares the same x-axis\n",
    "\n",
    "color = 'tab:blue'\n",
    "ax2.set_ylabel('MRR', color=color)  # we already handled the x-label with ax1\n",
    "ax2.plot(attention_decays_exp, np.array(results_exp_decay)[:,1], color=color)\n",
    "ax2.tick_params(axis='y', labelcolor=color)\n",
    "ax2.set_xscale(\"log\")\n",
    "\n",
    "fig.tight_layout()  # otherwise the right y-label is slightly clipped\n",
    "plt.show()"
   ]
  },
  {
   "cell_type": "code",
   "execution_count": 51,
   "metadata": {},
   "outputs": [
    {
     "data": {
      "image/png": "[encoded data removed]",
      "text/plain": [
       "<Figure size 864x432 with 2 Axes>"
      ]
     },
     "metadata": {
      "needs_background": "light"
     },
     "output_type": "display_data"
    }
   ],
   "source": [
    "fig, ax1 = plt.subplots(figsize = (12,6))\n",
    "plt.title(\"Exponential decay\")\n",
    "color = 'tab:red'\n",
    "ax1.set_xlabel('attention decay value')\n",
    "ax1.set_ylabel('Hit rate', color=color)\n",
    "ax1.set_xscale(\"log\")\n",
    "ax1.plot(attention_decays_exp, np.array(results_exp_decay)[:,0], color=color)\n",
    "ax1.tick_params(axis='y', labelcolor=color)\n",
    "\n",
    "ax2 = ax1.twinx()  # instantiate a second axes that shares the same x-axis\n",
    "\n",
    "color = 'tab:blue'\n",
    "ax2.set_ylabel('Coverage', color=color)  # we already handled the x-label with ax1\n",
    "ax2.plot(attention_decays_exp, np.array(results_exp_decay)[:,2], color=color)\n",
    "ax2.tick_params(axis='y', labelcolor=color)\n",
    "ax2.set_xscale(\"log\")\n",
    "\n",
    "fig.tight_layout()  # otherwise the right y-label is slightly clipped\n",
    "plt.show()"
   ]
  },
  {
   "cell_type": "markdown",
   "metadata": {},
   "source": [
    "## Quality metrics and linear decay"
   ]
  },
  {
   "cell_type": "code",
   "execution_count": 52,
   "metadata": {},
   "outputs": [
    {
     "data": {
      "image/png": "[encoded data removed]",
      "text/plain": [
       "<Figure size 864x432 with 2 Axes>"
      ]
     },
     "metadata": {
      "needs_background": "light"
     },
     "output_type": "display_data"
    }
   ],
   "source": [
    "fig, ax1 = plt.subplots(figsize = (12,6))\n",
    "plt.title(\"Linear decay\")\n",
    "color = 'tab:red'\n",
    "ax1.set_xlabel('attention decay value')\n",
    "ax1.set_ylabel('Hit rate', color=color)\n",
    "ax1.set_xscale(\"log\")\n",
    "ax1.plot(attention_decays_linear, np.array(results_linear_decay)[:,0], color=color)\n",
    "ax1.tick_params(axis='y', labelcolor=color)\n",
    "\n",
    "ax2 = ax1.twinx()  # instantiate a second axes that shares the same x-axis\n",
    "\n",
    "color = 'tab:blue'\n",
    "ax2.set_ylabel('MRR', color=color)  # we already handled the x-label with ax1\n",
    "ax2.plot(attention_decays_linear, np.array(results_linear_decay)[:,1], color=color)\n",
    "ax2.tick_params(axis='y', labelcolor=color)\n",
    "ax2.set_xscale(\"log\")\n",
    "\n",
    "fig.tight_layout()  # otherwise the right y-label is slightly clipped\n",
    "plt.show()"
   ]
  },
  {
   "cell_type": "code",
   "execution_count": 53,
   "metadata": {},
   "outputs": [
    {
     "data": {
      "image/png": "[encoded data removed]",
      "text/plain": [
       "<Figure size 864x432 with 2 Axes>"
      ]
     },
     "metadata": {
      "needs_background": "light"
     },
     "output_type": "display_data"
    }
   ],
   "source": [
    "fig, ax1 = plt.subplots(figsize = (12,6))\n",
    "plt.title(\"linear decay\")\n",
    "color = 'tab:red'\n",
    "ax1.set_xlabel('attention decay value')\n",
    "ax1.set_ylabel('Hit rate', color=color)\n",
    "ax1.set_xscale(\"log\")\n",
    "ax1.plot(attention_decays_linear, np.array(results_linear_decay)[:,0], color=color)\n",
    "ax1.tick_params(axis='y', labelcolor=color)\n",
    "\n",
    "ax2 = ax1.twinx()  # instantiate a second axes that shares the same x-axis\n",
    "\n",
    "color = 'tab:blue'\n",
    "ax2.set_ylabel('Coverage', color=color)  # we already handled the x-label with ax1\n",
    "ax2.plot(attention_decays_linear, np.array(results_linear_decay)[:,2], color=color)\n",
    "ax2.tick_params(axis='y', labelcolor=color)\n",
    "ax2.set_xscale(\"log\")\n",
    "\n",
    "fig.tight_layout()  # otherwise the right y-label is slightly clipped\n",
    "plt.show()"
   ]
  },
  {
   "cell_type": "markdown",
   "metadata": {},
   "source": [
    "## SVD random initialization. difference in terms of metrics"
   ]
  },
  {
   "cell_type": "code",
   "execution_count": 54,
   "metadata": {},
   "outputs": [
    {
     "data": {
      "text/plain": [
       "array([ 2.33545648, -1.91082803,  0.43668122])"
      ]
     },
     "execution_count": 54,
     "metadata": {},
     "output_type": "execute_result"
    }
   ],
   "source": [
    "(np.array(results_svd_init)[0,:] - np.array(results_svd_init)[1,:]) / np.array(results_svd_init)[0,:] *100"
   ]
  },
  {
   "cell_type": "markdown",
   "metadata": {},
   "source": [
    "# Scalings"
   ]
  },
  {
   "cell_type": "code",
   "execution_count": 55,
   "metadata": {},
   "outputs": [
    {
     "data": {
      "image/png": "[encoded data removed]",
      "text/plain": [
       "<Figure size 864x432 with 2 Axes>"
      ]
     },
     "metadata": {
      "needs_background": "light"
     },
     "output_type": "display_data"
    }
   ],
   "source": [
    "fig, ax1 = plt.subplots(figsize = (12,6))\n",
    "plt.title(\"Scaling\")\n",
    "color = 'tab:red'\n",
    "ax1.set_xlabel('scale value')\n",
    "ax1.set_ylabel('Hit rate', color=color)\n",
    "\n",
    "ax1.plot(scalings, np.array(results_for_scaling)[:,0], color=color)\n",
    "ax1.tick_params(axis='y', labelcolor=color)\n",
    "\n",
    "ax2 = ax1.twinx()  # instantiate a second axes that shares the same x-axis\n",
    "\n",
    "color = 'tab:blue'\n",
    "ax2.set_ylabel('MRR', color=color)  # we already handled the x-label with ax1\n",
    "ax2.plot(scalings, np.array(results_for_scaling)[:,1], color=color)\n",
    "ax2.tick_params(axis='y', labelcolor=color)\n",
    "\n",
    "\n",
    "fig.tight_layout()  # otherwise the right y-label is slightly clipped\n",
    "plt.show()"
   ]
  },
  {
   "cell_type": "code",
   "execution_count": 56,
   "metadata": {},
   "outputs": [
    {
     "data": {
      "image/png": "[encoded data removed]",
      "text/plain": [
       "<Figure size 864x432 with 2 Axes>"
      ]
     },
     "metadata": {
      "needs_background": "light"
     },
     "output_type": "display_data"
    }
   ],
   "source": [
    "fig, ax1 = plt.subplots(figsize = (12,6))\n",
    "plt.title(\"Scaling\")\n",
    "color = 'tab:red'\n",
    "ax1.set_xlabel('scale value')\n",
    "ax1.set_ylabel('Hit rate', color=color)\n",
    "\n",
    "ax1.plot(scalings, np.array(results_for_scaling)[:,0], color=color)\n",
    "ax1.tick_params(axis='y', labelcolor=color)\n",
    "\n",
    "ax2 = ax1.twinx()  # instantiate a second axes that shares the same x-axis\n",
    "\n",
    "color = 'tab:blue'\n",
    "ax2.set_ylabel('Coverage', color=color)  # we already handled the x-label with ax1\n",
    "ax2.plot(scalings, np.array(results_for_scaling)[:,2], color=color)\n",
    "ax2.tick_params(axis='y', labelcolor=color)\n",
    "\n",
    "\n",
    "fig.tight_layout()  # otherwise the right y-label is slightly clipped\n",
    "plt.show()"
   ]
  },
  {
   "cell_type": "markdown",
   "metadata": {},
   "source": [
    "### Competition between SVD and Tucker "
   ]
  },
  {
   "cell_type": "code",
   "execution_count": 65,
   "metadata": {},
   "outputs": [
    {
     "name": "stdout",
     "output_type": "stream",
     "text": [
      "SVD\n",
      "Hit rate = 0.065, MRR = 0.0252, Coverage = 0.3057\n"
     ]
    }
   ],
   "source": [
    "#SVD\n",
    "agg_results = np.round(np.array(agg_results), 4)\n",
    "print(\"SVD\")\n",
    "print(\"Hit rate = {}, MRR = {}, Coverage = {}\".format(agg_results[0][0], agg_results[0][1], agg_results[0][2]))\n",
    "\n",
    "\n"
   ]
  },
  {
   "cell_type": "code",
   "execution_count": 66,
   "metadata": {
    "scrolled": true
   },
   "outputs": [
    {
     "name": "stdout",
     "output_type": "stream",
     "text": [
      "Tucker\n",
      "Hit rate = 0.0785, MRR = 0.0344, Coverage = 0.3878\n"
     ]
    }
   ],
   "source": [
    "#SVD\n",
    "print(\"Tucker\")\n",
    "print(\"Hit rate = {}, MRR = {}, Coverage = {}\".format(results_for_scaling[0][0], results_for_scaling[0][1], results_for_scaling[0][2]))\n",
    "\n",
    "\n"
   ]
  },
  {
   "cell_type": "code",
   "execution_count": 75,
   "metadata": {},
   "outputs": [],
   "source": [
    "gain = np.round((np.array(results_for_scaling)[0,:] - agg_results) / agg_results, 4)*100"
   ]
  },
  {
   "cell_type": "code",
   "execution_count": 76,
   "metadata": {},
   "outputs": [
    {
     "name": "stdout",
     "output_type": "stream",
     "text": [
      "Gain in metrics usind Tucker after SVD is the following\n",
      "Hit rate = 20.77%, MRR = 36.51%, Coverage = 26.86%\n"
     ]
    }
   ],
   "source": [
    "print(\"Gain in metrics usind Tucker after SVD is the following\")\n",
    "print(\"Hit rate = {}%, MRR = {}%, Coverage = {}%\".format(gain[0][0], gain[0][1], gain[0][2]))"
   ]
  },
  {
   "cell_type": "code",
   "execution_count": null,
   "metadata": {},
   "outputs": [],
   "source": []
  }
 ],
 "metadata": {
  "interpreter": {
   "hash": "009c838d92940ae6fa3c0eca0f0908a58be7fe030119f0cd30e204cb459dcff7"
  },
  "kernelspec": {
   "display_name": "Python 3 (ipykernel)",
   "language": "python",
   "name": "python3"
  },
  "language_info": {
   "codemirror_mode": {
    "name": "ipython",
    "version": 3
   },
   "file_extension": ".py",
   "mimetype": "text/x-python",
   "name": "python",
   "nbconvert_exporter": "python",
   "pygments_lexer": "ipython3",
   "version": "3.8.12"
  }
 },
 "nbformat": 4,
 "nbformat_minor": 2
}
