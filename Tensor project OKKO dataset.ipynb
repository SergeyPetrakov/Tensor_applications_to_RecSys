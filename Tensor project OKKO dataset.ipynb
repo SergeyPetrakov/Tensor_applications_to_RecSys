{
 "cells": [
  {
   "cell_type": "markdown",
   "metadata": {},
   "source": [
    "# Import libraries"
   ]
  },
  {
   "cell_type": "code",
   "execution_count": 1,
   "metadata": {},
   "outputs": [],
   "source": [
    "#!pip install numba"
   ]
  },
  {
   "cell_type": "code",
   "execution_count": 2,
   "metadata": {},
   "outputs": [],
   "source": [
    "import numpy as np\n",
    "import pandas as pd\n",
    "import matplotlib.pyplot as plt\n",
    "\n",
    "# We will use polara framework\n",
    "from polara import get_movielens_data\n",
    "from polara.preprocessing.dataframes import leave_one_out, reindex\n",
    "\n",
    "# sparce matrix packages\n",
    "from scipy.sparse import csr_matrix\n",
    "from scipy.sparse.linalg import svds\n",
    "\n",
    "\n",
    "import warnings\n",
    "from functools import wraps\n",
    "from itertools import takewhile, count, islice\n",
    "\n",
    "\n",
    "from scipy.sparse.linalg import svds\n",
    "from scipy.sparse import diags, SparseEfficiencyWarning\n",
    "from scipy.linalg import solve_banded\n",
    "\n",
    "from polara.lib.sparse import arrange_indices\n",
    "from polara.lib.tensor import ttm3d_seq, ttm3d_par\n",
    "try:\n",
    "    from sklearn.utils.extmath import randomized_svd\n",
    "except ImportError:\n",
    "    randomized_svd = None\n",
    "    \n",
    "    \n",
    "from recommenders.utils.timer import Timer\n",
    "from recommenders.utils.constants import SEED\n",
    "\n",
    "from recommenders.models.cornac.cornac_utils import predict_ranking\n",
    "from recommenders.evaluation.python_evaluation import (\n",
    "    rmse, mae, rsquared, exp_var, map_at_k, ndcg_at_k, precision_at_k, recall_at_k, get_top_k_items\n",
    ")\n",
    "\n",
    "import torch\n",
    "import random\n",
    "random.seed(42)\n",
    "np.random.seed(42)\n",
    "torch.manual_seed(42);\n"
   ]
  },
  {
   "cell_type": "markdown",
   "metadata": {},
   "source": [
    "# Define useful functions"
   ]
  },
  {
   "cell_type": "code",
   "execution_count": 3,
   "metadata": {},
   "outputs": [
    {
     "data": {
      "text/html": [
       "<style type='text/css'>\n",
       ".datatable table.frame { margin-bottom: 0; }\n",
       ".datatable table.frame thead { border-bottom: none; }\n",
       ".datatable table.frame tr.coltypes td {  color: #FFFFFF;  line-height: 6px;  padding: 0 0.5em;}\n",
       ".datatable .bool    { background: #DDDD99; }\n",
       ".datatable .object  { background: #565656; }\n",
       ".datatable .int     { background: #5D9E5D; }\n",
       ".datatable .float   { background: #4040CC; }\n",
       ".datatable .str     { background: #CC4040; }\n",
       ".datatable .time    { background: #40CC40; }\n",
       ".datatable .row_index {  background: var(--jp-border-color3);  border-right: 1px solid var(--jp-border-color0);  color: var(--jp-ui-font-color3);  font-size: 9px;}\n",
       ".datatable .frame tbody td { text-align: left; }\n",
       ".datatable .frame tr.coltypes .row_index {  background: var(--jp-border-color0);}\n",
       ".datatable th:nth-child(2) { padding-left: 12px; }\n",
       ".datatable .hellipsis {  color: var(--jp-cell-editor-border-color);}\n",
       ".datatable .vellipsis {  background: var(--jp-layout-color0);  color: var(--jp-cell-editor-border-color);}\n",
       ".datatable .na {  color: var(--jp-cell-editor-border-color);  font-size: 80%;}\n",
       ".datatable .sp {  opacity: 0.25;}\n",
       ".datatable .footer { font-size: 9px; }\n",
       ".datatable .frame_dimensions {  background: var(--jp-border-color3);  border-top: 1px solid var(--jp-border-color0);  color: var(--jp-ui-font-color3);  display: inline-block;  opacity: 0.6;  padding: 1px 10px 1px 5px;}\n",
       "</style>\n"
      ],
      "text/plain": [
       "<IPython.core.display.HTML object>"
      ]
     },
     "metadata": {},
     "output_type": "display_data"
    }
   ],
   "source": [
    "def transform_indices(data, users, items):\n",
    "    data_index = {}\n",
    "    for entity, field in zip(['users', 'items'], [users, items]):\n",
    "        idx, idx_map = to_numeric_id(data, field)\n",
    "        data_index[entity] = idx_map\n",
    "        data.loc[:, field] = idx\n",
    "    return data, data_index\n",
    "\n",
    "def to_numeric_id(data, field):\n",
    "    idx_data = data[field].astype(\"category\")\n",
    "    idx = idx_data.cat.codes\n",
    "    idx_map = idx_data.cat.categories.rename(field)\n",
    "    return idx, idx_map\n",
    "\n",
    "\n",
    "class SeqTFError(Exception):\n",
    "    pass\n",
    "\n",
    "def initialize_columnwise_orthonormal(dims, random_state=None):\n",
    "    if random_state is None:\n",
    "        random_state = np.random\n",
    "    u = random_state.rand(*dims)\n",
    "    u = np.linalg.qr(u, mode='reduced')[0]\n",
    "    return u\n",
    "\n",
    "\n",
    "def core_growth_callback(growth_tol):\n",
    "    def check_core_growth(step, core_norm, factors):\n",
    "        g_growth = (core_norm - check_core_growth.core_norm) / core_norm\n",
    "        check_core_growth.core_norm = core_norm\n",
    "        print(f'growth of the core: {g_growth}')\n",
    "        if g_growth < growth_tol:\n",
    "            print(f'Core is no longer growing. Norm of the core: {core_norm}.')\n",
    "            raise StopIteration\n",
    "    check_core_growth.core_norm = 0\n",
    "    return check_core_growth\n",
    "\n",
    "\n",
    "def sa_hooi(\n",
    "        idx, val, shape, mlrank, attention_matrix, scaling_weights,\n",
    "        max_iters = 10,\n",
    "        parallel_ttm = False,\n",
    "        growth_tol = 0.001,\n",
    "        randomized=True,\n",
    "        seed = None,\n",
    "        iter_callback=None,\n",
    "    ):\n",
    "    \n",
    "    assert valid_mlrank(mlrank)\n",
    "    n_users, n_items, n_positions = shape\n",
    "    r0, r1, r2 = mlrank\n",
    "    \n",
    "    tensor_data = idx, val, shape\n",
    "    if not isinstance(parallel_ttm, (list, tuple)):\n",
    "        parallel_ttm = [parallel_ttm] * len(shape)\n",
    "\n",
    "    assert len(shape) == len(parallel_ttm)\n",
    "\n",
    "    index_data = arrange_indices(idx, parallel_ttm)\n",
    "    ttm = [ttm3d_par if par else ttm3d_seq for par in parallel_ttm]\n",
    "\n",
    "    random_state = np.random if seed is None else np.random.RandomState(seed)\n",
    "    u1 = initialize_columnwise_orthonormal((n_items, r1), random_state)\n",
    "    uw = u1 * scaling_weights[:, np.newaxis]\n",
    "    u2 = initialize_columnwise_orthonormal((n_positions, r2), random_state)\n",
    "    ua = attention_matrix.dot(u2)\n",
    "\n",
    "    if randomized:\n",
    "        svd = randomized_svd\n",
    "        svd_config = lambda rank: dict(n_components=rank, random_state=seed)\n",
    "    else:\n",
    "        svd = svds\n",
    "        svd_config = lambda rank: dict(k=rank, return_singular_vectors='u')\n",
    "    \n",
    "    if iter_callback is None:\n",
    "        iter_callback = core_growth_callback(growth_tol)\n",
    "        \n",
    "    \n",
    "    for step in range(max_iters):\n",
    "        ttm0 = ttm[0](*tensor_data, ua, uw, ((2, 0), (1, 0)), *index_data[0]).reshape(shape[0], r1*r2)\n",
    "        u0, *_ = svd(ttm0, **svd_config(r0))\n",
    "\n",
    "        ttm1 = ttm[1](*tensor_data, ua, u0, ((2, 0), (0, 0)), *index_data[1]).reshape(shape[1], r0*r2)\n",
    "        u1, *_ = svd(ttm1, **svd_config(r1))\n",
    "        uw = u1 * scaling_weights[:, np.newaxis]\n",
    "        \n",
    "\n",
    "        ttm2 = ttm[2](*tensor_data, uw, u0, ((1, 0), (0, 0)), *index_data[2]).reshape(shape[2], r0*r1)\n",
    "        u2, ss, _ = svd(ttm2, **svd_config(r2))\n",
    "        ua = attention_matrix.dot(u2)\n",
    "\n",
    "        factors = (u0, u1, u2)\n",
    "        try:\n",
    "            iter_callback(step, np.linalg.norm(ss), factors)\n",
    "        except StopIteration:\n",
    "            break\n",
    "    return factors\n",
    "\n",
    "\n",
    "def exp_decay(decay_factor, n):\n",
    "    return np.e**(-(n-1)*decay_factor)\n",
    "\n",
    "def lin_decay(decay_factor, n):\n",
    "    return n**(-decay_factor)\n",
    "\n",
    "\n",
    "\n",
    "def attention_weights(decay_factor, cutoff, max_elements=None, exponential_decay=False, reverse=False):\n",
    "    if (decay_factor == 0 or cutoff == 0) and (max_elements is None or max_elements <= 0):\n",
    "        raise SeqTFError('Infinite sequence.')\n",
    "    decay_function = exp_decay if exponential_decay else lin_decay\n",
    "    weights = takewhile(lambda x: x>=cutoff, (decay_function(decay_factor, n) for n in count(1, 1)))\n",
    "    if max_elements is not None:\n",
    "        weights = islice(weights, max_elements)\n",
    "    if reverse:\n",
    "        return list(reversed(list(weights)))\n",
    "    return list(weights)\n",
    "\n",
    "def form_attention_matrix(size, decay_factor, cutoff=0, span=0, exponential_decay=False, reverse=False, format='csc', stochastic_axis=None, dtype=None):\n",
    "    stochastic = stochastic_axis is not None\n",
    "    span = min(span or np.iinfo('i8').max, size)\n",
    "    weights = attention_weights(decay_factor, cutoff=cutoff, max_elements=span, exponential_decay=exponential_decay, reverse=reverse)\n",
    "    diag_values = [np.broadcast_to(w, size) for w in weights]\n",
    "    matrix = diags(diag_values, offsets=range(0, -len(diag_values), -1), format=format, dtype=dtype)\n",
    "    if stochastic:\n",
    "        scalings = matrix.sum(axis=stochastic_axis).A.squeeze()\n",
    "        if stochastic_axis == 0:\n",
    "            matrix = matrix.dot(diags(1./scalings))\n",
    "        else:\n",
    "            matrix = diags(1./scalings).dot(matrix)\n",
    "    return matrix.asformat(format)\n",
    "\n",
    "\n",
    "def generate_banded_form(matrix):\n",
    "    matrix = matrix.todia()\n",
    "    bands = matrix.data\n",
    "    offsets = matrix.offsets\n",
    "    num_l = (offsets < 0).sum()\n",
    "    num_u = (offsets > 0).sum()\n",
    "    return (num_l, num_u), bands[np.argsort(offsets)[::-1], :]\n",
    "\n",
    "\n",
    "def generate_position_projector(attention_matrix, position_factors):\n",
    "    shape, bands = generate_banded_form(attention_matrix.T)\n",
    "    wl = solve_banded(shape, bands, position_factors)\n",
    "    wr = attention_matrix.dot(position_factors)\n",
    "    last_position_projector = wr @ wl[-1, :]\n",
    "    return last_position_projector\n",
    "\n",
    "\n",
    "def get_scaling_weights(frequencies, scaling=1.0):\n",
    "    return np.power(frequencies, 0.5*(scaling-1.0))\n",
    "\n",
    "\n",
    "def valid_mlrank(mlrank):\n",
    "    prod = np.prod(mlrank)\n",
    "    return all(prod//r > r for r in mlrank)\n",
    "\n",
    "def downvote_seen_items(scores, data, data_description):\n",
    "    userid = data_description['users']\n",
    "    itemid = data_description['items']\n",
    "    # get indices of observed data\n",
    "    user_idx = data[userid].values\n",
    "    item_idx = data[itemid].values\n",
    "    # downvote scores at the corresponding positions\n",
    "    user_idx, _ = pd.factorize(user_idx, sort=True)\n",
    "    seen_idx_flat = np.ravel_multi_index((user_idx, item_idx), scores.shape)\n",
    "    np.put(scores, seen_idx_flat, -np.inf)\n",
    "\n",
    "\n",
    "def topn_recommendations(scores, topn=10):\n",
    "    recommendations = np.apply_along_axis(topidx, 1, scores, topn)\n",
    "    return recommendations\n",
    "\n",
    "\n",
    "def topidx(a, topn):\n",
    "    parted = np.argpartition(a, -topn)[-topn:]\n",
    "    return parted[np.argsort(-a[parted])]\n",
    "\n",
    "\n",
    "def model_evaluate(recommended_items, holdout, holdout_description, topn=10):\n",
    "    itemid = holdout_description['items']\n",
    "    holdout_items = holdout[itemid].values\n",
    "    assert recommended_items.shape[0] == len(holdout_items)\n",
    "    hits_mask = recommended_items[:, :topn] == holdout_items.reshape(-1, 1)\n",
    "    # HR calculation\n",
    "    hr = np.mean(hits_mask.any(axis=1))\n",
    "    # MRR calculation\n",
    "    n_test_users = recommended_items.shape[0]\n",
    "    hit_rank = np.where(hits_mask)[1] + 1.0\n",
    "    mrr = np.sum(1 / hit_rank) / n_test_users\n",
    "    # coverage calculation\n",
    "    n_items = holdout_description['n_items']\n",
    "    cov = np.unique(recommended_items).size / n_items\n",
    "    return hr, mrr, cov\n",
    "\n",
    "from rs_datasets import MovieLens, Rekko"
   ]
  },
  {
   "cell_type": "markdown",
   "metadata": {},
   "source": [
    "# dowloading and preparing data"
   ]
  },
  {
   "cell_type": "code",
   "execution_count": 4,
   "metadata": {},
   "outputs": [
    {
     "name": "stdout",
     "output_type": "stream",
     "text": [
      "transactions\n"
     ]
    },
    {
     "data": {
      "text/html": [
       "<div>\n",
       "<style scoped>\n",
       "    .dataframe tbody tr th:only-of-type {\n",
       "        vertical-align: middle;\n",
       "    }\n",
       "\n",
       "    .dataframe tbody tr th {\n",
       "        vertical-align: top;\n",
       "    }\n",
       "\n",
       "    .dataframe thead th {\n",
       "        text-align: right;\n",
       "    }\n",
       "</style>\n",
       "<table border=\"1\" class=\"dataframe\">\n",
       "  <thead>\n",
       "    <tr style=\"text-align: right;\">\n",
       "      <th></th>\n",
       "      <th>item_id</th>\n",
       "      <th>user_id</th>\n",
       "      <th>consumption_mode</th>\n",
       "      <th>ts</th>\n",
       "      <th>watched_time</th>\n",
       "      <th>device_type</th>\n",
       "      <th>device_manufacturer</th>\n",
       "    </tr>\n",
       "  </thead>\n",
       "  <tbody>\n",
       "    <tr>\n",
       "      <th>0</th>\n",
       "      <td>3336</td>\n",
       "      <td>5177</td>\n",
       "      <td>S</td>\n",
       "      <td>4.430518e+07</td>\n",
       "      <td>4282</td>\n",
       "      <td>0</td>\n",
       "      <td>50</td>\n",
       "    </tr>\n",
       "    <tr>\n",
       "      <th>1</th>\n",
       "      <td>481</td>\n",
       "      <td>593316</td>\n",
       "      <td>S</td>\n",
       "      <td>4.430518e+07</td>\n",
       "      <td>2989</td>\n",
       "      <td>0</td>\n",
       "      <td>11</td>\n",
       "    </tr>\n",
       "    <tr>\n",
       "      <th>2</th>\n",
       "      <td>4128</td>\n",
       "      <td>262355</td>\n",
       "      <td>S</td>\n",
       "      <td>4.430518e+07</td>\n",
       "      <td>833</td>\n",
       "      <td>0</td>\n",
       "      <td>50</td>\n",
       "    </tr>\n",
       "  </tbody>\n",
       "</table>\n",
       "</div>"
      ],
      "text/plain": [
       "   item_id  user_id consumption_mode            ts  watched_time  device_type  \\\n",
       "0     3336     5177                S  4.430518e+07          4282            0   \n",
       "1      481   593316                S  4.430518e+07          2989            0   \n",
       "2     4128   262355                S  4.430518e+07           833            0   \n",
       "\n",
       "   device_manufacturer  \n",
       "0                   50  \n",
       "1                   11  \n",
       "2                   50  "
      ]
     },
     "metadata": {},
     "output_type": "display_data"
    },
    {
     "name": "stdout",
     "output_type": "stream",
     "text": [
      "\n",
      "ratings\n"
     ]
    },
    {
     "data": {
      "text/html": [
       "<div>\n",
       "<style scoped>\n",
       "    .dataframe tbody tr th:only-of-type {\n",
       "        vertical-align: middle;\n",
       "    }\n",
       "\n",
       "    .dataframe tbody tr th {\n",
       "        vertical-align: top;\n",
       "    }\n",
       "\n",
       "    .dataframe thead th {\n",
       "        text-align: right;\n",
       "    }\n",
       "</style>\n",
       "<table border=\"1\" class=\"dataframe\">\n",
       "  <thead>\n",
       "    <tr style=\"text-align: right;\">\n",
       "      <th></th>\n",
       "      <th>user_id</th>\n",
       "      <th>item_id</th>\n",
       "      <th>rating</th>\n",
       "      <th>ts</th>\n",
       "    </tr>\n",
       "  </thead>\n",
       "  <tbody>\n",
       "    <tr>\n",
       "      <th>0</th>\n",
       "      <td>571252</td>\n",
       "      <td>1364</td>\n",
       "      <td>10</td>\n",
       "      <td>4.430517e+07</td>\n",
       "    </tr>\n",
       "    <tr>\n",
       "      <th>1</th>\n",
       "      <td>63140</td>\n",
       "      <td>3037</td>\n",
       "      <td>10</td>\n",
       "      <td>4.430514e+07</td>\n",
       "    </tr>\n",
       "    <tr>\n",
       "      <th>2</th>\n",
       "      <td>443817</td>\n",
       "      <td>4363</td>\n",
       "      <td>8</td>\n",
       "      <td>4.430514e+07</td>\n",
       "    </tr>\n",
       "  </tbody>\n",
       "</table>\n",
       "</div>"
      ],
      "text/plain": [
       "   user_id  item_id  rating            ts\n",
       "0   571252     1364      10  4.430517e+07\n",
       "1    63140     3037      10  4.430514e+07\n",
       "2   443817     4363       8  4.430514e+07"
      ]
     },
     "metadata": {},
     "output_type": "display_data"
    },
    {
     "name": "stdout",
     "output_type": "stream",
     "text": [
      "\n",
      "bookmarks\n"
     ]
    },
    {
     "data": {
      "text/html": [
       "<div>\n",
       "<style scoped>\n",
       "    .dataframe tbody tr th:only-of-type {\n",
       "        vertical-align: middle;\n",
       "    }\n",
       "\n",
       "    .dataframe tbody tr th {\n",
       "        vertical-align: top;\n",
       "    }\n",
       "\n",
       "    .dataframe thead th {\n",
       "        text-align: right;\n",
       "    }\n",
       "</style>\n",
       "<table border=\"1\" class=\"dataframe\">\n",
       "  <thead>\n",
       "    <tr style=\"text-align: right;\">\n",
       "      <th></th>\n",
       "      <th>user_id</th>\n",
       "      <th>item_id</th>\n",
       "      <th>ts</th>\n",
       "    </tr>\n",
       "  </thead>\n",
       "  <tbody>\n",
       "    <tr>\n",
       "      <th>0</th>\n",
       "      <td>301135</td>\n",
       "      <td>7185</td>\n",
       "      <td>4.430516e+07</td>\n",
       "    </tr>\n",
       "    <tr>\n",
       "      <th>1</th>\n",
       "      <td>301135</td>\n",
       "      <td>4083</td>\n",
       "      <td>4.430516e+07</td>\n",
       "    </tr>\n",
       "    <tr>\n",
       "      <th>2</th>\n",
       "      <td>301135</td>\n",
       "      <td>10158</td>\n",
       "      <td>4.430516e+07</td>\n",
       "    </tr>\n",
       "  </tbody>\n",
       "</table>\n",
       "</div>"
      ],
      "text/plain": [
       "   user_id  item_id            ts\n",
       "0   301135     7185  4.430516e+07\n",
       "1   301135     4083  4.430516e+07\n",
       "2   301135    10158  4.430516e+07"
      ]
     },
     "metadata": {},
     "output_type": "display_data"
    },
    {
     "name": "stdout",
     "output_type": "stream",
     "text": [
      "\n"
     ]
    }
   ],
   "source": [
    "rekko = Rekko()\n",
    "rekko.info()"
   ]
  },
  {
   "cell_type": "code",
   "execution_count": 11,
   "metadata": {},
   "outputs": [],
   "source": [
    "data = rekko.ratings.sort_values(['user_id', 'ts'], ascending=[True, True])\n",
    "\n",
    "counts = data.user_id.value_counts()\n",
    "\n",
    "data = data.loc[data.user_id.isin(counts[counts >= 20].index)]\n",
    "data.shape\n",
    "\n",
    "counts = data.item_id.value_counts()\n",
    "\n",
    "data = data.loc[data.item_id.isin(counts[counts >= 20].index)]\n",
    "data.rename(columns = {'user_id':'userid', 'item_id':'movieid', 'ts':'timestamp'}, inplace = True)\n",
    "# ts_split = data.timestamp.quantile(q=0.95, interpolation='nearest')\n",
    "\n",
    "# data_train_ = data.loc[data.timestamp < ts_split].drop(columns='timestamp')\n",
    "# data_test_ = data.loc[(data.timestamp >= ts_split) & (data.userid.isin(data_train.userid.unique()))].drop(columns='timestamp')\n",
    "\n",
    "# data_train.shape, data_test.shape"
   ]
  },
  {
   "cell_type": "code",
   "execution_count": 12,
   "metadata": {},
   "outputs": [],
   "source": [
    "mldata = data"
   ]
  },
  {
   "cell_type": "code",
   "execution_count": 13,
   "metadata": {},
   "outputs": [
    {
     "data": {
      "text/html": [
       "<div>\n",
       "<style scoped>\n",
       "    .dataframe tbody tr th:only-of-type {\n",
       "        vertical-align: middle;\n",
       "    }\n",
       "\n",
       "    .dataframe tbody tr th {\n",
       "        vertical-align: top;\n",
       "    }\n",
       "\n",
       "    .dataframe thead th {\n",
       "        text-align: right;\n",
       "    }\n",
       "</style>\n",
       "<table border=\"1\" class=\"dataframe\">\n",
       "  <thead>\n",
       "    <tr style=\"text-align: right;\">\n",
       "      <th></th>\n",
       "      <th>userid</th>\n",
       "      <th>movieid</th>\n",
       "      <th>rating</th>\n",
       "      <th>timestamp</th>\n",
       "    </tr>\n",
       "  </thead>\n",
       "  <tbody>\n",
       "    <tr>\n",
       "      <th>395385</th>\n",
       "      <td>552</td>\n",
       "      <td>4290</td>\n",
       "      <td>7</td>\n",
       "      <td>4.196448e+07</td>\n",
       "    </tr>\n",
       "    <tr>\n",
       "      <th>363939</th>\n",
       "      <td>552</td>\n",
       "      <td>6209</td>\n",
       "      <td>4</td>\n",
       "      <td>4.213473e+07</td>\n",
       "    </tr>\n",
       "    <tr>\n",
       "      <th>336813</th>\n",
       "      <td>552</td>\n",
       "      <td>6397</td>\n",
       "      <td>7</td>\n",
       "      <td>4.229591e+07</td>\n",
       "    </tr>\n",
       "  </tbody>\n",
       "</table>\n",
       "</div>"
      ],
      "text/plain": [
       "        userid  movieid  rating     timestamp\n",
       "395385     552     4290       7  4.196448e+07\n",
       "363939     552     6209       4  4.213473e+07\n",
       "336813     552     6397       7  4.229591e+07"
      ]
     },
     "execution_count": 13,
     "metadata": {},
     "output_type": "execute_result"
    }
   ],
   "source": [
    "#mldata = get_movielens_data(include_time=True)\n",
    "mldata.head(3)"
   ]
  },
  {
   "cell_type": "markdown",
   "metadata": {},
   "source": [
    "## Data splitting"
   ]
  },
  {
   "cell_type": "code",
   "execution_count": 14,
   "metadata": {},
   "outputs": [],
   "source": [
    "test_timepoint = mldata['timestamp'].quantile(\n",
    "    q=0.95, interpolation='nearest'\n",
    ")\n",
    "\n",
    "test_data_ = mldata.query('timestamp >= @test_timepoint')\n",
    "\n",
    "train_data_ = mldata.query(\n",
    "    'userid not in @test_data_.userid.unique() and timestamp < @test_timepoint'\n",
    ")"
   ]
  },
  {
   "cell_type": "markdown",
   "metadata": {},
   "source": [
    "#### percentage of numerical values in data"
   ]
  },
  {
   "cell_type": "code",
   "execution_count": 15,
   "metadata": {},
   "outputs": [
    {
     "data": {
      "text/plain": [
       "0.020784199216848976"
      ]
     },
     "execution_count": 15,
     "metadata": {},
     "output_type": "execute_result"
    }
   ],
   "source": [
    "train_data_.shape[0] / np.prod(train_data_.nunique().iloc[:2])"
   ]
  },
  {
   "cell_type": "markdown",
   "metadata": {},
   "source": [
    "#### Reindex dataset to drop gaps"
   ]
  },
  {
   "cell_type": "code",
   "execution_count": 16,
   "metadata": {},
   "outputs": [],
   "source": [
    "training, data_index = transform_indices(train_data_.copy(), 'userid', 'movieid')\n",
    "test_data = reindex(test_data_, data_index['items'])\n"
   ]
  },
  {
   "cell_type": "markdown",
   "metadata": {},
   "source": [
    "We sample the last item for each test user.  \n",
    "As all these users are excluded from the training, and training is additionally filtered by timestamp,\n",
    "there will be no \"recommendation from future\" issue - our model is unaware of future correlations.\n"
   ]
  },
  {
   "cell_type": "code",
   "execution_count": 17,
   "metadata": {},
   "outputs": [],
   "source": [
    "testset_, holdout_ = leave_one_out(\n",
    "    test_data, target='timestamp', sample_top=True, random_state=0\n",
    ")\n",
    "testset_valid_, holdout_valid_ = leave_one_out(\n",
    "    testset_, target='timestamp', sample_top=True, random_state=0\n",
    ")"
   ]
  },
  {
   "cell_type": "markdown",
   "metadata": {},
   "source": [
    "Let's focus on validation part."
   ]
  },
  {
   "cell_type": "code",
   "execution_count": 18,
   "metadata": {},
   "outputs": [],
   "source": [
    "test_users = np.intersect1d(testset_valid_.userid.unique(), holdout_valid_.userid.unique())\n",
    "testset_valid = testset_valid_.query('userid in @test_users').sort_values('userid')\n",
    "holdout_valid = holdout_valid_.query('userid in @test_users').sort_values('userid')"
   ]
  },
  {
   "cell_type": "code",
   "execution_count": 19,
   "metadata": {},
   "outputs": [],
   "source": [
    "assert holdout_valid.set_index('userid')['timestamp'].ge(\n",
    "    testset_valid\n",
    "    .groupby('userid')\n",
    "    ['timestamp'].max()\n",
    ").all()"
   ]
  },
  {
   "cell_type": "markdown",
   "metadata": {},
   "source": [
    "## Assigning positional info"
   ]
  },
  {
   "cell_type": "code",
   "execution_count": 20,
   "metadata": {},
   "outputs": [],
   "source": [
    "n_pos = 200"
   ]
  },
  {
   "cell_type": "code",
   "execution_count": 21,
   "metadata": {},
   "outputs": [],
   "source": [
    "def assign_positions(s, maxlen=n_pos):\n",
    "    return np.arange(maxlen-len(s), maxlen)\n"
   ]
  },
  {
   "cell_type": "code",
   "execution_count": 22,
   "metadata": {},
   "outputs": [],
   "source": [
    "training_data = (\n",
    "    training\n",
    "    .sort_values('timestamp')\n",
    "    .assign(\n",
    "        pos = lambda df: df.groupby('userid')['movieid'].transform(assign_positions)\n",
    "    )\n",
    "    .sort_values(['userid', 'timestamp'])\n",
    "    .query('pos>=0')\n",
    ")"
   ]
  },
  {
   "cell_type": "code",
   "execution_count": 23,
   "metadata": {},
   "outputs": [],
   "source": [
    "testset_valid = (\n",
    "    testset_valid\n",
    "    .sort_values('timestamp')\n",
    "    .assign(\n",
    "        pos = lambda df: df.groupby('userid')['movieid'].transform(assign_positions)\n",
    "    )\n",
    "    .sort_values(['userid', 'timestamp'])\n",
    ")"
   ]
  },
  {
   "cell_type": "markdown",
   "metadata": {},
   "source": [
    "### 1 metric = hit rate (this percent with proper recoms, more or less good 10, top score 15-20), 2 = MRR, 3 = coverage (measure of diversity of recomandations, if low => model generates something popular => useless for the user, we want our recomendations to be diverce = how many unique recoms made on test users/total number of items in catalog, popularity 5%)"
   ]
  },
  {
   "cell_type": "markdown",
   "metadata": {},
   "source": [
    "# Sequential TF"
   ]
  },
  {
   "cell_type": "code",
   "execution_count": 24,
   "metadata": {},
   "outputs": [
    {
     "data": {
      "text/plain": [
       "{'users': 'userid',\n",
       " 'items': 'movieid',\n",
       " 'feedback': 'rating',\n",
       " 'positions': 'pos',\n",
       " 'n_users': 1688,\n",
       " 'n_items': 1266,\n",
       " 'n_pos': 200}"
      ]
     },
     "execution_count": 24,
     "metadata": {},
     "output_type": "execute_result"
    }
   ],
   "source": [
    "data_description = dict(\n",
    "    users = data_index['users'].name,\n",
    "    items = data_index['items'].name,\n",
    "    feedback = 'rating',\n",
    "    positions = 'pos',\n",
    "    n_users = len(data_index['users']),\n",
    "    n_items = len(data_index['items']),\n",
    "    n_pos = n_pos\n",
    ")\n",
    "data_description"
   ]
  },
  {
   "cell_type": "markdown",
   "metadata": {},
   "source": [
    "### computing tucker docmositions"
   ]
  },
  {
   "cell_type": "code",
   "execution_count": 25,
   "metadata": {},
   "outputs": [],
   "source": [
    "def seqtf_model_build(config, data, data_description):\n",
    "    userid = data_description[\"users\"]\n",
    "    itemid = data_description[\"items\"]\n",
    "    positions = data_description[\"positions\"]\n",
    "\n",
    "    n_users = data_description[\"n_users\"]\n",
    "    n_items = data_description[\"n_items\"]\n",
    "    max_pos = data_description[\"n_pos\"]\n",
    "    shape = (n_users, n_items, max_pos)\n",
    "\n",
    "    #positional attention\n",
    "    attention_matrix = form_attention_matrix(\n",
    "        size = data_description[\"n_pos\"],\n",
    "        exponential_decay = config[\"exponential_decay\"],\n",
    "        #rule = linear decay\n",
    "        decay_factor = config[\"attention_decay\"],\n",
    "        format = 'csr'\n",
    "    )\n",
    "\n",
    "    # popularity based weighting - to \n",
    "    # combat with low diversity rating\n",
    "    # reweight values in tensors - not binary\n",
    "    # inversely proportional to the popularity of items\n",
    "    # more sensitive to less popular items\n",
    "    # promote less popular items in recoms\n",
    "    \n",
    "    # POpularity based scaling\n",
    "    item_popularity = (\n",
    "        data[itemid]\n",
    "        .value_counts(sort=False)\n",
    "        .reindex(range(n_items))\n",
    "        .fillna(1)\n",
    "        .values\n",
    "    )\n",
    "    \n",
    "    scaling_weights = get_scaling_weights(item_popularity, scaling=config[\"scaling\"])\n",
    "    idx = data[[userid, itemid, positions]].values\n",
    "    val = np.ones(idx.shape[0], dtype='f8')\n",
    "\n",
    "    user_factors, item_factors, feedback_factors = sa_hooi(\n",
    "        # hooi takes into account information about initial tensor\n",
    "        idx, val, shape, config[\"mlrank\"],\n",
    "        # attention matrix\n",
    "        attention_matrix = attention_matrix,\n",
    "        # popularity scaling\n",
    "        scaling_weights = scaling_weights,\n",
    "        max_iters = config[\"num_iters\"],\n",
    "        parallel_ttm = False,\n",
    "        \n",
    "        # randomized svd instead of standart\n",
    "        randomized = config[\"randomized\"],\n",
    "        growth_tol = config[\"growth_tol\"],\n",
    "        seed = config[\"seed\"],\n",
    "        # max hit rate is goal but here we minimize squred error, so idea\n",
    "        # compute hit rate after each iteration, and if subsequent iterations \n",
    "        # do not improve hit rate we stop\n",
    "        \n",
    "        # typically for hit rate requires lower iterations\n",
    "        iter_callback = config[\"iter_callback\"],\n",
    "    )\n",
    "    return user_factors, item_factors, feedback_factors, attention_matrix\n"
   ]
  },
  {
   "cell_type": "code",
   "execution_count": 26,
   "metadata": {},
   "outputs": [],
   "source": [
    "config = {\n",
    "    #popularity scaling. 1 is factorization without any reweighting\n",
    "    # (no reweighting)\n",
    "    \"scaling\": 1,\n",
    "    \n",
    "    #multilinear rank is smaller tnan 50 that is used for svd\n",
    "    \"mlrank\": (30, 30, 5),\n",
    "    \"n_pos\": n_pos,\n",
    "    \"num_iters\": 20,\n",
    "    \"attention_decay\": 1,\n",
    "    \"randomized\": True,\n",
    "    \"growth_tol\": 1e-4,\n",
    "    \"seed\": 42,\n",
    "    \"iter_callback\":None,\n",
    "    \"exponential_decay\":False\n",
    "}"
   ]
  },
  {
   "cell_type": "code",
   "execution_count": 27,
   "metadata": {},
   "outputs": [
    {
     "name": "stdout",
     "output_type": "stream",
     "text": [
      "growth of the core: 1.0\n",
      "growth of the core: 0.33823003700122517\n",
      "growth of the core: 0.0951636768292234\n",
      "growth of the core: 0.033994711263465476\n",
      "growth of the core: 0.014331966433324763\n",
      "growth of the core: 0.007569007046418173\n",
      "growth of the core: 0.0042314023283941665\n",
      "growth of the core: 0.0023096470620106407\n",
      "growth of the core: 0.0014888727840097684\n",
      "growth of the core: 0.0011632392696079707\n",
      "growth of the core: 0.0008722714267248492\n",
      "growth of the core: 0.0008880815686604362\n",
      "growth of the core: 0.00038452682754106014\n",
      "growth of the core: 0.00044491984067621083\n",
      "growth of the core: 0.00011360364152758712\n",
      "growth of the core: 0.00040389936933123166\n",
      "growth of the core: 9.588350602061907e-05\n",
      "Core is no longer growing. Norm of the core: 23.29558588182362.\n"
     ]
    }
   ],
   "source": [
    "tf_params = seqtf_model_build(config, training_data, data_description)"
   ]
  },
  {
   "cell_type": "code",
   "execution_count": 28,
   "metadata": {},
   "outputs": [],
   "source": [
    "def tf_scoring(params, data, data_description):\n",
    "    user_factors, item_factors, pos_factors, attention_matrix = params\n",
    "    last_position_projector = generate_position_projector(attention_matrix, pos_factors)\n",
    "\n",
    "    userid = data_description[\"users\"]\n",
    "    itemid = data_description[\"items\"]\n",
    "    posid = data_description[\"positions\"]\n",
    "\n",
    "    test_data = data.sort_values([userid, posid])\n",
    "    useridx = test_data[userid].values\n",
    "    itemidx = test_data[itemid].values\n",
    "    indptr, = np.where(np.diff(useridx, prepend=0, append=1))\n",
    "    scores = user_scoring(indptr, itemidx, item_factors, last_position_projector)\n",
    "    return scores\n",
    "\n",
    "def user_scoring(indptr, indices, item_factors, last_position_projector):\n",
    "    sequences = np.array_split(indices, indptr[1:-1])\n",
    "    n_items = item_factors.shape[0]\n",
    "    scores = np.zeros((len(sequences), n_items))\n",
    "    for u, seq in enumerate(sequences):\n",
    "        scores[u] = sequences_score(seq, item_factors, last_position_projector)\n",
    "    return scores\n",
    "\n",
    "def sequences_score(seq, item_factors, last_position_projector):\n",
    "    n_pos = len(last_position_projector)\n",
    "    user_profile = item_factors[seq[-(n_pos-1):], :]\n",
    "    n_items = user_profile.shape[0]\n",
    "    \n",
    "    # scores calculation from the slide\n",
    "    scores = item_factors @ (user_profile.T @ last_position_projector[-(n_items+1):-1])\n",
    "    return scores"
   ]
  },
  {
   "cell_type": "code",
   "execution_count": 29,
   "metadata": {},
   "outputs": [
    {
     "name": "stderr",
     "output_type": "stream",
     "text": [
      "/Users/sergeypetrakov/opt/miniconda3/lib/python3.8/site-packages/scipy/sparse/coo.py:431: SparseEfficiencyWarning: Constructing a DIA matrix with 200 diagonals is inefficient\n",
      "  warn(\"Constructing a DIA matrix with %d diagonals \"\n"
     ]
    }
   ],
   "source": [
    "tf_scores = tf_scoring(tf_params, testset_valid, data_description)"
   ]
  },
  {
   "cell_type": "code",
   "execution_count": 30,
   "metadata": {},
   "outputs": [
    {
     "data": {
      "text/plain": [
       "(459, 1266)"
      ]
     },
     "execution_count": 30,
     "metadata": {},
     "output_type": "execute_result"
    }
   ],
   "source": [
    "tf_scores.shape"
   ]
  },
  {
   "cell_type": "code",
   "execution_count": 31,
   "metadata": {},
   "outputs": [],
   "source": [
    "downvote_seen_items(tf_scores, testset_valid, data_description)"
   ]
  },
  {
   "cell_type": "code",
   "execution_count": 32,
   "metadata": {},
   "outputs": [
    {
     "data": {
      "text/plain": [
       "(0.06535947712418301, 0.028100252446657672, 0.14139020537124802)"
      ]
     },
     "execution_count": 32,
     "metadata": {},
     "output_type": "execute_result"
    }
   ],
   "source": [
    "tf_recs = topn_recommendations(tf_scores, topn=10)\n",
    "model_evaluate(tf_recs, holdout_valid, data_description)"
   ]
  },
  {
   "cell_type": "code",
   "execution_count": null,
   "metadata": {},
   "outputs": [],
   "source": []
  },
  {
   "cell_type": "markdown",
   "metadata": {},
   "source": [
    "# Addition experiment"
   ]
  },
  {
   "cell_type": "markdown",
   "metadata": {},
   "source": [
    "## different scalings"
   ]
  },
  {
   "cell_type": "code",
   "execution_count": 33,
   "metadata": {
    "scrolled": true
   },
   "outputs": [
    {
     "name": "stdout",
     "output_type": "stream",
     "text": [
      "####################\n",
      "scaling = -1\n",
      "####################\n",
      "growth of the core: 1.0\n",
      "growth of the core: 0.21308923547311084\n",
      "growth of the core: 0.057995976164510306\n",
      "growth of the core: 0.02442437772083491\n",
      "growth of the core: 0.013944497695376295\n",
      "growth of the core: 0.008355533703926032\n",
      "growth of the core: 0.005137134300232523\n",
      "growth of the core: 0.0032588085394600294\n",
      "growth of the core: 0.002158331029087518\n",
      "growth of the core: 0.0014767687646945688\n",
      "growth of the core: 0.0011157374385206088\n",
      "growth of the core: 0.0008824492123573194\n",
      "growth of the core: 0.0007888536451802798\n",
      "growth of the core: 0.0007343531901060479\n",
      "growth of the core: 0.000697973602465715\n",
      "growth of the core: 0.0007097227658226405\n",
      "growth of the core: 0.0006719316751380249\n",
      "growth of the core: 0.0006925788070209565\n",
      "growth of the core: 0.0006309076231860295\n",
      "growth of the core: 0.0007126454284595485\n",
      "hit_rate = 0.0937, mrr = 0.0385, coverage = 0.3381\n",
      "####################\n",
      "scaling = 0\n",
      "####################\n",
      "growth of the core: 1.0\n",
      "growth of the core: 0.2596842254614278\n",
      "growth of the core: 0.05941259920232472\n",
      "growth of the core: 0.021080529922773716\n",
      "growth of the core: 0.01108053798879121\n",
      "growth of the core: 0.0073199495215517905\n",
      "growth of the core: 0.005423204390496176\n",
      "growth of the core: 0.003867968497419156\n",
      "growth of the core: 0.0026610069923581428\n",
      "growth of the core: 0.0017089795737224793\n",
      "growth of the core: 0.001094047485473841\n",
      "growth of the core: 0.0008143992205707791\n",
      "growth of the core: 0.0006000880624232124\n",
      "growth of the core: 0.0004316539969215962\n",
      "growth of the core: 0.000356805721308994\n",
      "growth of the core: 0.0003158471229249635\n",
      "growth of the core: 0.00024632823067592723\n",
      "growth of the core: 0.0002126062129456882\n",
      "growth of the core: 0.00017849469962208367\n",
      "growth of the core: 0.00018270544015127504\n",
      "hit_rate = 0.0937, mrr = 0.0365, coverage = 0.2188\n",
      "####################\n",
      "scaling = 1\n",
      "####################\n",
      "growth of the core: 1.0\n",
      "growth of the core: 0.33823003700122517\n",
      "growth of the core: 0.0951636768292234\n",
      "growth of the core: 0.033994711263465476\n",
      "growth of the core: 0.014331966433324763\n",
      "growth of the core: 0.007569007046418173\n",
      "growth of the core: 0.0042314023283941665\n",
      "growth of the core: 0.0023096470620106407\n",
      "growth of the core: 0.0014888727840097684\n",
      "growth of the core: 0.0011632392696079707\n",
      "growth of the core: 0.0008722714267248492\n",
      "growth of the core: 0.0008880815686604362\n",
      "growth of the core: 0.00038452682754106014\n",
      "growth of the core: 0.00044491984067621083\n",
      "growth of the core: 0.00011360364152758712\n",
      "growth of the core: 0.00040389936933123166\n",
      "growth of the core: 9.588350602061907e-05\n",
      "Core is no longer growing. Norm of the core: 23.29558588182362.\n",
      "hit_rate = 0.0654, mrr = 0.0281, coverage = 0.1414\n",
      "####################\n",
      "scaling = 2\n",
      "####################\n",
      "growth of the core: 1.0\n",
      "growth of the core: 0.3914378755839105\n",
      "growth of the core: 0.07016440259448788\n",
      "growth of the core: 0.014426674206998294\n",
      "growth of the core: 0.004585875511448588\n",
      "growth of the core: 0.0023794267374472027\n",
      "growth of the core: 0.00206842872450767\n",
      "growth of the core: 0.0014513355919079179\n",
      "growth of the core: 0.00043606675986529073\n",
      "growth of the core: 0.0003807195917591051\n",
      "growth of the core: 0.00033502452879105647\n",
      "growth of the core: 0.0008098160684716798\n",
      "growth of the core: -0.00019269188005057486\n",
      "Core is no longer growing. Norm of the core: 355.15865530023257.\n",
      "hit_rate = 0.0523, mrr = 0.0258, coverage = 0.139\n",
      "####################\n",
      "scaling = 3\n",
      "####################\n",
      "growth of the core: 1.0\n",
      "growth of the core: 0.3753151136797786\n",
      "growth of the core: 0.03660554559809512\n",
      "growth of the core: 0.00944309250449285\n",
      "growth of the core: 0.0026944900600666716\n",
      "growth of the core: -0.0010165144426055289\n",
      "Core is no longer growing. Norm of the core: 6290.247710821292.\n",
      "hit_rate = 0.0479, mrr = 0.0189, coverage = 0.1477\n"
     ]
    }
   ],
   "source": [
    "scalings = [-1, 0 , 1, 2, 3]\n",
    "results_for_scaling = []\n",
    "\n",
    "for scaling in scalings:\n",
    "    config = {\n",
    "        #popularity scaling. 1 is factorization without any reweighting\n",
    "        # (no reweighting)\n",
    "        \"scaling\": scaling,\n",
    "\n",
    "        #multilinear rank is smaller tnan 50 that is used for svd\n",
    "        \"mlrank\": (30, 30, 5),\n",
    "        \"n_pos\": n_pos,\n",
    "        \"num_iters\": 20,\n",
    "        \"attention_decay\": 1,\n",
    "        \"randomized\": True,\n",
    "        \"growth_tol\": 1e-4,\n",
    "        \"seed\": 42,\n",
    "        \"iter_callback\":None,\n",
    "        \"exponential_decay\":False\n",
    "    }\n",
    "    \n",
    "    print(\"#\"*20)\n",
    "    print(\"scaling = {}\".format(scaling))\n",
    "    print(\"#\"*20)\n",
    "    tf_params = seqtf_model_build(config, training_data, data_description)\n",
    "    tf_scores = tf_scoring(tf_params, testset_valid, data_description)\n",
    "    downvote_seen_items(tf_scores, testset_valid, data_description)\n",
    "    tf_recs = topn_recommendations(tf_scores, topn=10)\n",
    "    hit_rate, mrr, coverage = np.round(model_evaluate(tf_recs, holdout_valid, data_description), 4)\n",
    "    print(\"hit_rate = {}, mrr = {}, coverage = {}\".format(hit_rate, mrr, coverage))\n",
    "    results_for_scaling.append((hit_rate, mrr, coverage))"
   ]
  },
  {
   "cell_type": "code",
   "execution_count": 34,
   "metadata": {
    "scrolled": true
   },
   "outputs": [
    {
     "name": "stdout",
     "output_type": "stream",
     "text": [
      "####################\n",
      "scaling = -1\n",
      "####################\n",
      "growth of the core: 1.0\n",
      "growth of the core: 0.21308923547311084\n",
      "growth of the core: 0.057995976164510306\n",
      "growth of the core: 0.02442437772083491\n",
      "growth of the core: 0.013944497695376295\n",
      "growth of the core: 0.008355533703926032\n",
      "growth of the core: 0.005137134300232523\n",
      "growth of the core: 0.0032588085394600294\n",
      "growth of the core: 0.002158331029087518\n",
      "growth of the core: 0.0014767687646945688\n",
      "growth of the core: 0.0011157374385206088\n",
      "growth of the core: 0.0008824492123573194\n",
      "growth of the core: 0.0007888536451802798\n",
      "growth of the core: 0.0007343531901060479\n",
      "growth of the core: 0.000697973602465715\n",
      "growth of the core: 0.0007097227658226405\n",
      "growth of the core: 0.0006719316751380249\n",
      "growth of the core: 0.0006925788070209565\n",
      "growth of the core: 0.0006309076231860295\n",
      "growth of the core: 0.0007126454284595485\n",
      "hit_rate = 0.0937, mrr = 0.0385, coverage = 0.3381\n",
      "####################\n",
      "scaling = 0\n",
      "####################\n",
      "growth of the core: 1.0\n",
      "growth of the core: 0.2596842254614278\n",
      "growth of the core: 0.05941259920232472\n",
      "growth of the core: 0.021080529922773716\n",
      "growth of the core: 0.01108053798879121\n",
      "growth of the core: 0.0073199495215517905\n",
      "growth of the core: 0.005423204390496176\n",
      "growth of the core: 0.003867968497419156\n",
      "growth of the core: 0.0026610069923581428\n",
      "growth of the core: 0.0017089795737224793\n",
      "growth of the core: 0.001094047485473841\n",
      "growth of the core: 0.0008143992205707791\n",
      "growth of the core: 0.0006000880624232124\n",
      "growth of the core: 0.0004316539969215962\n",
      "growth of the core: 0.000356805721308994\n",
      "growth of the core: 0.0003158471229249635\n",
      "growth of the core: 0.00024632823067592723\n",
      "growth of the core: 0.0002126062129456882\n",
      "growth of the core: 0.00017849469962208367\n",
      "growth of the core: 0.00018270544015127504\n",
      "hit_rate = 0.0937, mrr = 0.0365, coverage = 0.2188\n",
      "####################\n",
      "scaling = 1\n",
      "####################\n",
      "growth of the core: 1.0\n",
      "growth of the core: 0.33823003700122517\n",
      "growth of the core: 0.0951636768292234\n",
      "growth of the core: 0.033994711263465476\n",
      "growth of the core: 0.014331966433324763\n",
      "growth of the core: 0.007569007046418173\n",
      "growth of the core: 0.0042314023283941665\n",
      "growth of the core: 0.0023096470620106407\n",
      "growth of the core: 0.0014888727840097684\n",
      "growth of the core: 0.0011632392696079707\n",
      "growth of the core: 0.0008722714267248492\n",
      "growth of the core: 0.0008880815686604362\n",
      "growth of the core: 0.00038452682754106014\n",
      "growth of the core: 0.00044491984067621083\n",
      "growth of the core: 0.00011360364152758712\n",
      "growth of the core: 0.00040389936933123166\n",
      "growth of the core: 9.588350602061907e-05\n",
      "Core is no longer growing. Norm of the core: 23.29558588182362.\n",
      "hit_rate = 0.0654, mrr = 0.0281, coverage = 0.1414\n",
      "####################\n",
      "scaling = 2\n",
      "####################\n",
      "growth of the core: 1.0\n",
      "growth of the core: 0.3914378755839105\n",
      "growth of the core: 0.07016440259448788\n",
      "growth of the core: 0.014426674206998294\n",
      "growth of the core: 0.004585875511448588\n",
      "growth of the core: 0.0023794267374472027\n",
      "growth of the core: 0.00206842872450767\n",
      "growth of the core: 0.0014513355919079179\n",
      "growth of the core: 0.00043606675986529073\n",
      "growth of the core: 0.0003807195917591051\n",
      "growth of the core: 0.00033502452879105647\n",
      "growth of the core: 0.0008098160684716798\n",
      "growth of the core: -0.00019269188005057486\n",
      "Core is no longer growing. Norm of the core: 355.15865530023257.\n",
      "hit_rate = 0.0523, mrr = 0.0258, coverage = 0.139\n",
      "####################\n",
      "scaling = 3\n",
      "####################\n",
      "growth of the core: 1.0\n",
      "growth of the core: 0.3753151136797786\n",
      "growth of the core: 0.03660554559809512\n",
      "growth of the core: 0.00944309250449285\n",
      "growth of the core: 0.0026944900600666716\n",
      "growth of the core: -0.0010165144426055289\n",
      "Core is no longer growing. Norm of the core: 6290.247710821292.\n",
      "hit_rate = 0.0479, mrr = 0.0189, coverage = 0.1477\n"
     ]
    }
   ],
   "source": [
    "scalings = [-1, 0 , 1, 2, 3]\n",
    "results_for_scaling = []\n",
    "\n",
    "for scaling in scalings:\n",
    "    config = {\n",
    "        #popularity scaling. 1 is factorization without any reweighting\n",
    "        # (no reweighting)\n",
    "        \"scaling\": scaling,\n",
    "\n",
    "        #multilinear rank is smaller tnan 50 that is used for svd\n",
    "        \"mlrank\": (30, 30, 5),\n",
    "        \"n_pos\": n_pos,\n",
    "        \"num_iters\": 20,\n",
    "        \"attention_decay\": 1,\n",
    "        \"randomized\": True,\n",
    "        \"growth_tol\": 1e-4,\n",
    "        \"seed\": 42,\n",
    "        \"iter_callback\":None,\n",
    "        \"exponential_decay\":False\n",
    "    }\n",
    "    \n",
    "    print(\"#\"*20)\n",
    "    print(\"scaling = {}\".format(scaling))\n",
    "    print(\"#\"*20)\n",
    "    tf_params = seqtf_model_build(config, training_data, data_description)\n",
    "    tf_scores = tf_scoring(tf_params, testset_valid, data_description)\n",
    "    downvote_seen_items(tf_scores, testset_valid, data_description)\n",
    "    tf_recs = topn_recommendations(tf_scores, topn=10)\n",
    "    hit_rate, mrr, coverage = np.round(model_evaluate(tf_recs, holdout_valid, data_description), 4)\n",
    "    print(\"hit_rate = {}, mrr = {}, coverage = {}\".format(hit_rate, mrr, coverage))\n",
    "    results_for_scaling.append((hit_rate, mrr, coverage))"
   ]
  },
  {
   "cell_type": "code",
   "execution_count": 35,
   "metadata": {
    "scrolled": true
   },
   "outputs": [
    {
     "name": "stdout",
     "output_type": "stream",
     "text": [
      "####################\n",
      "svd_random_init = True\n",
      "####################\n",
      "growth of the core: 1.0\n",
      "growth of the core: 0.33823003700122517\n",
      "growth of the core: 0.0951636768292234\n",
      "growth of the core: 0.033994711263465476\n",
      "growth of the core: 0.014331966433324763\n",
      "growth of the core: 0.007569007046418173\n",
      "growth of the core: 0.0042314023283941665\n",
      "growth of the core: 0.0023096470620106407\n",
      "growth of the core: 0.0014888727840097684\n",
      "growth of the core: 0.0011632392696079707\n",
      "growth of the core: 0.0008722714267248492\n",
      "growth of the core: 0.0008880815686604362\n",
      "growth of the core: 0.00038452682754106014\n",
      "growth of the core: 0.00044491984067621083\n",
      "growth of the core: 0.00011360364152758712\n",
      "growth of the core: 0.00040389936933123166\n",
      "growth of the core: 9.588350602061907e-05\n",
      "Core is no longer growing. Norm of the core: 23.29558588182362.\n",
      "hit_rate = 0.0654, mrr = 0.0281, coverage = 0.1414\n",
      "####################\n",
      "svd_random_init = False\n",
      "####################\n",
      "growth of the core: 1.0\n",
      "growth of the core: 0.33800010004076303\n",
      "growth of the core: 0.09496321010304375\n",
      "growth of the core: 0.03430882377255048\n",
      "growth of the core: 0.014868778839921057\n",
      "growth of the core: 0.007699754902623037\n",
      "growth of the core: 0.00433156913117869\n",
      "growth of the core: 0.00258520507246455\n",
      "growth of the core: 0.0016094868222249364\n",
      "growth of the core: 0.0010439651937614583\n",
      "growth of the core: 0.0007098011301702189\n",
      "growth of the core: 0.0005074874969497982\n",
      "growth of the core: 0.00038105393072970393\n",
      "growth of the core: 0.0002992599515649671\n",
      "growth of the core: 0.000244394491293026\n",
      "growth of the core: 0.00020612515877625528\n",
      "growth of the core: 0.00017828748285370313\n",
      "growth of the core: 0.00015716355151596412\n",
      "growth of the core: 0.00014049899995362852\n",
      "growth of the core: 0.0001269173297612571\n",
      "hit_rate = 0.0654, mrr = 0.0259, coverage = 0.1422\n"
     ]
    },
    {
     "name": "stderr",
     "output_type": "stream",
     "text": [
      "/Users/sergeypetrakov/opt/miniconda3/lib/python3.8/site-packages/scipy/sparse/coo.py:431: SparseEfficiencyWarning: Constructing a DIA matrix with 200 diagonals is inefficient\n",
      "  warn(\"Constructing a DIA matrix with %d diagonals \"\n"
     ]
    }
   ],
   "source": [
    "svd_random_inits = [True, False]\n",
    "results_svd_init = []\n",
    "\n",
    "for svd_random_init in svd_random_inits:\n",
    "    config = {\n",
    "        #popularity scaling. 1 is factorization without any reweighting\n",
    "        # (no reweighting)\n",
    "        \"scaling\": 1.0,\n",
    "\n",
    "        #multilinear rank is smaller tnan 50 that is used for svd\n",
    "        \"mlrank\": (30, 30, 5),\n",
    "        \"n_pos\": n_pos,\n",
    "        \"num_iters\": 20,\n",
    "        \"attention_decay\": 1,\n",
    "        \"randomized\": svd_random_init,\n",
    "        \"growth_tol\": 1e-4,\n",
    "        \"seed\": 42,\n",
    "        \"iter_callback\":None,\n",
    "        \"exponential_decay\":False\n",
    "    }\n",
    "    \n",
    "    print(\"#\"*20)\n",
    "    print(\"svd_random_init = {}\".format(svd_random_init))\n",
    "    print(\"#\"*20)\n",
    "    tf_params = seqtf_model_build(config, training_data, data_description)\n",
    "    tf_scores = tf_scoring(tf_params, testset_valid, data_description)\n",
    "    downvote_seen_items(tf_scores, testset_valid, data_description)\n",
    "    tf_recs = topn_recommendations(tf_scores, topn=10)\n",
    "    hit_rate, mrr, coverage = np.round(model_evaluate(tf_recs, holdout_valid, data_description), 4)\n",
    "    print(\"hit_rate = {}, mrr = {}, coverage = {}\".format(hit_rate, mrr, coverage))\n",
    "    results_svd_init.append((hit_rate, mrr, coverage))"
   ]
  },
  {
   "cell_type": "code",
   "execution_count": 36,
   "metadata": {
    "scrolled": true
   },
   "outputs": [
    {
     "name": "stdout",
     "output_type": "stream",
     "text": [
      "####################\n",
      "Linear decay with attention = 0.01\n",
      "####################\n",
      "growth of the core: 1.0\n",
      "growth of the core: 0.2777198284863232\n",
      "growth of the core: 0.05775558065467085\n",
      "growth of the core: 0.02325874761094859\n",
      "growth of the core: 0.013246119506756585\n",
      "growth of the core: 0.008834802797662926\n",
      "growth of the core: 0.0064505545119211746\n",
      "growth of the core: 0.005008309817085214\n",
      "growth of the core: 0.004009866330216703\n",
      "growth of the core: 0.0032297401416183434\n",
      "growth of the core: 0.0025920188385385335\n",
      "growth of the core: 0.002075088308828187\n",
      "growth of the core: 0.0016654873097138002\n",
      "growth of the core: 0.0013466602561428692\n",
      "growth of the core: 0.0011004806362847877\n",
      "growth of the core: 0.0009102465317587654\n",
      "growth of the core: 0.0007621755194515059\n",
      "growth of the core: 0.0006455953482403534\n",
      "growth of the core: 0.0005525259909768859\n",
      "growth of the core: 0.0004771070875408676\n",
      "hit_rate = 0.0153, mrr = 0.0077, coverage = 0.1256\n",
      "####################\n",
      "Linear decay with attention = 0.1\n",
      "####################\n",
      "growth of the core: 1.0\n",
      "growth of the core: 0.27884513711606096\n",
      "growth of the core: 0.057948616272593075\n",
      "growth of the core: 0.023828931366148737\n",
      "growth of the core: 0.013685589204583987\n",
      "growth of the core: 0.00906230939089699\n",
      "growth of the core: 0.006557447704551252\n",
      "growth of the core: 0.005071519810701279\n",
      "growth of the core: 0.004057869260819079\n",
      "growth of the core: 0.0032670595527810728\n",
      "growth of the core: 0.002616649697370528\n",
      "growth of the core: 0.002085241929944976\n",
      "growth of the core: 0.001661742601876396\n",
      "growth of the core: 0.0013315870298187147\n",
      "growth of the core: 0.0010775063647341988\n",
      "growth of the core: 0.0008827098609843448\n",
      "growth of the core: 0.0007327957941664523\n",
      "growth of the core: 0.0006162994449493782\n",
      "growth of the core: 0.0005245014467357284\n",
      "growth of the core: 0.0004509606203286203\n",
      "hit_rate = 0.0588, mrr = 0.0207, coverage = 0.1422\n",
      "####################\n",
      "Linear decay with attention = 1\n",
      "####################\n",
      "growth of the core: 1.0\n",
      "growth of the core: 0.3380001000407622\n",
      "growth of the core: 0.09496321010304415\n",
      "growth of the core: 0.03430882377255096\n",
      "growth of the core: 0.014868778839921827\n",
      "growth of the core: 0.007699754902623187\n",
      "growth of the core: 0.004331569131177922\n",
      "growth of the core: 0.0025852050724645506\n",
      "growth of the core: 0.0016094868222249366\n",
      "growth of the core: 0.0010439651937614585\n",
      "growth of the core: 0.0007098011301703717\n",
      "growth of the core: 0.0005074874969496456\n",
      "growth of the core: 0.0003810539307306194\n",
      "growth of the core: 0.00029925995156405164\n",
      "growth of the core: 0.0002443944912925685\n",
      "growth of the core: 0.00020612515877610292\n",
      "growth of the core: 0.00017828748285416064\n",
      "growth of the core: 0.00015716355151672634\n",
      "growth of the core: 0.00014049899995362847\n",
      "growth of the core: 0.00012691732976156185\n",
      "hit_rate = 0.0654, mrr = 0.0259, coverage = 0.1422\n",
      "####################\n",
      "Linear decay with attention = 2\n",
      "####################\n",
      "growth of the core: 1.0\n",
      "growth of the core: 0.38957699350832153\n",
      "growth of the core: 0.11509987523422495\n",
      "growth of the core: 0.030403769831595623\n",
      "growth of the core: 0.011502613457050706\n",
      "growth of the core: 0.004533626583975227\n",
      "growth of the core: 0.0013789084271645608\n",
      "growth of the core: 6.688678770022606e-05\n",
      "Core is no longer growing. Norm of the core: 26.386894415629666.\n",
      "hit_rate = 0.0501, mrr = 0.0128, coverage = 0.1461\n",
      "####################\n",
      "Linear decay with attention = 5\n",
      "####################\n",
      "growth of the core: 1.0\n",
      "growth of the core: 0.4080903234964341\n",
      "growth of the core: 0.087698809092398\n",
      "growth of the core: 0.035315162816769496\n",
      "growth of the core: 0.021147437877432347\n",
      "growth of the core: 0.01294389045517947\n",
      "growth of the core: 0.008407517192358773\n",
      "growth of the core: 0.005125295910406679\n",
      "growth of the core: 0.0029873270850745057\n",
      "growth of the core: 0.001831742629443733\n",
      "growth of the core: 0.0012008596166152101\n",
      "growth of the core: 0.0008222979120031395\n",
      "growth of the core: 0.0005850396804368091\n",
      "growth of the core: 0.0004390516557998344\n",
      "growth of the core: 0.00034896550715435087\n",
      "growth of the core: 0.0002863160600606348\n",
      "growth of the core: 0.0002352732501787622\n",
      "growth of the core: 0.00019164803175283047\n",
      "growth of the core: 0.00015553791782374788\n",
      "growth of the core: 0.00012716039080735693\n",
      "hit_rate = 0.0479, mrr = 0.0138, coverage = 0.1517\n",
      "####################\n",
      "Linear decay with attention = 10\n",
      "####################\n",
      "growth of the core: 1.0\n",
      "growth of the core: 0.40929325826269713\n",
      "growth of the core: 0.08777215663339674\n",
      "growth of the core: 0.03497309147673852\n",
      "growth of the core: 0.01897631775125022\n",
      "growth of the core: 0.011504906300370816\n",
      "growth of the core: 0.008896978447386019\n",
      "growth of the core: 0.006673268195362282\n",
      "growth of the core: 0.004694761426337938\n",
      "growth of the core: 0.0032962174975158793\n",
      "growth of the core: 0.0023084291636277956\n",
      "growth of the core: 0.0016054568804220251\n",
      "growth of the core: 0.0011561670873814582\n",
      "growth of the core: 0.000917162409778488\n",
      "growth of the core: 0.000832591347268561\n",
      "growth of the core: 0.000870116916932902\n",
      "growth of the core: 0.0010688137603006205\n",
      "growth of the core: 0.001621832178445528\n",
      "growth of the core: 0.002863681453583674\n",
      "growth of the core: 0.003975112255475007\n",
      "hit_rate = 0.037, mrr = 0.0115, coverage = 0.139\n"
     ]
    }
   ],
   "source": [
    "attention_decays_linear = [0.01, 0.1, 1, 2, 5, 10]\n",
    "results_linear_decay = []\n",
    "\n",
    "for attention_decay in attention_decays_linear:\n",
    "    config = {\n",
    "        #popularity scaling. 1 is factorization without any reweighting\n",
    "        # (no reweighting)\n",
    "        \"scaling\": 1.0,\n",
    "\n",
    "        #multilinear rank is smaller tnan 50 that is used for svd\n",
    "        \"mlrank\": (30, 30, 5),\n",
    "        \"n_pos\": n_pos,\n",
    "        \"num_iters\": 20,\n",
    "        \"attention_decay\": attention_decay,\n",
    "        \"randomized\": svd_random_init,\n",
    "        \"growth_tol\": 1e-4,\n",
    "        \"seed\": 42,\n",
    "        \"iter_callback\":None,\n",
    "        \"exponential_decay\":False\n",
    "    }\n",
    "    \n",
    "    print(\"#\"*20)\n",
    "    print(\"Linear decay with attention = {}\".format(attention_decay))\n",
    "    print(\"#\"*20)\n",
    "    tf_params = seqtf_model_build(config, training_data, data_description)\n",
    "    tf_scores = tf_scoring(tf_params, testset_valid, data_description)\n",
    "    downvote_seen_items(tf_scores, testset_valid, data_description)\n",
    "    tf_recs = topn_recommendations(tf_scores, topn=10)\n",
    "    hit_rate, mrr, coverage = np.round(model_evaluate(tf_recs, holdout_valid, data_description), 4)\n",
    "    print(\"hit_rate = {}, mrr = {}, coverage = {}\".format(hit_rate, mrr, coverage))\n",
    "    results_linear_decay.append((hit_rate, mrr, coverage))"
   ]
  },
  {
   "cell_type": "code",
   "execution_count": 37,
   "metadata": {
    "scrolled": true
   },
   "outputs": [
    {
     "name": "stdout",
     "output_type": "stream",
     "text": [
      "####################\n",
      "Exponential decay with attention = 0.0001\n",
      "####################\n",
      "growth of the core: 1.0\n",
      "growth of the core: 0.2776665839492199\n",
      "growth of the core: 0.057790403080732786\n",
      "growth of the core: 0.023260979196506493\n",
      "growth of the core: 0.013238014270124695\n",
      "growth of the core: 0.008833273254870414\n",
      "growth of the core: 0.006453415115169902\n",
      "growth of the core: 0.005011423458320636\n",
      "growth of the core: 0.004011859249691762\n",
      "growth of the core: 0.003230947272936581\n",
      "growth of the core: 0.0025930703233361992\n",
      "growth of the core: 0.0020764002646965853\n",
      "growth of the core: 0.0016672061470615815\n",
      "growth of the core: 0.0013487484040346778\n",
      "growth of the core: 0.0011028140404654762\n",
      "growth of the core: 0.0009126835268475089\n",
      "growth of the core: 0.000764595116268223\n",
      "growth of the core: 0.0006479125375921229\n",
      "growth of the core: 0.0005546924129092128\n",
      "growth of the core: 0.00047910416647921073\n",
      "hit_rate = 0.0153, mrr = 0.0075, coverage = 0.1272\n",
      "####################\n",
      "Exponential decay with attention = 0.001\n",
      "####################\n",
      "growth of the core: 1.0\n",
      "growth of the core: 0.27822108041569266\n",
      "growth of the core: 0.05814573480528023\n",
      "growth of the core: 0.02374067879610766\n",
      "growth of the core: 0.013567385367220975\n",
      "growth of the core: 0.009034594169231911\n",
      "growth of the core: 0.006575755783506779\n",
      "growth of the core: 0.005093992495268665\n",
      "growth of the core: 0.004072120691871376\n",
      "growth of the core: 0.0032743873855950166\n",
      "growth of the core: 0.002621808699854395\n",
      "growth of the core: 0.0020925992222078473\n",
      "growth of the core: 0.0016735890890872671\n",
      "growth of the core: 0.001348157311578668\n",
      "growth of the core: 0.0010977623030777827\n",
      "growth of the core: 0.0009051452977008761\n",
      "growth of the core: 0.0007559814781321322\n",
      "growth of the core: 0.0006391451588379838\n",
      "growth of the core: 0.0005463128625053131\n",
      "growth of the core: 0.0004713841719224182\n",
      "hit_rate = 0.0196, mrr = 0.0082, coverage = 0.1256\n",
      "####################\n",
      "Exponential decay with attention = 0.01\n",
      "####################\n",
      "growth of the core: 1.0\n",
      "growth of the core: 0.275506734114385\n",
      "growth of the core: 0.06594146689038093\n",
      "growth of the core: 0.030242032159102778\n",
      "growth of the core: 0.017233796530200778\n",
      "growth of the core: 0.011093283026030406\n",
      "growth of the core: 0.0077899079079767584\n",
      "growth of the core: 0.00587191271429706\n",
      "growth of the core: 0.004621043886322099\n",
      "growth of the core: 0.0036902076734521777\n",
      "growth of the core: 0.002931678036433497\n",
      "growth of the core: 0.0023026018043569136\n",
      "growth of the core: 0.0017932710245915219\n",
      "growth of the core: 0.0013941477845462835\n",
      "growth of the core: 0.0010897121811860701\n",
      "growth of the core: 0.0008614072888504665\n",
      "growth of the core: 0.0006913018997783801\n",
      "growth of the core: 0.0005641763029215693\n",
      "growth of the core: 0.0004681319008735486\n",
      "growth of the core: 0.0003943500362167691\n",
      "hit_rate = 0.0566, mrr = 0.0201, coverage = 0.1422\n",
      "####################\n",
      "Exponential decay with attention = 0.1\n",
      "####################\n",
      "growth of the core: 1.0\n",
      "growth of the core: 0.3188030565026931\n",
      "growth of the core: 0.07428232432288273\n",
      "growth of the core: 0.027160059174794086\n",
      "growth of the core: 0.013871366082099663\n",
      "growth of the core: 0.007941910692715323\n",
      "growth of the core: 0.004875803050801397\n",
      "growth of the core: 0.0031269627463629333\n",
      "growth of the core: 0.002044135209396517\n",
      "growth of the core: 0.001343270819613306\n",
      "growth of the core: 0.0008850722434077601\n",
      "growth of the core: 0.0005865821375663528\n",
      "growth of the core: 0.0003931656068902275\n",
      "growth of the core: 0.0002682796857930387\n",
      "growth of the core: 0.00018769297132046969\n",
      "growth of the core: 0.00013551242926392943\n",
      "growth of the core: 0.00010142488813358741\n",
      "growth of the core: 7.881065892714933e-05\n",
      "Core is no longer growing. Norm of the core: 22.32021634095885.\n",
      "hit_rate = 0.0719, mrr = 0.0245, coverage = 0.1445\n",
      "####################\n",
      "Exponential decay with attention = 1\n",
      "####################\n",
      "growth of the core: 1.0\n",
      "growth of the core: 0.39373892399201377\n",
      "growth of the core: 0.10197569622631467\n",
      "growth of the core: 0.028139806813190865\n",
      "growth of the core: 0.008223068843328367\n",
      "growth of the core: 0.0024766534214647157\n",
      "growth of the core: 0.0010593836440329712\n",
      "growth of the core: 0.000750843854583875\n",
      "growth of the core: 0.0006102601986333807\n",
      "growth of the core: 0.0006333506222616476\n",
      "growth of the core: 0.0008237217546960382\n",
      "growth of the core: 0.0012085274551054718\n",
      "growth of the core: 0.0018132807992304308\n",
      "growth of the core: 0.0021317787045906367\n",
      "growth of the core: 0.0016657804974859363\n",
      "growth of the core: 0.0009419032669343836\n",
      "growth of the core: 0.0004212146585471549\n",
      "growth of the core: 0.00018299928165020008\n",
      "growth of the core: 0.00015720314363473612\n",
      "growth of the core: 0.0002194549983548467\n",
      "hit_rate = 0.0131, mrr = 0.0044, coverage = 0.1311\n",
      "####################\n",
      "Exponential decay with attention = 2\n",
      "####################\n",
      "growth of the core: 1.0\n",
      "growth of the core: 0.40541123144101077\n",
      "growth of the core: 0.08880723547581126\n",
      "growth of the core: 0.03301073675010072\n",
      "growth of the core: 0.017771790427561038\n",
      "growth of the core: 0.010392874254461504\n",
      "growth of the core: 0.005740268324867968\n",
      "growth of the core: 0.0032124580951950784\n",
      "growth of the core: 0.001895550898438533\n",
      "growth of the core: 0.0011774521911984313\n",
      "growth of the core: 0.0007319156803994478\n",
      "growth of the core: 0.00046078150721895185\n",
      "growth of the core: 0.0003463843116690994\n",
      "growth of the core: 0.0003591663216186653\n",
      "growth of the core: 0.0003864792781091398\n",
      "growth of the core: 0.0003028605657195042\n",
      "growth of the core: 0.0002019490116677351\n",
      "growth of the core: 0.00019130270279009987\n",
      "growth of the core: 0.0002927338705554183\n",
      "growth of the core: 0.0005297568287041975\n",
      "hit_rate = 0.0283, mrr = 0.0088, coverage = 0.1414\n",
      "####################\n",
      "Exponential decay with attention = 5\n",
      "####################\n",
      "growth of the core: 1.0\n",
      "growth of the core: 0.40912843511428115\n",
      "growth of the core: 0.0877177423159893\n",
      "growth of the core: 0.03491831058764282\n",
      "growth of the core: 0.019398702739347108\n",
      "growth of the core: 0.011952356650279827\n",
      "growth of the core: 0.00921544308466512\n",
      "growth of the core: 0.006567235201454213\n",
      "growth of the core: 0.004211709348017113\n",
      "growth of the core: 0.002722473752037113\n",
      "growth of the core: 0.001866787025718293\n",
      "growth of the core: 0.0013669552846703402\n",
      "growth of the core: 0.001064524400858027\n",
      "growth of the core: 0.0008700601365922129\n",
      "growth of the core: 0.0007132562124104035\n",
      "growth of the core: 0.0005889620329564141\n",
      "growth of the core: 0.0005189758734303159\n",
      "growth of the core: 0.0005140558032750639\n",
      "growth of the core: 0.0005964178995790678\n",
      "growth of the core: 0.0008562639885169063\n",
      "hit_rate = 0.0501, mrr = 0.0133, coverage = 0.1367\n",
      "####################\n",
      "Exponential decay with attention = 10\n",
      "####################\n",
      "growth of the core: 1.0\n"
     ]
    },
    {
     "name": "stderr",
     "output_type": "stream",
     "text": [
      "/Users/sergeypetrakov/opt/miniconda3/lib/python3.8/site-packages/scipy/sparse/coo.py:431: SparseEfficiencyWarning: Constructing a DIA matrix with 150 diagonals is inefficient\n",
      "  warn(\"Constructing a DIA matrix with %d diagonals \"\n"
     ]
    },
    {
     "name": "stdout",
     "output_type": "stream",
     "text": [
      "growth of the core: 0.40932050982349416\n",
      "growth of the core: 0.08777794825506317\n",
      "growth of the core: 0.0349810495855625\n",
      "growth of the core: 0.018912906195458896\n",
      "growth of the core: 0.011445309203482558\n",
      "growth of the core: 0.008859689301774396\n",
      "growth of the core: 0.0066136153653338844\n",
      "growth of the core: 0.004741185472114717\n",
      "growth of the core: 0.0034449499075808166\n",
      "growth of the core: 0.0024379873448533377\n",
      "growth of the core: 0.001684399935737139\n",
      "growth of the core: 0.0012086842025502405\n",
      "growth of the core: 0.0009657235920642762\n",
      "growth of the core: 0.0008941184956948813\n",
      "growth of the core: 0.0009596777770616222\n",
      "growth of the core: 0.001194353960788717\n",
      "growth of the core: 0.0017797914220555487\n",
      "growth of the core: 0.002999469660348107\n",
      "growth of the core: 0.004053276362492503\n",
      "hit_rate = 0.0174, mrr = 0.0045, coverage = 0.1351\n"
     ]
    }
   ],
   "source": [
    "attention_decays_exp = [0.0001, 0.001, 0.01, 0.1, 1, 2, 5, 10]\n",
    "results_exp_decay = []\n",
    "\n",
    "for attention_decay in attention_decays_exp:\n",
    "    config = {\n",
    "        #popularity scaling. 1 is factorization without any reweighting\n",
    "        # (no reweighting)\n",
    "        \"scaling\": 1.0,\n",
    "\n",
    "        #multilinear rank is smaller tnan 50 that is used for svd\n",
    "        \"mlrank\": (30, 30, 5),\n",
    "        \"n_pos\": n_pos,\n",
    "        \"num_iters\": 20,\n",
    "        \"attention_decay\": attention_decay,\n",
    "        \"randomized\": svd_random_init,\n",
    "        \"growth_tol\": 1e-4,\n",
    "        \"seed\": 42,\n",
    "        \"iter_callback\":None,\n",
    "        \"exponential_decay\":True\n",
    "    }\n",
    "    \n",
    "    print(\"#\"*20)\n",
    "    print(\"Exponential decay with attention = {}\".format(attention_decay))\n",
    "    print(\"#\"*20)\n",
    "    tf_params = seqtf_model_build(config, training_data, data_description)\n",
    "    tf_scores = tf_scoring(tf_params, testset_valid, data_description)\n",
    "    downvote_seen_items(tf_scores, testset_valid, data_description)\n",
    "    tf_recs = topn_recommendations(tf_scores, topn=10)\n",
    "    hit_rate, mrr, coverage = np.round(model_evaluate(tf_recs, holdout_valid, data_description), 4)\n",
    "    print(\"hit_rate = {}, mrr = {}, coverage = {}\".format(hit_rate, mrr, coverage))\n",
    "    results_exp_decay.append((hit_rate, mrr, coverage))"
   ]
  },
  {
   "cell_type": "markdown",
   "metadata": {},
   "source": [
    "## Quality metrics and exponential decay"
   ]
  },
  {
   "cell_type": "code",
   "execution_count": 38,
   "metadata": {},
   "outputs": [
    {
     "data": {
      "image/png": "[encoded data removed]",
      "text/plain": [
       "<Figure size 864x432 with 2 Axes>"
      ]
     },
     "metadata": {
      "needs_background": "light"
     },
     "output_type": "display_data"
    }
   ],
   "source": [
    "fig, ax1 = plt.subplots(figsize = (12,6))\n",
    "plt.title(\"Exponential decay\", fontsize = 16)\n",
    "color = 'tab:red'\n",
    "ax1.set_xlabel('attention decay value', fontsize = 16)\n",
    "ax1.set_ylabel('Hit rate', fontsize = 16, color=color)\n",
    "ax1.set_xscale(\"log\")\n",
    "ax1.plot(attention_decays_exp, np.array(results_exp_decay)[:,0], color=color)\n",
    "ax1.tick_params(axis='y', labelcolor=color)\n",
    "\n",
    "ax2 = ax1.twinx()  # instantiate a second axes that shares the same x-axis\n",
    "\n",
    "color = 'tab:blue'\n",
    "ax2.set_ylabel('MRR', fontsize = 16, color=color)  # we already handled the x-label with ax1\n",
    "ax2.plot(attention_decays_exp, np.array(results_exp_decay)[:,1], color=color)\n",
    "ax2.tick_params(axis='y', labelcolor=color)\n",
    "ax2.set_xscale(\"log\")\n",
    "\n",
    "fig.tight_layout()  # otherwise the right y-label is slightly clipped\n",
    "plt.show()"
   ]
  },
  {
   "cell_type": "code",
   "execution_count": 39,
   "metadata": {},
   "outputs": [
    {
     "data": {
      "image/png": "[encoded data removed]",
      "text/plain": [
       "<Figure size 864x432 with 2 Axes>"
      ]
     },
     "metadata": {
      "needs_background": "light"
     },
     "output_type": "display_data"
    }
   ],
   "source": [
    "fig, ax1 = plt.subplots(figsize = (12,6))\n",
    "plt.title(\"Exponential decay\", fontsize = 16)\n",
    "color = 'tab:red'\n",
    "ax1.set_xlabel('attention decay value', fontsize = 16)\n",
    "ax1.set_ylabel('Hit rate', fontsize = 16, color=color)\n",
    "ax1.set_xscale(\"log\")\n",
    "ax1.plot(attention_decays_exp, np.array(results_exp_decay)[:,0], color=color)\n",
    "ax1.tick_params(axis='y', labelcolor=color)\n",
    "\n",
    "ax2 = ax1.twinx()  # instantiate a second axes that shares the same x-axis\n",
    "\n",
    "color = 'tab:blue'\n",
    "ax2.set_ylabel('Coverage', fontsize = 16, color=color)  # we already handled the x-label with ax1\n",
    "ax2.plot(attention_decays_exp, np.array(results_exp_decay)[:,2], color=color)\n",
    "ax2.tick_params(axis='y', labelcolor=color)\n",
    "ax2.set_xscale(\"log\")\n",
    "\n",
    "fig.tight_layout()  # otherwise the right y-label is slightly clipped\n",
    "plt.show()"
   ]
  },
  {
   "cell_type": "markdown",
   "metadata": {},
   "source": [
    "## Quality metrics and linear decay"
   ]
  },
  {
   "cell_type": "code",
   "execution_count": 40,
   "metadata": {},
   "outputs": [
    {
     "data": {
      "image/png": "[encoded data removed]",
      "text/plain": [
       "<Figure size 864x432 with 2 Axes>"
      ]
     },
     "metadata": {
      "needs_background": "light"
     },
     "output_type": "display_data"
    }
   ],
   "source": [
    "fig, ax1 = plt.subplots(figsize = (12,6))\n",
    "plt.title(\"Linear decay\", fontsize = 16)\n",
    "color = 'tab:red'\n",
    "ax1.set_xlabel('attention decay value', fontsize = 16)\n",
    "ax1.set_ylabel('Hit rate', fontsize = 16, color=color)\n",
    "ax1.set_xscale(\"log\")\n",
    "ax1.plot(attention_decays_linear, np.array(results_linear_decay)[:,0], color=color)\n",
    "ax1.tick_params(axis='y', labelcolor=color)\n",
    "\n",
    "ax2 = ax1.twinx()  # instantiate a second axes that shares the same x-axis\n",
    "\n",
    "color = 'tab:blue'\n",
    "ax2.set_ylabel('MRR', fontsize = 16, color=color)  # we already handled the x-label with ax1\n",
    "ax2.plot(attention_decays_linear, np.array(results_linear_decay)[:,1], color=color)\n",
    "ax2.tick_params(axis='y', labelcolor=color)\n",
    "ax2.set_xscale(\"log\")\n",
    "\n",
    "fig.tight_layout()  # otherwise the right y-label is slightly clipped\n",
    "plt.show()"
   ]
  },
  {
   "cell_type": "code",
   "execution_count": 41,
   "metadata": {},
   "outputs": [
    {
     "data": {
      "image/png": "[encoded data removed]",
      "text/plain": [
       "<Figure size 864x432 with 2 Axes>"
      ]
     },
     "metadata": {
      "needs_background": "light"
     },
     "output_type": "display_data"
    }
   ],
   "source": [
    "fig, ax1 = plt.subplots(figsize = (12,6))\n",
    "plt.title(\"linear decay\", fontsize = 16)\n",
    "color = 'tab:red'\n",
    "ax1.set_xlabel('attention decay value', fontsize = 16)\n",
    "ax1.set_ylabel('Hit rate', fontsize = 16, color=color)\n",
    "ax1.set_xscale(\"log\")\n",
    "ax1.plot(attention_decays_linear, np.array(results_linear_decay)[:,0], color=color)\n",
    "ax1.tick_params(axis='y', labelcolor=color)\n",
    "\n",
    "ax2 = ax1.twinx()  # instantiate a second axes that shares the same x-axis\n",
    "\n",
    "color = 'tab:blue'\n",
    "ax2.set_ylabel('Coverage', fontsize = 16, color=color)  # we already handled the x-label with ax1\n",
    "ax2.plot(attention_decays_linear, np.array(results_linear_decay)[:,2], color=color)\n",
    "ax2.tick_params(axis='y', labelcolor=color)\n",
    "ax2.set_xscale(\"log\")\n",
    "\n",
    "fig.tight_layout()  # otherwise the right y-label is slightly clipped\n",
    "plt.show()"
   ]
  },
  {
   "cell_type": "markdown",
   "metadata": {},
   "source": [
    "## SVD random initialization. difference in terms of metrics"
   ]
  },
  {
   "cell_type": "code",
   "execution_count": 42,
   "metadata": {},
   "outputs": [
    {
     "data": {
      "text/plain": [
       "array([ 0.        ,  7.82918149, -0.56577086])"
      ]
     },
     "execution_count": 42,
     "metadata": {},
     "output_type": "execute_result"
    }
   ],
   "source": [
    "(np.array(results_svd_init)[0,:] - np.array(results_svd_init)[1,:]) / np.array(results_svd_init)[0,:] *100"
   ]
  },
  {
   "cell_type": "markdown",
   "metadata": {},
   "source": [
    "# Scalings"
   ]
  },
  {
   "cell_type": "code",
   "execution_count": 43,
   "metadata": {},
   "outputs": [
    {
     "data": {
      "image/png": "[encoded data removed]",
      "text/plain": [
       "<Figure size 864x432 with 2 Axes>"
      ]
     },
     "metadata": {
      "needs_background": "light"
     },
     "output_type": "display_data"
    }
   ],
   "source": [
    "fig, ax1 = plt.subplots(figsize = (12,6))\n",
    "plt.title(\"Scaling\", fontsize = 16)\n",
    "color = 'tab:red'\n",
    "ax1.set_xlabel('scale value', fontsize = 16)\n",
    "ax1.set_ylabel('Hit rate', fontsize = 16, color=color)\n",
    "\n",
    "ax1.plot(scalings, np.array(results_for_scaling)[:,0], color=color)\n",
    "ax1.tick_params(axis='y', labelcolor=color)\n",
    "\n",
    "ax2 = ax1.twinx()  # instantiate a second axes that shares the same x-axis\n",
    "\n",
    "color = 'tab:blue'\n",
    "ax2.set_ylabel('MRR', fontsize = 16, color=color)  # we already handled the x-label with ax1\n",
    "ax2.plot(scalings, np.array(results_for_scaling)[:,1], color=color)\n",
    "ax2.tick_params(axis='y', labelcolor=color)\n",
    "\n",
    "\n",
    "fig.tight_layout()  # otherwise the right y-label is slightly clipped\n",
    "plt.show()"
   ]
  },
  {
   "cell_type": "code",
   "execution_count": 44,
   "metadata": {},
   "outputs": [
    {
     "data": {
      "image/png": "[encoded data removed]",
      "text/plain": [
       "<Figure size 864x432 with 2 Axes>"
      ]
     },
     "metadata": {
      "needs_background": "light"
     },
     "output_type": "display_data"
    }
   ],
   "source": [
    "fig, ax1 = plt.subplots(figsize = (12,6))\n",
    "plt.title(\"Scaling\", fontsize = 16)\n",
    "color = 'tab:red'\n",
    "ax1.set_xlabel('scale value', fontsize = 16)\n",
    "ax1.set_ylabel('Hit rate', fontsize = 16, color=color)\n",
    "\n",
    "ax1.plot(scalings, np.array(results_for_scaling)[:,0], color=color)\n",
    "ax1.tick_params(axis='y', labelcolor=color)\n",
    "\n",
    "ax2 = ax1.twinx()  # instantiate a second axes that shares the same x-axis\n",
    "\n",
    "color = 'tab:blue'\n",
    "ax2.set_ylabel('Coverage', fontsize = 16, color=color)  # we already handled the x-label with ax1\n",
    "ax2.plot(scalings, np.array(results_for_scaling)[:,2], color=color)\n",
    "ax2.tick_params(axis='y', labelcolor=color)\n",
    "\n",
    "\n",
    "fig.tight_layout()  # otherwise the right y-label is slightly clipped\n",
    "plt.show()"
   ]
  },
  {
   "cell_type": "code",
   "execution_count": null,
   "metadata": {},
   "outputs": [],
   "source": []
  },
  {
   "cell_type": "code",
   "execution_count": null,
   "metadata": {},
   "outputs": [],
   "source": []
  },
  {
   "cell_type": "code",
   "execution_count": null,
   "metadata": {},
   "outputs": [],
   "source": []
  }
 ],
 "metadata": {
  "interpreter": {
   "hash": "009c838d92940ae6fa3c0eca0f0908a58be7fe030119f0cd30e204cb459dcff7"
  },
  "kernelspec": {
   "display_name": "Python 3 (ipykernel)",
   "language": "python",
   "name": "python3"
  },
  "language_info": {
   "codemirror_mode": {
    "name": "ipython",
    "version": 3
   },
   "file_extension": ".py",
   "mimetype": "text/x-python",
   "name": "python",
   "nbconvert_exporter": "python",
   "pygments_lexer": "ipython3",
   "version": "3.8.12"
  }
 },
 "nbformat": 4,
 "nbformat_minor": 2
}
